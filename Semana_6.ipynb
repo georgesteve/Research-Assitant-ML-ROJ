{
  "nbformat": 4,
  "nbformat_minor": 0,
  "metadata": {
    "colab": {
      "name": "Semana 6",
      "provenance": [],
      "collapsed_sections": [],
      "authorship_tag": "ABX9TyNgtofiS1TFqg664xOY2PSM",
      "include_colab_link": true
    },
    "kernelspec": {
      "name": "python3",
      "display_name": "Python 3"
    }
  },
  "cells": [
    {
      "cell_type": "markdown",
      "metadata": {
        "id": "view-in-github",
        "colab_type": "text"
      },
      "source": [
        "<a href=\"https://colab.research.google.com/github/georgesteve/Research-Assitant-ML-ROJ/blob/main/Semana_6.ipynb\" target=\"_parent\"><img src=\"https://colab.research.google.com/assets/colab-badge.svg\" alt=\"Open In Colab\"/></a>"
      ]
    },
    {
      "cell_type": "code",
      "metadata": {
        "id": "sK0r3fwMg8te"
      },
      "source": [
        "##"
      ],
      "execution_count": null,
      "outputs": []
    },
    {
      "cell_type": "markdown",
      "metadata": {
        "id": "xYE0hw6Bg-kn"
      },
      "source": [
        "#Analizando causalidad utilizando información mutua"
      ]
    },
    {
      "cell_type": "markdown",
      "metadata": {
        "id": "NzUeDwDkkmGG"
      },
      "source": [
        "##Importando librerías"
      ]
    },
    {
      "cell_type": "code",
      "metadata": {
        "id": "SrUgvWgDkrAL"
      },
      "source": [
        "import os\r\n",
        "import datetime\r\n",
        "\r\n",
        "import IPython\r\n",
        "import IPython.display\r\n",
        "import matplotlib as mpl\r\n",
        "import matplotlib.pyplot as plt\r\n",
        "import numpy as np\r\n",
        "import pandas as pd\r\n",
        "import seaborn as sns\r\n",
        "import tensorflow as tf"
      ],
      "execution_count": 14,
      "outputs": []
    },
    {
      "cell_type": "markdown",
      "metadata": {
        "id": "Xfgs9aIc836v"
      },
      "source": [
        "##Data de Omni web"
      ]
    },
    {
      "cell_type": "code",
      "metadata": {
        "id": "DhfWrbrAiHF_"
      },
      "source": [
        ""
      ],
      "execution_count": null,
      "outputs": []
    },
    {
      "cell_type": "markdown",
      "metadata": {
        "id": "TwHhmeFwjl0s"
      },
      "source": [
        "\r\n",
        "  FORMAT OF THE SUBSETTED FILE\r\n",
        "    \r\n",
        "    ITEMS                      FORMAT   \r\n",
        "     \r\n",
        " 1 Year                          I4        \r\n",
        " 2 Day                           I4        \r\n",
        " 3 Hour                          I3        \r\n",
        " 4 Minute                        I3        \r\n",
        " 5 Field magnitude average, nT   F8.2      \r\n",
        " 6 BX, nT (GSE, GSM)             F8.2      \r\n",
        " 7 BY, nT (GSE)                  F8.2      \r\n",
        " 8 BZ, nT (GSE)                  F8.2      \r\n",
        " 9 Speed, km/s                   F8.1      \r\n",
        "10 Vx Velocity,km/s              F8.1      \r\n",
        "11 Vy Velocity, km/s             F8.1      \r\n",
        "12 Vz Velocity, km/s             F8.1      \r\n",
        "13 Proton Density, n/cc          F7.2      \r\n",
        "14 AE-index, nT                  I6  "
      ]
    },
    {
      "cell_type": "code",
      "metadata": {
        "id": "bvk0n5KWBNja"
      },
      "source": [
        "items=['Year','Day','Hour','Minute','Field magnitude average','BX','BY','BZ','Speed','Vx Velocity','Vy Velocity','Vz Velocity','Proton Density','AE-index']"
      ],
      "execution_count": 2,
      "outputs": []
    },
    {
      "cell_type": "code",
      "metadata": {
        "id": "C2cAcuIwiYwR"
      },
      "source": [
        "import pandas as pd\r\n",
        "\r\n",
        "url=\"https://raw.githubusercontent.com/georgesteve/Research-Assitant-ML-ROJ/main/omni_min_d5x_t2Qrbj.lst.txt\"\r\n",
        "df=pd.read_csv(url,delim_whitespace=True,header=None,names=items)"
      ],
      "execution_count": 8,
      "outputs": []
    },
    {
      "cell_type": "code",
      "metadata": {
        "colab": {
          "base_uri": "https://localhost:8080/"
        },
        "id": "sg7OuS3oCJ1s",
        "outputId": "f9d3bd97-85d2-4af7-8fe8-e33ce3d8022f"
      },
      "source": [
        "df['date_time'] = pd.to_datetime(df['Year']*1000+df['Day'], format='%Y%j')+pd.Series([pd.Timedelta(hours=x) for x in df['Hour']])+pd.Series([pd.Timedelta(minutes=x) for x in df['Minute']])\r\n",
        "print(df['date_time'])"
      ],
      "execution_count": 9,
      "outputs": [
        {
          "output_type": "stream",
          "text": [
            "0       2020-11-01 00:00:00\n",
            "1       2020-11-01 00:01:00\n",
            "2       2020-11-01 00:02:00\n",
            "3       2020-11-01 00:03:00\n",
            "4       2020-11-01 00:04:00\n",
            "                ...        \n",
            "43195   2020-11-30 23:55:00\n",
            "43196   2020-11-30 23:56:00\n",
            "43197   2020-11-30 23:57:00\n",
            "43198   2020-11-30 23:58:00\n",
            "43199   2020-11-30 23:59:00\n",
            "Name: date_time, Length: 43200, dtype: datetime64[ns]\n"
          ],
          "name": "stdout"
        }
      ]
    },
    {
      "cell_type": "code",
      "metadata": {
        "id": "YMP2ZCLbVWLu"
      },
      "source": [
        "df.set_index('date_time', inplace=True)"
      ],
      "execution_count": 10,
      "outputs": []
    },
    {
      "cell_type": "code",
      "metadata": {
        "colab": {
          "base_uri": "https://localhost:8080/",
          "height": 459
        },
        "id": "LtdmxQ5A9CQC",
        "outputId": "e2d3f944-da12-4128-ce0f-92b25fa10369"
      },
      "source": [
        "df.head()"
      ],
      "execution_count": 11,
      "outputs": [
        {
          "output_type": "execute_result",
          "data": {
            "text/html": [
              "<div>\n",
              "<style scoped>\n",
              "    .dataframe tbody tr th:only-of-type {\n",
              "        vertical-align: middle;\n",
              "    }\n",
              "\n",
              "    .dataframe tbody tr th {\n",
              "        vertical-align: top;\n",
              "    }\n",
              "\n",
              "    .dataframe thead th {\n",
              "        text-align: right;\n",
              "    }\n",
              "</style>\n",
              "<table border=\"1\" class=\"dataframe\">\n",
              "  <thead>\n",
              "    <tr style=\"text-align: right;\">\n",
              "      <th></th>\n",
              "      <th>Year</th>\n",
              "      <th>Day</th>\n",
              "      <th>Hour</th>\n",
              "      <th>Minute</th>\n",
              "      <th>Field magnitude average</th>\n",
              "      <th>BX</th>\n",
              "      <th>BY</th>\n",
              "      <th>BZ</th>\n",
              "      <th>Speed</th>\n",
              "      <th>Vx Velocity</th>\n",
              "      <th>Vy Velocity</th>\n",
              "      <th>Vz Velocity</th>\n",
              "      <th>Proton Density</th>\n",
              "      <th>AE-index</th>\n",
              "    </tr>\n",
              "    <tr>\n",
              "      <th>date_time</th>\n",
              "      <th></th>\n",
              "      <th></th>\n",
              "      <th></th>\n",
              "      <th></th>\n",
              "      <th></th>\n",
              "      <th></th>\n",
              "      <th></th>\n",
              "      <th></th>\n",
              "      <th></th>\n",
              "      <th></th>\n",
              "      <th></th>\n",
              "      <th></th>\n",
              "      <th></th>\n",
              "      <th></th>\n",
              "    </tr>\n",
              "  </thead>\n",
              "  <tbody>\n",
              "    <tr>\n",
              "      <th>2020-11-01 00:00:00</th>\n",
              "      <td>2020</td>\n",
              "      <td>306</td>\n",
              "      <td>0</td>\n",
              "      <td>0</td>\n",
              "      <td>4.24</td>\n",
              "      <td>-3.25</td>\n",
              "      <td>1.95</td>\n",
              "      <td>1.89</td>\n",
              "      <td>372.6</td>\n",
              "      <td>-372.4</td>\n",
              "      <td>-9.1</td>\n",
              "      <td>-5.0</td>\n",
              "      <td>5.48</td>\n",
              "      <td>99999</td>\n",
              "    </tr>\n",
              "    <tr>\n",
              "      <th>2020-11-01 00:01:00</th>\n",
              "      <td>2020</td>\n",
              "      <td>306</td>\n",
              "      <td>0</td>\n",
              "      <td>1</td>\n",
              "      <td>4.34</td>\n",
              "      <td>-3.32</td>\n",
              "      <td>2.29</td>\n",
              "      <td>1.60</td>\n",
              "      <td>99999.9</td>\n",
              "      <td>99999.9</td>\n",
              "      <td>99999.9</td>\n",
              "      <td>99999.9</td>\n",
              "      <td>999.99</td>\n",
              "      <td>99999</td>\n",
              "    </tr>\n",
              "    <tr>\n",
              "      <th>2020-11-01 00:02:00</th>\n",
              "      <td>2020</td>\n",
              "      <td>306</td>\n",
              "      <td>0</td>\n",
              "      <td>2</td>\n",
              "      <td>4.17</td>\n",
              "      <td>-3.06</td>\n",
              "      <td>2.73</td>\n",
              "      <td>0.72</td>\n",
              "      <td>376.9</td>\n",
              "      <td>-376.1</td>\n",
              "      <td>-21.1</td>\n",
              "      <td>13.5</td>\n",
              "      <td>5.03</td>\n",
              "      <td>99999</td>\n",
              "    </tr>\n",
              "    <tr>\n",
              "      <th>2020-11-01 00:03:00</th>\n",
              "      <td>2020</td>\n",
              "      <td>306</td>\n",
              "      <td>0</td>\n",
              "      <td>3</td>\n",
              "      <td>4.22</td>\n",
              "      <td>-3.12</td>\n",
              "      <td>2.71</td>\n",
              "      <td>0.79</td>\n",
              "      <td>376.9</td>\n",
              "      <td>-376.1</td>\n",
              "      <td>-21.1</td>\n",
              "      <td>13.5</td>\n",
              "      <td>5.03</td>\n",
              "      <td>99999</td>\n",
              "    </tr>\n",
              "    <tr>\n",
              "      <th>2020-11-01 00:04:00</th>\n",
              "      <td>2020</td>\n",
              "      <td>306</td>\n",
              "      <td>0</td>\n",
              "      <td>4</td>\n",
              "      <td>4.28</td>\n",
              "      <td>-2.95</td>\n",
              "      <td>2.55</td>\n",
              "      <td>1.55</td>\n",
              "      <td>372.6</td>\n",
              "      <td>-372.1</td>\n",
              "      <td>-16.7</td>\n",
              "      <td>9.3</td>\n",
              "      <td>5.48</td>\n",
              "      <td>99999</td>\n",
              "    </tr>\n",
              "  </tbody>\n",
              "</table>\n",
              "</div>"
            ],
            "text/plain": [
              "                     Year  Day  Hour  ...  Vz Velocity  Proton Density  AE-index\n",
              "date_time                             ...                                       \n",
              "2020-11-01 00:00:00  2020  306     0  ...         -5.0            5.48     99999\n",
              "2020-11-01 00:01:00  2020  306     0  ...      99999.9          999.99     99999\n",
              "2020-11-01 00:02:00  2020  306     0  ...         13.5            5.03     99999\n",
              "2020-11-01 00:03:00  2020  306     0  ...         13.5            5.03     99999\n",
              "2020-11-01 00:04:00  2020  306     0  ...          9.3            5.48     99999\n",
              "\n",
              "[5 rows x 14 columns]"
            ]
          },
          "metadata": {
            "tags": []
          },
          "execution_count": 11
        }
      ]
    },
    {
      "cell_type": "code",
      "metadata": {
        "colab": {
          "base_uri": "https://localhost:8080/"
        },
        "id": "ta3YOgEp9FTy",
        "outputId": "eca08894-95ac-4720-959f-d59ca39bcbe6"
      },
      "source": [
        "df.describe"
      ],
      "execution_count": 12,
      "outputs": [
        {
          "output_type": "execute_result",
          "data": {
            "text/plain": [
              "<bound method NDFrame.describe of                      Year  Day  Hour  ...  Vz Velocity  Proton Density  AE-index\n",
              "date_time                             ...                                       \n",
              "2020-11-01 00:00:00  2020  306     0  ...         -5.0            5.48     99999\n",
              "2020-11-01 00:01:00  2020  306     0  ...      99999.9          999.99     99999\n",
              "2020-11-01 00:02:00  2020  306     0  ...         13.5            5.03     99999\n",
              "2020-11-01 00:03:00  2020  306     0  ...         13.5            5.03     99999\n",
              "2020-11-01 00:04:00  2020  306     0  ...          9.3            5.48     99999\n",
              "...                   ...  ...   ...  ...          ...             ...       ...\n",
              "2020-11-30 23:55:00  2020  335    23  ...        -18.2            0.79     99999\n",
              "2020-11-30 23:56:00  2020  335    23  ...         -5.8            0.84     99999\n",
              "2020-11-30 23:57:00  2020  335    23  ...        -14.2            0.84     99999\n",
              "2020-11-30 23:58:00  2020  335    23  ...        -15.3            0.84     99999\n",
              "2020-11-30 23:59:00  2020  335    23  ...        -14.7            0.69     99999\n",
              "\n",
              "[43200 rows x 14 columns]>"
            ]
          },
          "metadata": {
            "tags": []
          },
          "execution_count": 12
        }
      ]
    },
    {
      "cell_type": "code",
      "metadata": {
        "colab": {
          "base_uri": "https://localhost:8080/",
          "height": 503
        },
        "id": "VFYPDBzY9IX3",
        "outputId": "2faab796-f51b-4da1-9f06-ee4e5a1dd12b"
      },
      "source": [
        "df_std = (df - df.mean()) / df.std()\r\n",
        "df_std = df_std.melt(var_name='Column', value_name='Normalized')\r\n",
        "plt.figure(figsize=(12, 6))\r\n",
        "ax = sns.violinplot(x='Column', y='Normalized', data=df_std)\r\n",
        "_ = ax.set_xticklabels(df.keys(), rotation=90)"
      ],
      "execution_count": 15,
      "outputs": [
        {
          "output_type": "display_data",
          "data": {
            "image/png": "[encoded data removed]",
            "text/plain": [
              "<Figure size 864x432 with 1 Axes>"
            ]
          },
          "metadata": {
            "tags": [],
            "needs_background": "light"
          }
        }
      ]
    },
    {
      "cell_type": "markdown",
      "metadata": {
        "id": "oEuLbcfz9L4L"
      },
      "source": [
        "### Analizando estacionalidad (Seasonality)"
      ]
    },
    {
      "cell_type": "code",
      "metadata": {
        "colab": {
          "base_uri": "https://localhost:8080/",
          "height": 283
        },
        "id": "y-7HjlUu9OA5",
        "outputId": "0d6c495d-3c55-43d9-fb78-f8ca74c46472"
      },
      "source": [
        "#Este cpodigo aún debe ser adaptdo, en este punto existen \"n\" muestras para cada observación, además \"n\" es variable\r\n",
        "fft = tf.signal.rfft(df['Hour'])\r\n",
        "f_per_dataset = np.arange(0, len(fft))\r\n",
        "\r\n",
        "n_samples_5min = len(df['Hour'])\r\n",
        "hours_per_year = 24*365.2524*60\r\n",
        "years_per_dataset = n_samples_5min/(hours_per_year)\r\n",
        "\r\n",
        "\r\n",
        "f_per_year = f_per_dataset/years_per_dataset\r\n",
        "\r\n",
        "\r\n",
        "\r\n",
        "plt.step(f_per_year, np.abs(fft))\r\n",
        "plt.xscale('log')\r\n",
        "plt.ylim(0, 400000)\r\n",
        "plt.xlim([0.1, max(plt.xlim())])\r\n",
        "plt.xticks([1, 365.2524], labels=['1/Year', '1/day'])\r\n",
        "_ = plt.xlabel('Frequency (log scale)')"
      ],
      "execution_count": 20,
      "outputs": [
        {
          "output_type": "display_data",
          "data": {
            "image/png": "[encoded data removed]",
            "text/plain": [
              "<Figure size 432x288 with 1 Axes>"
            ]
          },
          "metadata": {
            "tags": [],
            "needs_background": "light"
          }
        }
      ]
    },
    {
      "cell_type": "markdown",
      "metadata": {
        "id": "2pHErbOe88vv"
      },
      "source": [
        "##Data de S4 de LISN"
      ]
    },
    {
      "cell_type": "code",
      "metadata": {
        "id": "CkmfVhNRwpRb"
      },
      "source": [
        "URL = \"https://raw.githubusercontent.com/georgesteve/Research-Assitant-ML-ROJ/main/gfajardo_uNz2xU-2020-2.csv\"\r\n",
        "Data = pd.read_csv(URL,index_col=False) \r\n",
        "s4=Data.drop(columns=['Unnamed: 0'])"
      ],
      "execution_count": 29,
      "outputs": []
    },
    {
      "cell_type": "code",
      "metadata": {
        "colab": {
          "base_uri": "https://localhost:8080/",
          "height": 408
        },
        "id": "FDYPklLN8dNy",
        "outputId": "4edd54b1-1e5d-4e1d-bddb-509af61cf041"
      },
      "source": [
        "s4['date_time'] = pd.to_datetime(s4['Año']*1000+s4['Day'], format='%y%j')+pd.Series([pd.Timedelta(seconds=x) for x in s4['Tiempo']])\r\n",
        "print(s4['date_time'])\r\n",
        "s4=s4.drop(['Año',\t'Day',\t'Tiempo'], axis=1)\r\n",
        "s4.head()"
      ],
      "execution_count": 30,
      "outputs": [
        {
          "output_type": "stream",
          "text": [
            "0        2020-11-01 00:00:22\n",
            "1        2020-11-01 00:00:22\n",
            "2        2020-11-01 00:00:22\n",
            "3        2020-11-01 00:00:22\n",
            "4        2020-11-01 00:00:22\n",
            "                 ...        \n",
            "452982   2020-12-02 23:45:40\n",
            "452983   2020-12-02 23:45:40\n",
            "452984   2020-12-02 23:45:40\n",
            "452985   2020-12-02 23:45:40\n",
            "452986   2020-12-02 23:45:40\n",
            "Name: date_time, Length: 452987, dtype: datetime64[ns]\n"
          ],
          "name": "stdout"
        },
        {
          "output_type": "execute_result",
          "data": {
            "text/html": [
              "<div>\n",
              "<style scoped>\n",
              "    .dataframe tbody tr th:only-of-type {\n",
              "        vertical-align: middle;\n",
              "    }\n",
              "\n",
              "    .dataframe tbody tr th {\n",
              "        vertical-align: top;\n",
              "    }\n",
              "\n",
              "    .dataframe thead th {\n",
              "        text-align: right;\n",
              "    }\n",
              "</style>\n",
              "<table border=\"1\" class=\"dataframe\">\n",
              "  <thead>\n",
              "    <tr style=\"text-align: right;\">\n",
              "      <th></th>\n",
              "      <th>PRN</th>\n",
              "      <th>S4</th>\n",
              "      <th>Az</th>\n",
              "      <th>Elv</th>\n",
              "      <th>date_time</th>\n",
              "    </tr>\n",
              "  </thead>\n",
              "  <tbody>\n",
              "    <tr>\n",
              "      <th>0</th>\n",
              "      <td>3</td>\n",
              "      <td>0.10</td>\n",
              "      <td>300.9</td>\n",
              "      <td>24.6</td>\n",
              "      <td>2020-11-01 00:00:22</td>\n",
              "    </tr>\n",
              "    <tr>\n",
              "      <th>1</th>\n",
              "      <td>8</td>\n",
              "      <td>0.05</td>\n",
              "      <td>199.5</td>\n",
              "      <td>47.2</td>\n",
              "      <td>2020-11-01 00:00:22</td>\n",
              "    </tr>\n",
              "    <tr>\n",
              "      <th>2</th>\n",
              "      <td>10</td>\n",
              "      <td>0.40</td>\n",
              "      <td>147.1</td>\n",
              "      <td>14.3</td>\n",
              "      <td>2020-11-01 00:00:22</td>\n",
              "    </tr>\n",
              "    <tr>\n",
              "      <th>3</th>\n",
              "      <td>11</td>\n",
              "      <td>0.08</td>\n",
              "      <td>210.6</td>\n",
              "      <td>26.2</td>\n",
              "      <td>2020-11-01 00:00:22</td>\n",
              "    </tr>\n",
              "    <tr>\n",
              "      <th>4</th>\n",
              "      <td>16</td>\n",
              "      <td>0.04</td>\n",
              "      <td>342.4</td>\n",
              "      <td>42.3</td>\n",
              "      <td>2020-11-01 00:00:22</td>\n",
              "    </tr>\n",
              "  </tbody>\n",
              "</table>\n",
              "</div>"
            ],
            "text/plain": [
              "   PRN    S4     Az   Elv           date_time\n",
              "0    3  0.10  300.9  24.6 2020-11-01 00:00:22\n",
              "1    8  0.05  199.5  47.2 2020-11-01 00:00:22\n",
              "2   10  0.40  147.1  14.3 2020-11-01 00:00:22\n",
              "3   11  0.08  210.6  26.2 2020-11-01 00:00:22\n",
              "4   16  0.04  342.4  42.3 2020-11-01 00:00:22"
            ]
          },
          "metadata": {
            "tags": []
          },
          "execution_count": 30
        }
      ]
    },
    {
      "cell_type": "code",
      "metadata": {
        "colab": {
          "base_uri": "https://localhost:8080/",
          "height": 297
        },
        "id": "Yt0QPxSgwuyg",
        "outputId": "ee407232-4a5c-40a5-eebf-58eba456abed"
      },
      "source": [
        "#print(df)\r\n",
        "\r\n",
        "s4=s4[s4['Elv']>30]\r\n",
        "s4.describe()"
      ],
      "execution_count": 31,
      "outputs": [
        {
          "output_type": "execute_result",
          "data": {
            "text/html": [
              "<div>\n",
              "<style scoped>\n",
              "    .dataframe tbody tr th:only-of-type {\n",
              "        vertical-align: middle;\n",
              "    }\n",
              "\n",
              "    .dataframe tbody tr th {\n",
              "        vertical-align: top;\n",
              "    }\n",
              "\n",
              "    .dataframe thead th {\n",
              "        text-align: right;\n",
              "    }\n",
              "</style>\n",
              "<table border=\"1\" class=\"dataframe\">\n",
              "  <thead>\n",
              "    <tr style=\"text-align: right;\">\n",
              "      <th></th>\n",
              "      <th>PRN</th>\n",
              "      <th>S4</th>\n",
              "      <th>Az</th>\n",
              "      <th>Elv</th>\n",
              "    </tr>\n",
              "  </thead>\n",
              "  <tbody>\n",
              "    <tr>\n",
              "      <th>count</th>\n",
              "      <td>272281.000000</td>\n",
              "      <td>272281.000000</td>\n",
              "      <td>272281.000000</td>\n",
              "      <td>272281.000000</td>\n",
              "    </tr>\n",
              "    <tr>\n",
              "      <th>mean</th>\n",
              "      <td>36.695329</td>\n",
              "      <td>0.057438</td>\n",
              "      <td>198.923780</td>\n",
              "      <td>48.655690</td>\n",
              "    </tr>\n",
              "    <tr>\n",
              "      <th>std</th>\n",
              "      <td>46.124304</td>\n",
              "      <td>0.024913</td>\n",
              "      <td>95.969254</td>\n",
              "      <td>12.304419</td>\n",
              "    </tr>\n",
              "    <tr>\n",
              "      <th>min</th>\n",
              "      <td>1.000000</td>\n",
              "      <td>0.020000</td>\n",
              "      <td>0.000000</td>\n",
              "      <td>30.100000</td>\n",
              "    </tr>\n",
              "    <tr>\n",
              "      <th>25%</th>\n",
              "      <td>9.000000</td>\n",
              "      <td>0.040000</td>\n",
              "      <td>127.700000</td>\n",
              "      <td>38.300000</td>\n",
              "    </tr>\n",
              "    <tr>\n",
              "      <th>50%</th>\n",
              "      <td>21.000000</td>\n",
              "      <td>0.050000</td>\n",
              "      <td>200.600000</td>\n",
              "      <td>49.700000</td>\n",
              "    </tr>\n",
              "    <tr>\n",
              "      <th>75%</th>\n",
              "      <td>29.000000</td>\n",
              "      <td>0.070000</td>\n",
              "      <td>288.400000</td>\n",
              "      <td>54.600000</td>\n",
              "    </tr>\n",
              "    <tr>\n",
              "      <th>max</th>\n",
              "      <td>138.000000</td>\n",
              "      <td>0.830000</td>\n",
              "      <td>360.000000</td>\n",
              "      <td>89.000000</td>\n",
              "    </tr>\n",
              "  </tbody>\n",
              "</table>\n",
              "</div>"
            ],
            "text/plain": [
              "                 PRN             S4             Az            Elv\n",
              "count  272281.000000  272281.000000  272281.000000  272281.000000\n",
              "mean       36.695329       0.057438     198.923780      48.655690\n",
              "std        46.124304       0.024913      95.969254      12.304419\n",
              "min         1.000000       0.020000       0.000000      30.100000\n",
              "25%         9.000000       0.040000     127.700000      38.300000\n",
              "50%        21.000000       0.050000     200.600000      49.700000\n",
              "75%        29.000000       0.070000     288.400000      54.600000\n",
              "max       138.000000       0.830000     360.000000      89.000000"
            ]
          },
          "metadata": {
            "tags": []
          },
          "execution_count": 31
        }
      ]
    },
    {
      "cell_type": "code",
      "metadata": {
        "colab": {
          "base_uri": "https://localhost:8080/",
          "height": 450
        },
        "id": "833ktJNk-nsy",
        "outputId": "69ed1cbb-d374-4b41-96e6-11a56dcce6e0"
      },
      "source": [
        "s4.set_index('date_time', inplace=True)\r\n",
        "s4.resample(\"1min\").mean()"
      ],
      "execution_count": 32,
      "outputs": [
        {
          "output_type": "execute_result",
          "data": {
            "text/html": [
              "<div>\n",
              "<style scoped>\n",
              "    .dataframe tbody tr th:only-of-type {\n",
              "        vertical-align: middle;\n",
              "    }\n",
              "\n",
              "    .dataframe tbody tr th {\n",
              "        vertical-align: top;\n",
              "    }\n",
              "\n",
              "    .dataframe thead th {\n",
              "        text-align: right;\n",
              "    }\n",
              "</style>\n",
              "<table border=\"1\" class=\"dataframe\">\n",
              "  <thead>\n",
              "    <tr style=\"text-align: right;\">\n",
              "      <th></th>\n",
              "      <th>PRN</th>\n",
              "      <th>S4</th>\n",
              "      <th>Az</th>\n",
              "      <th>Elv</th>\n",
              "    </tr>\n",
              "    <tr>\n",
              "      <th>date_time</th>\n",
              "      <th></th>\n",
              "      <th></th>\n",
              "      <th></th>\n",
              "      <th></th>\n",
              "    </tr>\n",
              "  </thead>\n",
              "  <tbody>\n",
              "    <tr>\n",
              "      <th>2020-11-01 00:00:00</th>\n",
              "      <td>37.714286</td>\n",
              "      <td>0.048571</td>\n",
              "      <td>222.242857</td>\n",
              "      <td>46.328571</td>\n",
              "    </tr>\n",
              "    <tr>\n",
              "      <th>2020-11-01 00:01:00</th>\n",
              "      <td>37.714286</td>\n",
              "      <td>0.051429</td>\n",
              "      <td>222.000000</td>\n",
              "      <td>46.400000</td>\n",
              "    </tr>\n",
              "    <tr>\n",
              "      <th>2020-11-01 00:02:00</th>\n",
              "      <td>37.714286</td>\n",
              "      <td>0.052857</td>\n",
              "      <td>221.757143</td>\n",
              "      <td>46.471429</td>\n",
              "    </tr>\n",
              "    <tr>\n",
              "      <th>2020-11-01 00:03:00</th>\n",
              "      <td>37.714286</td>\n",
              "      <td>0.047143</td>\n",
              "      <td>221.514286</td>\n",
              "      <td>46.542857</td>\n",
              "    </tr>\n",
              "    <tr>\n",
              "      <th>2020-11-01 00:04:00</th>\n",
              "      <td>37.714286</td>\n",
              "      <td>0.051429</td>\n",
              "      <td>221.257143</td>\n",
              "      <td>46.614286</td>\n",
              "    </tr>\n",
              "    <tr>\n",
              "      <th>...</th>\n",
              "      <td>...</td>\n",
              "      <td>...</td>\n",
              "      <td>...</td>\n",
              "      <td>...</td>\n",
              "    </tr>\n",
              "    <tr>\n",
              "      <th>2020-12-02 23:41:00</th>\n",
              "      <td>28.000000</td>\n",
              "      <td>0.052500</td>\n",
              "      <td>224.312500</td>\n",
              "      <td>46.325000</td>\n",
              "    </tr>\n",
              "    <tr>\n",
              "      <th>2020-12-02 23:42:00</th>\n",
              "      <td>28.000000</td>\n",
              "      <td>0.062500</td>\n",
              "      <td>224.075000</td>\n",
              "      <td>46.312500</td>\n",
              "    </tr>\n",
              "    <tr>\n",
              "      <th>2020-12-02 23:43:00</th>\n",
              "      <td>28.000000</td>\n",
              "      <td>0.063750</td>\n",
              "      <td>223.800000</td>\n",
              "      <td>46.312500</td>\n",
              "    </tr>\n",
              "    <tr>\n",
              "      <th>2020-12-02 23:44:00</th>\n",
              "      <td>28.000000</td>\n",
              "      <td>0.056250</td>\n",
              "      <td>223.562500</td>\n",
              "      <td>46.287500</td>\n",
              "    </tr>\n",
              "    <tr>\n",
              "      <th>2020-12-02 23:45:00</th>\n",
              "      <td>28.000000</td>\n",
              "      <td>0.056250</td>\n",
              "      <td>223.312500</td>\n",
              "      <td>46.262500</td>\n",
              "    </tr>\n",
              "  </tbody>\n",
              "</table>\n",
              "<p>46066 rows × 4 columns</p>\n",
              "</div>"
            ],
            "text/plain": [
              "                           PRN        S4          Az        Elv\n",
              "date_time                                                      \n",
              "2020-11-01 00:00:00  37.714286  0.048571  222.242857  46.328571\n",
              "2020-11-01 00:01:00  37.714286  0.051429  222.000000  46.400000\n",
              "2020-11-01 00:02:00  37.714286  0.052857  221.757143  46.471429\n",
              "2020-11-01 00:03:00  37.714286  0.047143  221.514286  46.542857\n",
              "2020-11-01 00:04:00  37.714286  0.051429  221.257143  46.614286\n",
              "...                        ...       ...         ...        ...\n",
              "2020-12-02 23:41:00  28.000000  0.052500  224.312500  46.325000\n",
              "2020-12-02 23:42:00  28.000000  0.062500  224.075000  46.312500\n",
              "2020-12-02 23:43:00  28.000000  0.063750  223.800000  46.312500\n",
              "2020-12-02 23:44:00  28.000000  0.056250  223.562500  46.287500\n",
              "2020-12-02 23:45:00  28.000000  0.056250  223.312500  46.262500\n",
              "\n",
              "[46066 rows x 4 columns]"
            ]
          },
          "metadata": {
            "tags": []
          },
          "execution_count": 32
        }
      ]
    },
    {
      "cell_type": "code",
      "metadata": {
        "colab": {
          "base_uri": "https://localhost:8080/",
          "height": 282
        },
        "id": "DSIQyBHk_O3C",
        "outputId": "40fa8d3a-8efa-418a-dd3d-c3740cb1bd05"
      },
      "source": [
        "plt.plot(s4['S4'])"
      ],
      "execution_count": 33,
      "outputs": [
        {
          "output_type": "execute_result",
          "data": {
            "text/plain": [
              "[<matplotlib.lines.Line2D at 0x7f61ef45e910>]"
            ]
          },
          "metadata": {
            "tags": []
          },
          "execution_count": 33
        },
        {
          "output_type": "display_data",
          "data": {
            "image/png": "[encoded data removed]",
            "text/plain": [
              "<Figure size 432x288 with 1 Axes>"
            ]
          },
          "metadata": {
            "tags": [],
            "needs_background": "light"
          }
        }
      ]
    },
    {
      "cell_type": "code",
      "metadata": {
        "colab": {
          "base_uri": "https://localhost:8080/",
          "height": 450
        },
        "id": "UWXMWGKrgy9Q",
        "outputId": "745518ea-79ed-4a96-e1f9-ab68f5b6d1c4"
      },
      "source": [
        "s4"
      ],
      "execution_count": 44,
      "outputs": [
        {
          "output_type": "execute_result",
          "data": {
            "text/html": [
              "<div>\n",
              "<style scoped>\n",
              "    .dataframe tbody tr th:only-of-type {\n",
              "        vertical-align: middle;\n",
              "    }\n",
              "\n",
              "    .dataframe tbody tr th {\n",
              "        vertical-align: top;\n",
              "    }\n",
              "\n",
              "    .dataframe thead th {\n",
              "        text-align: right;\n",
              "    }\n",
              "</style>\n",
              "<table border=\"1\" class=\"dataframe\">\n",
              "  <thead>\n",
              "    <tr style=\"text-align: right;\">\n",
              "      <th></th>\n",
              "      <th>PRN</th>\n",
              "      <th>S4</th>\n",
              "      <th>Az</th>\n",
              "      <th>Elv</th>\n",
              "    </tr>\n",
              "    <tr>\n",
              "      <th>date_time</th>\n",
              "      <th></th>\n",
              "      <th></th>\n",
              "      <th></th>\n",
              "      <th></th>\n",
              "    </tr>\n",
              "  </thead>\n",
              "  <tbody>\n",
              "    <tr>\n",
              "      <th>2020-11-01 00:00:22</th>\n",
              "      <td>8</td>\n",
              "      <td>0.05</td>\n",
              "      <td>199.5</td>\n",
              "      <td>47.2</td>\n",
              "    </tr>\n",
              "    <tr>\n",
              "      <th>2020-11-01 00:00:22</th>\n",
              "      <td>16</td>\n",
              "      <td>0.04</td>\n",
              "      <td>342.4</td>\n",
              "      <td>42.3</td>\n",
              "    </tr>\n",
              "    <tr>\n",
              "      <th>2020-11-01 00:00:22</th>\n",
              "      <td>21</td>\n",
              "      <td>0.07</td>\n",
              "      <td>205.5</td>\n",
              "      <td>30.1</td>\n",
              "    </tr>\n",
              "    <tr>\n",
              "      <th>2020-11-01 00:00:22</th>\n",
              "      <td>22</td>\n",
              "      <td>0.06</td>\n",
              "      <td>282.5</td>\n",
              "      <td>40.4</td>\n",
              "    </tr>\n",
              "    <tr>\n",
              "      <th>2020-11-01 00:00:22</th>\n",
              "      <td>27</td>\n",
              "      <td>0.03</td>\n",
              "      <td>134.2</td>\n",
              "      <td>71.7</td>\n",
              "    </tr>\n",
              "    <tr>\n",
              "      <th>...</th>\n",
              "      <td>...</td>\n",
              "      <td>...</td>\n",
              "      <td>...</td>\n",
              "      <td>...</td>\n",
              "    </tr>\n",
              "    <tr>\n",
              "      <th>2020-12-02 23:45:40</th>\n",
              "      <td>8</td>\n",
              "      <td>0.03</td>\n",
              "      <td>348.4</td>\n",
              "      <td>71.6</td>\n",
              "    </tr>\n",
              "    <tr>\n",
              "      <th>2020-12-02 23:45:40</th>\n",
              "      <td>21</td>\n",
              "      <td>0.05</td>\n",
              "      <td>159.0</td>\n",
              "      <td>48.7</td>\n",
              "    </tr>\n",
              "    <tr>\n",
              "      <th>2020-12-02 23:45:40</th>\n",
              "      <td>22</td>\n",
              "      <td>0.08</td>\n",
              "      <td>206.3</td>\n",
              "      <td>42.2</td>\n",
              "    </tr>\n",
              "    <tr>\n",
              "      <th>2020-12-02 23:45:40</th>\n",
              "      <td>27</td>\n",
              "      <td>0.06</td>\n",
              "      <td>22.7</td>\n",
              "      <td>36.8</td>\n",
              "    </tr>\n",
              "    <tr>\n",
              "      <th>2020-12-02 23:45:40</th>\n",
              "      <td>138</td>\n",
              "      <td>0.04</td>\n",
              "      <td>288.3</td>\n",
              "      <td>50.6</td>\n",
              "    </tr>\n",
              "  </tbody>\n",
              "</table>\n",
              "<p>272281 rows × 4 columns</p>\n",
              "</div>"
            ],
            "text/plain": [
              "                     PRN    S4     Az   Elv\n",
              "date_time                                  \n",
              "2020-11-01 00:00:22    8  0.05  199.5  47.2\n",
              "2020-11-01 00:00:22   16  0.04  342.4  42.3\n",
              "2020-11-01 00:00:22   21  0.07  205.5  30.1\n",
              "2020-11-01 00:00:22   22  0.06  282.5  40.4\n",
              "2020-11-01 00:00:22   27  0.03  134.2  71.7\n",
              "...                  ...   ...    ...   ...\n",
              "2020-12-02 23:45:40    8  0.03  348.4  71.6\n",
              "2020-12-02 23:45:40   21  0.05  159.0  48.7\n",
              "2020-12-02 23:45:40   22  0.08  206.3  42.2\n",
              "2020-12-02 23:45:40   27  0.06   22.7  36.8\n",
              "2020-12-02 23:45:40  138  0.04  288.3  50.6\n",
              "\n",
              "[272281 rows x 4 columns]"
            ]
          },
          "metadata": {
            "tags": []
          },
          "execution_count": 44
        }
      ]
    },
    {
      "cell_type": "markdown",
      "metadata": {
        "id": "NtLm7S8ldgBG"
      },
      "source": [
        "##Uniendo data"
      ]
    },
    {
      "cell_type": "code",
      "metadata": {
        "id": "dwHR2U78dj8I"
      },
      "source": [
        "merge=pd.merge_asof(s4,df,right_index=True,left_index=True)"
      ],
      "execution_count": 46,
      "outputs": []
    },
    {
      "cell_type": "code",
      "metadata": {
        "colab": {
          "base_uri": "https://localhost:8080/",
          "height": 459
        },
        "id": "FTPioUJ7gqe7",
        "outputId": "c200e5a8-edf0-4969-96e3-d1d848762141"
      },
      "source": [
        "merge.head()"
      ],
      "execution_count": 47,
      "outputs": [
        {
          "output_type": "execute_result",
          "data": {
            "text/html": [
              "<div>\n",
              "<style scoped>\n",
              "    .dataframe tbody tr th:only-of-type {\n",
              "        vertical-align: middle;\n",
              "    }\n",
              "\n",
              "    .dataframe tbody tr th {\n",
              "        vertical-align: top;\n",
              "    }\n",
              "\n",
              "    .dataframe thead th {\n",
              "        text-align: right;\n",
              "    }\n",
              "</style>\n",
              "<table border=\"1\" class=\"dataframe\">\n",
              "  <thead>\n",
              "    <tr style=\"text-align: right;\">\n",
              "      <th></th>\n",
              "      <th>PRN</th>\n",
              "      <th>S4</th>\n",
              "      <th>Az</th>\n",
              "      <th>Elv</th>\n",
              "      <th>Year</th>\n",
              "      <th>Day</th>\n",
              "      <th>Hour</th>\n",
              "      <th>Minute</th>\n",
              "      <th>Field magnitude average</th>\n",
              "      <th>BX</th>\n",
              "      <th>BY</th>\n",
              "      <th>BZ</th>\n",
              "      <th>Speed</th>\n",
              "      <th>Vx Velocity</th>\n",
              "      <th>Vy Velocity</th>\n",
              "      <th>Vz Velocity</th>\n",
              "      <th>Proton Density</th>\n",
              "      <th>AE-index</th>\n",
              "    </tr>\n",
              "    <tr>\n",
              "      <th>date_time</th>\n",
              "      <th></th>\n",
              "      <th></th>\n",
              "      <th></th>\n",
              "      <th></th>\n",
              "      <th></th>\n",
              "      <th></th>\n",
              "      <th></th>\n",
              "      <th></th>\n",
              "      <th></th>\n",
              "      <th></th>\n",
              "      <th></th>\n",
              "      <th></th>\n",
              "      <th></th>\n",
              "      <th></th>\n",
              "      <th></th>\n",
              "      <th></th>\n",
              "      <th></th>\n",
              "      <th></th>\n",
              "    </tr>\n",
              "  </thead>\n",
              "  <tbody>\n",
              "    <tr>\n",
              "      <th>2020-11-01 00:00:22</th>\n",
              "      <td>8</td>\n",
              "      <td>0.05</td>\n",
              "      <td>199.5</td>\n",
              "      <td>47.2</td>\n",
              "      <td>2020</td>\n",
              "      <td>306</td>\n",
              "      <td>0</td>\n",
              "      <td>0</td>\n",
              "      <td>4.24</td>\n",
              "      <td>-3.25</td>\n",
              "      <td>1.95</td>\n",
              "      <td>1.89</td>\n",
              "      <td>372.6</td>\n",
              "      <td>-372.4</td>\n",
              "      <td>-9.1</td>\n",
              "      <td>-5.0</td>\n",
              "      <td>5.48</td>\n",
              "      <td>99999</td>\n",
              "    </tr>\n",
              "    <tr>\n",
              "      <th>2020-11-01 00:00:22</th>\n",
              "      <td>16</td>\n",
              "      <td>0.04</td>\n",
              "      <td>342.4</td>\n",
              "      <td>42.3</td>\n",
              "      <td>2020</td>\n",
              "      <td>306</td>\n",
              "      <td>0</td>\n",
              "      <td>0</td>\n",
              "      <td>4.24</td>\n",
              "      <td>-3.25</td>\n",
              "      <td>1.95</td>\n",
              "      <td>1.89</td>\n",
              "      <td>372.6</td>\n",
              "      <td>-372.4</td>\n",
              "      <td>-9.1</td>\n",
              "      <td>-5.0</td>\n",
              "      <td>5.48</td>\n",
              "      <td>99999</td>\n",
              "    </tr>\n",
              "    <tr>\n",
              "      <th>2020-11-01 00:00:22</th>\n",
              "      <td>21</td>\n",
              "      <td>0.07</td>\n",
              "      <td>205.5</td>\n",
              "      <td>30.1</td>\n",
              "      <td>2020</td>\n",
              "      <td>306</td>\n",
              "      <td>0</td>\n",
              "      <td>0</td>\n",
              "      <td>4.24</td>\n",
              "      <td>-3.25</td>\n",
              "      <td>1.95</td>\n",
              "      <td>1.89</td>\n",
              "      <td>372.6</td>\n",
              "      <td>-372.4</td>\n",
              "      <td>-9.1</td>\n",
              "      <td>-5.0</td>\n",
              "      <td>5.48</td>\n",
              "      <td>99999</td>\n",
              "    </tr>\n",
              "    <tr>\n",
              "      <th>2020-11-01 00:00:22</th>\n",
              "      <td>22</td>\n",
              "      <td>0.06</td>\n",
              "      <td>282.5</td>\n",
              "      <td>40.4</td>\n",
              "      <td>2020</td>\n",
              "      <td>306</td>\n",
              "      <td>0</td>\n",
              "      <td>0</td>\n",
              "      <td>4.24</td>\n",
              "      <td>-3.25</td>\n",
              "      <td>1.95</td>\n",
              "      <td>1.89</td>\n",
              "      <td>372.6</td>\n",
              "      <td>-372.4</td>\n",
              "      <td>-9.1</td>\n",
              "      <td>-5.0</td>\n",
              "      <td>5.48</td>\n",
              "      <td>99999</td>\n",
              "    </tr>\n",
              "    <tr>\n",
              "      <th>2020-11-01 00:00:22</th>\n",
              "      <td>27</td>\n",
              "      <td>0.03</td>\n",
              "      <td>134.2</td>\n",
              "      <td>71.7</td>\n",
              "      <td>2020</td>\n",
              "      <td>306</td>\n",
              "      <td>0</td>\n",
              "      <td>0</td>\n",
              "      <td>4.24</td>\n",
              "      <td>-3.25</td>\n",
              "      <td>1.95</td>\n",
              "      <td>1.89</td>\n",
              "      <td>372.6</td>\n",
              "      <td>-372.4</td>\n",
              "      <td>-9.1</td>\n",
              "      <td>-5.0</td>\n",
              "      <td>5.48</td>\n",
              "      <td>99999</td>\n",
              "    </tr>\n",
              "  </tbody>\n",
              "</table>\n",
              "</div>"
            ],
            "text/plain": [
              "                     PRN    S4     Az  ...  Vz Velocity  Proton Density  AE-index\n",
              "date_time                              ...                                       \n",
              "2020-11-01 00:00:22    8  0.05  199.5  ...         -5.0            5.48     99999\n",
              "2020-11-01 00:00:22   16  0.04  342.4  ...         -5.0            5.48     99999\n",
              "2020-11-01 00:00:22   21  0.07  205.5  ...         -5.0            5.48     99999\n",
              "2020-11-01 00:00:22   22  0.06  282.5  ...         -5.0            5.48     99999\n",
              "2020-11-01 00:00:22   27  0.03  134.2  ...         -5.0            5.48     99999\n",
              "\n",
              "[5 rows x 18 columns]"
            ]
          },
          "metadata": {
            "tags": []
          },
          "execution_count": 47
        }
      ]
    },
    {
      "cell_type": "markdown",
      "metadata": {
        "id": "ReddmvQb9pEw"
      },
      "source": [
        "##Evaluando causalidad"
      ]
    },
    {
      "cell_type": "code",
      "metadata": {
        "id": "WD9yJorV9on7"
      },
      "source": [
        ""
      ],
      "execution_count": null,
      "outputs": []
    },
    {
      "cell_type": "markdown",
      "metadata": {
        "id": "lc4vog2ZoHb0"
      },
      "source": [
        "Crearemos una función para evaluar causalidad, usando Informaci{on mutua retrasada, para ello, la función nos devuelve el dataframe original recortado y el dataframe nuevo."
      ]
    },
    {
      "cell_type": "code",
      "metadata": {
        "id": "fZqBkVQjolEb"
      },
      "source": [
        "def recorte(df,time_delay):\r\n",
        "  #time_delay. Es el retraso en pasos (términos de la frecuencia de muestreo), en tiempo real sería= time_delay*frecuencia de muestreo\r\n",
        "  #df es el dataset orginal\r\n",
        "  return df[:len(df)-time_delay],df[time_delay:]"
      ],
      "execution_count": 49,
      "outputs": []
    },
    {
      "cell_type": "code",
      "metadata": {
        "colab": {
          "base_uri": "https://localhost:8080/",
          "height": 563
        },
        "id": "4oXsCR_moGrX",
        "outputId": "535bd1ce-b1b4-4b45-937f-26bda91f0a94"
      },
      "source": [
        "a=recorte(merge,15)\r\n",
        "\r\n",
        "x=a[0][a[0].columns[4:10]]\r\n",
        "y1=a[1]['11']\r\n",
        "\r\n",
        "#print(a[0][a[0].columns[4:10]])\r\n",
        "print(a[0])\r\n",
        "print(a[1])"
      ],
      "execution_count": 53,
      "outputs": [
        {
          "output_type": "error",
          "ename": "KeyError",
          "evalue": "ignored",
          "traceback": [
            "\u001b[0;31m---------------------------------------------------------------------------\u001b[0m",
            "\u001b[0;31mKeyError\u001b[0m                                  Traceback (most recent call last)",
            "\u001b[0;32m/usr/local/lib/python3.7/dist-packages/pandas/core/indexes/base.py\u001b[0m in \u001b[0;36mget_loc\u001b[0;34m(self, key, method, tolerance)\u001b[0m\n\u001b[1;32m   2897\u001b[0m             \u001b[0;32mtry\u001b[0m\u001b[0;34m:\u001b[0m\u001b[0;34m\u001b[0m\u001b[0;34m\u001b[0m\u001b[0m\n\u001b[0;32m-> 2898\u001b[0;31m                 \u001b[0;32mreturn\u001b[0m \u001b[0mself\u001b[0m\u001b[0;34m.\u001b[0m\u001b[0m_engine\u001b[0m\u001b[0;34m.\u001b[0m\u001b[0mget_loc\u001b[0m\u001b[0;34m(\u001b[0m\u001b[0mcasted_key\u001b[0m\u001b[0;34m)\u001b[0m\u001b[0;34m\u001b[0m\u001b[0;34m\u001b[0m\u001b[0m\n\u001b[0m\u001b[1;32m   2899\u001b[0m             \u001b[0;32mexcept\u001b[0m \u001b[0mKeyError\u001b[0m \u001b[0;32mas\u001b[0m \u001b[0merr\u001b[0m\u001b[0;34m:\u001b[0m\u001b[0;34m\u001b[0m\u001b[0;34m\u001b[0m\u001b[0m\n",
            "\u001b[0;32mpandas/_libs/index.pyx\u001b[0m in \u001b[0;36mpandas._libs.index.IndexEngine.get_loc\u001b[0;34m()\u001b[0m\n",
            "\u001b[0;32mpandas/_libs/index.pyx\u001b[0m in \u001b[0;36mpandas._libs.index.IndexEngine.get_loc\u001b[0;34m()\u001b[0m\n",
            "\u001b[0;32mpandas/_libs/hashtable_class_helper.pxi\u001b[0m in \u001b[0;36mpandas._libs.hashtable.PyObjectHashTable.get_item\u001b[0;34m()\u001b[0m\n",
            "\u001b[0;32mpandas/_libs/hashtable_class_helper.pxi\u001b[0m in \u001b[0;36mpandas._libs.hashtable.PyObjectHashTable.get_item\u001b[0;34m()\u001b[0m\n",
            "\u001b[0;31mKeyError\u001b[0m: '11'",
            "\nThe above exception was the direct cause of the following exception:\n",
            "\u001b[0;31mKeyError\u001b[0m                                  Traceback (most recent call last)",
            "\u001b[0;32m<ipython-input-53-1f50c08f9c2b>\u001b[0m in \u001b[0;36m<module>\u001b[0;34m()\u001b[0m\n\u001b[1;32m      2\u001b[0m \u001b[0;34m\u001b[0m\u001b[0m\n\u001b[1;32m      3\u001b[0m \u001b[0mx\u001b[0m\u001b[0;34m=\u001b[0m\u001b[0ma\u001b[0m\u001b[0;34m[\u001b[0m\u001b[0;36m0\u001b[0m\u001b[0;34m]\u001b[0m\u001b[0;34m[\u001b[0m\u001b[0ma\u001b[0m\u001b[0;34m[\u001b[0m\u001b[0;36m0\u001b[0m\u001b[0;34m]\u001b[0m\u001b[0;34m.\u001b[0m\u001b[0mcolumns\u001b[0m\u001b[0;34m[\u001b[0m\u001b[0;36m4\u001b[0m\u001b[0;34m:\u001b[0m\u001b[0;36m10\u001b[0m\u001b[0;34m]\u001b[0m\u001b[0;34m]\u001b[0m\u001b[0;34m\u001b[0m\u001b[0;34m\u001b[0m\u001b[0m\n\u001b[0;32m----> 4\u001b[0;31m \u001b[0my1\u001b[0m\u001b[0;34m=\u001b[0m\u001b[0ma\u001b[0m\u001b[0;34m[\u001b[0m\u001b[0;36m1\u001b[0m\u001b[0;34m]\u001b[0m\u001b[0;34m[\u001b[0m\u001b[0;34m'11'\u001b[0m\u001b[0;34m]\u001b[0m\u001b[0;34m\u001b[0m\u001b[0;34m\u001b[0m\u001b[0m\n\u001b[0m\u001b[1;32m      5\u001b[0m \u001b[0;34m\u001b[0m\u001b[0m\n\u001b[1;32m      6\u001b[0m \u001b[0;31m#print(a[0][a[0].columns[4:10]])\u001b[0m\u001b[0;34m\u001b[0m\u001b[0;34m\u001b[0m\u001b[0;34m\u001b[0m\u001b[0m\n",
            "\u001b[0;32m/usr/local/lib/python3.7/dist-packages/pandas/core/frame.py\u001b[0m in \u001b[0;36m__getitem__\u001b[0;34m(self, key)\u001b[0m\n\u001b[1;32m   2904\u001b[0m             \u001b[0;32mif\u001b[0m \u001b[0mself\u001b[0m\u001b[0;34m.\u001b[0m\u001b[0mcolumns\u001b[0m\u001b[0;34m.\u001b[0m\u001b[0mnlevels\u001b[0m \u001b[0;34m>\u001b[0m \u001b[0;36m1\u001b[0m\u001b[0;34m:\u001b[0m\u001b[0;34m\u001b[0m\u001b[0;34m\u001b[0m\u001b[0m\n\u001b[1;32m   2905\u001b[0m                 \u001b[0;32mreturn\u001b[0m \u001b[0mself\u001b[0m\u001b[0;34m.\u001b[0m\u001b[0m_getitem_multilevel\u001b[0m\u001b[0;34m(\u001b[0m\u001b[0mkey\u001b[0m\u001b[0;34m)\u001b[0m\u001b[0;34m\u001b[0m\u001b[0;34m\u001b[0m\u001b[0m\n\u001b[0;32m-> 2906\u001b[0;31m             \u001b[0mindexer\u001b[0m \u001b[0;34m=\u001b[0m \u001b[0mself\u001b[0m\u001b[0;34m.\u001b[0m\u001b[0mcolumns\u001b[0m\u001b[0;34m.\u001b[0m\u001b[0mget_loc\u001b[0m\u001b[0;34m(\u001b[0m\u001b[0mkey\u001b[0m\u001b[0;34m)\u001b[0m\u001b[0;34m\u001b[0m\u001b[0;34m\u001b[0m\u001b[0m\n\u001b[0m\u001b[1;32m   2907\u001b[0m             \u001b[0;32mif\u001b[0m \u001b[0mis_integer\u001b[0m\u001b[0;34m(\u001b[0m\u001b[0mindexer\u001b[0m\u001b[0;34m)\u001b[0m\u001b[0;34m:\u001b[0m\u001b[0;34m\u001b[0m\u001b[0;34m\u001b[0m\u001b[0m\n\u001b[1;32m   2908\u001b[0m                 \u001b[0mindexer\u001b[0m \u001b[0;34m=\u001b[0m \u001b[0;34m[\u001b[0m\u001b[0mindexer\u001b[0m\u001b[0;34m]\u001b[0m\u001b[0;34m\u001b[0m\u001b[0;34m\u001b[0m\u001b[0m\n",
            "\u001b[0;32m/usr/local/lib/python3.7/dist-packages/pandas/core/indexes/base.py\u001b[0m in \u001b[0;36mget_loc\u001b[0;34m(self, key, method, tolerance)\u001b[0m\n\u001b[1;32m   2898\u001b[0m                 \u001b[0;32mreturn\u001b[0m \u001b[0mself\u001b[0m\u001b[0;34m.\u001b[0m\u001b[0m_engine\u001b[0m\u001b[0;34m.\u001b[0m\u001b[0mget_loc\u001b[0m\u001b[0;34m(\u001b[0m\u001b[0mcasted_key\u001b[0m\u001b[0;34m)\u001b[0m\u001b[0;34m\u001b[0m\u001b[0;34m\u001b[0m\u001b[0m\n\u001b[1;32m   2899\u001b[0m             \u001b[0;32mexcept\u001b[0m \u001b[0mKeyError\u001b[0m \u001b[0;32mas\u001b[0m \u001b[0merr\u001b[0m\u001b[0;34m:\u001b[0m\u001b[0;34m\u001b[0m\u001b[0;34m\u001b[0m\u001b[0m\n\u001b[0;32m-> 2900\u001b[0;31m                 \u001b[0;32mraise\u001b[0m \u001b[0mKeyError\u001b[0m\u001b[0;34m(\u001b[0m\u001b[0mkey\u001b[0m\u001b[0;34m)\u001b[0m \u001b[0;32mfrom\u001b[0m \u001b[0merr\u001b[0m\u001b[0;34m\u001b[0m\u001b[0;34m\u001b[0m\u001b[0m\n\u001b[0m\u001b[1;32m   2901\u001b[0m \u001b[0;34m\u001b[0m\u001b[0m\n\u001b[1;32m   2902\u001b[0m         \u001b[0;32mif\u001b[0m \u001b[0mtolerance\u001b[0m \u001b[0;32mis\u001b[0m \u001b[0;32mnot\u001b[0m \u001b[0;32mNone\u001b[0m\u001b[0;34m:\u001b[0m\u001b[0;34m\u001b[0m\u001b[0;34m\u001b[0m\u001b[0m\n",
            "\u001b[0;31mKeyError\u001b[0m: '11'"
          ]
        }
      ]
    },
    {
      "cell_type": "code",
      "metadata": {
        "colab": {
          "base_uri": "https://localhost:8080/"
        },
        "id": "ryIZSnnjpjiv",
        "outputId": "48394ed0-eb95-4c58-d54b-a5a895371d62"
      },
      "source": [
        "import sklearn\r\n",
        "from sklearn import metrics\r\n",
        "import numpy as np\r\n",
        "\r\n",
        "vector=np.arange(0, 600, 1)\r\n",
        "print(vector)\r\n",
        "vector_mi=[]\r\n",
        "vector_co=[]\r\n",
        "#indice_entrada='Field magnitude average'\r\n",
        "indice_entrada='Speed'\r\n",
        "indice_salida='S4'\r\n",
        "def mutual_information_along_vector(df,vector,indice_entrada,indice_salida):\r\n",
        "  for i in vector:\r\n",
        "    a=recorte(merge,i)\r\n",
        "    x=a[0][indice_entrada]\r\n",
        "    y1=a[1][indice_salida]\r\n",
        "    mi=sklearn.metrics.mutual_info_score(y1,x)\r\n",
        "    r = np.corrcoef(x, y1)\r\n",
        "    vector_mi.append(mi)\r\n",
        "    vector_co.append(r[1,0])\r\n",
        "  return np.transpose(vector_mi),np.transpose(vector_co) \r\n",
        "vector_mi=mutual_information_along_vector(df,vector,indice_entrada,indice_salida)\r\n",
        "#print(mi)\r\n",
        "#print(r)"
      ],
      "execution_count": 71,
      "outputs": [
        {
          "output_type": "stream",
          "text": [
            "[  0   1   2   3   4   5   6   7   8   9  10  11  12  13  14  15  16  17\n",
            "  18  19  20  21  22  23  24  25  26  27  28  29  30  31  32  33  34  35\n",
            "  36  37  38  39  40  41  42  43  44  45  46  47  48  49  50  51  52  53\n",
            "  54  55  56  57  58  59  60  61  62  63  64  65  66  67  68  69  70  71\n",
            "  72  73  74  75  76  77  78  79  80  81  82  83  84  85  86  87  88  89\n",
            "  90  91  92  93  94  95  96  97  98  99 100 101 102 103 104 105 106 107\n",
            " 108 109 110 111 112 113 114 115 116 117 118 119 120 121 122 123 124 125\n",
            " 126 127 128 129 130 131 132 133 134 135 136 137 138 139 140 141 142 143\n",
            " 144 145 146 147 148 149 150 151 152 153 154 155 156 157 158 159 160 161\n",
            " 162 163 164 165 166 167 168 169 170 171 172 173 174 175 176 177 178 179\n",
            " 180 181 182 183 184 185 186 187 188 189 190 191 192 193 194 195 196 197\n",
            " 198 199 200 201 202 203 204 205 206 207 208 209 210 211 212 213 214 215\n",
            " 216 217 218 219 220 221 222 223 224 225 226 227 228 229 230 231 232 233\n",
            " 234 235 236 237 238 239 240 241 242 243 244 245 246 247 248 249 250 251\n",
            " 252 253 254 255 256 257 258 259 260 261 262 263 264 265 266 267 268 269\n",
            " 270 271 272 273 274 275 276 277 278 279 280 281 282 283 284 285 286 287\n",
            " 288 289 290 291 292 293 294 295 296 297 298 299 300 301 302 303 304 305\n",
            " 306 307 308 309 310 311 312 313 314 315 316 317 318 319 320 321 322 323\n",
            " 324 325 326 327 328 329 330 331 332 333 334 335 336 337 338 339 340 341\n",
            " 342 343 344 345 346 347 348 349 350 351 352 353 354 355 356 357 358 359\n",
            " 360 361 362 363 364 365 366 367 368 369 370 371 372 373 374 375 376 377\n",
            " 378 379 380 381 382 383 384 385 386 387 388 389 390 391 392 393 394 395\n",
            " 396 397 398 399 400 401 402 403 404 405 406 407 408 409 410 411 412 413\n",
            " 414 415 416 417 418 419 420 421 422 423 424 425 426 427 428 429 430 431\n",
            " 432 433 434 435 436 437 438 439 440 441 442 443 444 445 446 447 448 449\n",
            " 450 451 452 453 454 455 456 457 458 459 460 461 462 463 464 465 466 467\n",
            " 468 469 470 471 472 473 474 475 476 477 478 479 480 481 482 483 484 485\n",
            " 486 487 488 489 490 491 492 493 494 495 496 497 498 499 500 501 502 503\n",
            " 504 505 506 507 508 509 510 511 512 513 514 515 516 517 518 519 520 521\n",
            " 522 523 524 525 526 527 528 529 530 531 532 533 534 535 536 537 538 539\n",
            " 540 541 542 543 544 545 546 547 548 549 550 551 552 553 554 555 556 557\n",
            " 558 559 560 561 562 563 564 565 566 567 568 569 570 571 572 573 574 575\n",
            " 576 577 578 579 580 581 582 583 584 585 586 587 588 589 590 591 592 593\n",
            " 594 595 596 597 598 599]\n"
          ],
          "name": "stdout"
        }
      ]
    },
    {
      "cell_type": "code",
      "metadata": {
        "colab": {
          "base_uri": "https://localhost:8080/",
          "height": 542
        },
        "id": "Y_zYvorFz3xv",
        "outputId": "1c961f0a-d7ab-49a4-eb36-d092e32b3258"
      },
      "source": [
        "# create figure and axis objects with subplots()\r\n",
        "fig,ax = plt.subplots(figsize=(15, 10))\r\n",
        "# make a plot\r\n",
        "ax.plot(vector,vector_mi[1], color=\"red\", marker=\"o\")\r\n",
        "# set x-axis label\r\n",
        "ax.set_xlabel(\"Minutos\",fontsize=14)\r\n",
        "# set y-axis label\r\n",
        "ax.set_ylabel(\"Correlación\",color=\"red\",fontsize=14)\r\n",
        "\r\n",
        "# twin object for two different y-axis on the sample plot\r\n",
        "ax2=ax.twinx()\r\n",
        "# make a plot with different y-axis using second axis object\r\n",
        "ax2.plot(vector,vector_mi[0],color=\"blue\",marker=\"o\")\r\n",
        "ax2.set_ylabel(\"Información mutua\",color=\"blue\",fontsize=14)\r\n",
        "\r\n",
        "\r\n",
        "\r\n",
        "plt.show()\r\n"
      ],
      "execution_count": 75,
      "outputs": [
        {
          "output_type": "display_data",
          "data": {
            "image/png": "[encoded data removed]",
            "text/plain": [
              "<Figure size 1080x720 with 2 Axes>"
            ]
          },
          "metadata": {
            "tags": [],
            "needs_background": "light"
          }
        }
      ]
    },
    {
      "cell_type": "code",
      "metadata": {
        "colab": {
          "base_uri": "https://localhost:8080/",
          "height": 282
        },
        "id": "wm7uHr-ixB-p",
        "outputId": "46d8b4b8-6f4c-4985-ab81-83ecb79b4fa7"
      },
      "source": [
        "# fit a line to the economic data\r\n",
        "from numpy import sin\r\n",
        "from numpy import sqrt\r\n",
        "from numpy import arange\r\n",
        "from pandas import read_csv\r\n",
        "from scipy.optimize import curve_fit\r\n",
        "from matplotlib import pyplot\r\n",
        " \r\n",
        "# define the true objective function\r\n",
        "def objective(x, a, b, c, d):\r\n",
        " return a * sin(b - x) + c * x**2 + d\r\n",
        " \r\n",
        "\r\n",
        "# choose the input and output variables\r\n",
        "x, y = vector,vector_mi[0]\r\n",
        "# curve fit\r\n",
        "popt, _ = curve_fit(objective, x, y)\r\n",
        "# summarize the parameter values\r\n",
        "a, b, c, d = popt\r\n",
        "print(popt)\r\n",
        "# plot input vs output\r\n",
        "pyplot.scatter(x, y)\r\n",
        "# define a sequence of inputs between the smallest and largest known inputs\r\n",
        "x_line = arange(min(x), max(x), 1)\r\n",
        "# calculate the output for the range\r\n",
        "y_line = objective(x_line, a, b, c, d)\r\n",
        "# create a line plot for the mapping function\r\n",
        "pyplot.plot(x_line, y_line, '--', color='red')\r\n",
        "pyplot.show()"
      ],
      "execution_count": 74,
      "outputs": [
        {
          "output_type": "stream",
          "text": [
            "[1.13614367e-05 1.00174544e+00 5.78679497e-09 9.62516938e-02]\n"
          ],
          "name": "stdout"
        },
        {
          "output_type": "display_data",
          "data": {
            "image/png": "[encoded data removed]",
            "text/plain": [
              "<Figure size 432x288 with 1 Axes>"
            ]
          },
          "metadata": {
            "tags": [],
            "needs_background": "light"
          }
        }
      ]
    },
    {
      "cell_type": "code",
      "metadata": {
        "colab": {
          "base_uri": "https://localhost:8080/"
        },
        "id": "kfktn2EZlBx6",
        "outputId": "134bf7e5-6926-49a4-989a-b8d13524b010"
      },
      "source": [
        "df[1]"
      ],
      "execution_count": null,
      "outputs": [
        {
          "output_type": "execute_result",
          "data": {
            "text/plain": [
              "0        306\n",
              "1        306\n",
              "2        306\n",
              "3        306\n",
              "4        306\n",
              "        ... \n",
              "43195    335\n",
              "43196    335\n",
              "43197    335\n",
              "43198    335\n",
              "43199    335\n",
              "Name: 1, Length: 43200, dtype: int64"
            ]
          },
          "metadata": {
            "tags": []
          },
          "execution_count": 102
        }
      ]
    },
    {
      "cell_type": "code",
      "metadata": {
        "id": "_eJ5MTPOitWB"
      },
      "source": [
        ""
      ],
      "execution_count": null,
      "outputs": []
    }
  ]
}