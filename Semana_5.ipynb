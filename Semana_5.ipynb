{
  "nbformat": 4,
  "nbformat_minor": 0,
  "metadata": {
    "colab": {
      "name": "Semana 5",
      "provenance": [],
      "authorship_tag": "ABX9TyMUZkx04duqEEgh5OY8iZEW",
      "include_colab_link": true
    },
    "kernelspec": {
      "name": "python3",
      "display_name": "Python 3"
    }
  },
  "cells": [
    {
      "cell_type": "markdown",
      "metadata": {
        "id": "view-in-github",
        "colab_type": "text"
      },
      "source": [
        "<a href=\"https://colab.research.google.com/github/georgesteve/Research-Assitant-ML-ROJ/blob/main/Semana_5.ipynb\" target=\"_parent\"><img src=\"https://colab.research.google.com/assets/colab-badge.svg\" alt=\"Open In Colab\"/></a>"
      ]
    },
    {
      "cell_type": "code",
      "metadata": {
        "id": "sK0r3fwMg8te"
      },
      "source": [
        "##"
      ],
      "execution_count": null,
      "outputs": []
    },
    {
      "cell_type": "markdown",
      "metadata": {
        "id": "xYE0hw6Bg-kn"
      },
      "source": [
        "#Analizando causalidad utilizando información mutua"
      ]
    },
    {
      "cell_type": "markdown",
      "metadata": {
        "id": "NzUeDwDkkmGG"
      },
      "source": [
        "##Importando librerías"
      ]
    },
    {
      "cell_type": "code",
      "metadata": {
        "id": "SrUgvWgDkrAL"
      },
      "source": [
        "import os\r\n",
        "import datetime\r\n",
        "\r\n",
        "import IPython\r\n",
        "import IPython.display\r\n",
        "import matplotlib as mpl\r\n",
        "import matplotlib.pyplot as plt\r\n",
        "import numpy as np\r\n",
        "import pandas as pd\r\n",
        "import seaborn as sns\r\n",
        "import tensorflow as tf"
      ],
      "execution_count": 21,
      "outputs": []
    },
    {
      "cell_type": "code",
      "metadata": {
        "id": "DhfWrbrAiHF_"
      },
      "source": [
        ""
      ],
      "execution_count": null,
      "outputs": []
    },
    {
      "cell_type": "markdown",
      "metadata": {
        "id": "TwHhmeFwjl0s"
      },
      "source": [
        "  FORMAT OF THE SUBSETTED FILE\r\n",
        "    \r\n",
        "    ITEMS                      FORMAT   \r\n",
        "     \r\n",
        " 1 Year                          I4        \r\n",
        " 2 Day                           I4        \r\n",
        " 3 Hour                          I3        \r\n",
        " 4 Minute                        I3        \r\n",
        " 5 Field magnitude average, nT   F8.2      \r\n",
        " 6 BX, nT (GSE, GSM)             F8.2      \r\n",
        " 7 BY, nT (GSE)                  F8.2      \r\n",
        " 8 BZ, nT (GSE)                  F8.2      \r\n",
        " 9 Speed, km/s                   F8.1      \r\n",
        "10 Vx Velocity,km/s              F8.1      \r\n",
        "11 Vy Velocity, km/s             F8.1      \r\n",
        "12 Vz Velocity, km/s             F8.1      \r\n",
        "13 AE-index, nT                  I6        "
      ]
    },
    {
      "cell_type": "code",
      "metadata": {
        "id": "C2cAcuIwiYwR"
      },
      "source": [
        "import pandas as pd\r\n",
        "\r\n",
        "url=\"https://omniweb.gsfc.nasa.gov/staging/omni_min_2Xdv0flgmn.lst\"\r\n",
        "df=pd.read_csv(url,delim_whitespace=True,header=None)"
      ],
      "execution_count": 17,
      "outputs": []
    },
    {
      "cell_type": "code",
      "metadata": {
        "id": "CkmfVhNRwpRb"
      },
      "source": [
        "URL = \"https://raw.githubusercontent.com/georgesteve/Research-Assitant-ML-ROJ/main/gfajardo_uNz2xU-2020-2.csv\"\r\n",
        "Data = pd.read_csv(URL,index_col=False) \r\n",
        "s4=Data.drop(columns=['Unnamed: 0'])"
      ],
      "execution_count": 84,
      "outputs": []
    },
    {
      "cell_type": "code",
      "metadata": {
        "colab": {
          "base_uri": "https://localhost:8080/",
          "height": 284
        },
        "id": "Yt0QPxSgwuyg",
        "outputId": "57522816-bc2f-4bc1-953e-77c97e5c712e"
      },
      "source": [
        "#print(df)\r\n",
        "\r\n",
        "s4=s4[s4['Elv']>25]\r\n",
        "s4.describe()"
      ],
      "execution_count": 87,
      "outputs": [
        {
          "output_type": "execute_result",
          "data": {
            "text/html": [
              "<div>\n",
              "<style scoped>\n",
              "    .dataframe tbody tr th:only-of-type {\n",
              "        vertical-align: middle;\n",
              "    }\n",
              "\n",
              "    .dataframe tbody tr th {\n",
              "        vertical-align: top;\n",
              "    }\n",
              "\n",
              "    .dataframe thead th {\n",
              "        text-align: right;\n",
              "    }\n",
              "</style>\n",
              "<table border=\"1\" class=\"dataframe\">\n",
              "  <thead>\n",
              "    <tr style=\"text-align: right;\">\n",
              "      <th></th>\n",
              "      <th>Año</th>\n",
              "      <th>Day</th>\n",
              "      <th>Tiempo</th>\n",
              "      <th>PRN</th>\n",
              "      <th>S4</th>\n",
              "      <th>Az</th>\n",
              "      <th>Elv</th>\n",
              "    </tr>\n",
              "  </thead>\n",
              "  <tbody>\n",
              "    <tr>\n",
              "      <th>count</th>\n",
              "      <td>314079.0</td>\n",
              "      <td>314079.00000</td>\n",
              "      <td>314079.000000</td>\n",
              "      <td>314079.000000</td>\n",
              "      <td>314079.000000</td>\n",
              "      <td>314079.000000</td>\n",
              "      <td>314079.000000</td>\n",
              "    </tr>\n",
              "    <tr>\n",
              "      <th>mean</th>\n",
              "      <td>20.0</td>\n",
              "      <td>321.35792</td>\n",
              "      <td>41964.912477</td>\n",
              "      <td>33.933106</td>\n",
              "      <td>0.062762</td>\n",
              "      <td>195.699006</td>\n",
              "      <td>45.857488</td>\n",
              "    </tr>\n",
              "    <tr>\n",
              "      <th>std</th>\n",
              "      <td>0.0</td>\n",
              "      <td>9.24761</td>\n",
              "      <td>25489.011150</td>\n",
              "      <td>43.653003</td>\n",
              "      <td>0.029140</td>\n",
              "      <td>97.079066</td>\n",
              "      <td>13.510426</td>\n",
              "    </tr>\n",
              "    <tr>\n",
              "      <th>min</th>\n",
              "      <td>20.0</td>\n",
              "      <td>306.00000</td>\n",
              "      <td>22.000000</td>\n",
              "      <td>1.000000</td>\n",
              "      <td>0.020000</td>\n",
              "      <td>0.000000</td>\n",
              "      <td>25.100000</td>\n",
              "    </tr>\n",
              "    <tr>\n",
              "      <th>25%</th>\n",
              "      <td>20.0</td>\n",
              "      <td>313.00000</td>\n",
              "      <td>18142.000000</td>\n",
              "      <td>9.000000</td>\n",
              "      <td>0.040000</td>\n",
              "      <td>124.400000</td>\n",
              "      <td>34.900000</td>\n",
              "    </tr>\n",
              "    <tr>\n",
              "      <th>50%</th>\n",
              "      <td>20.0</td>\n",
              "      <td>321.00000</td>\n",
              "      <td>42442.000000</td>\n",
              "      <td>20.000000</td>\n",
              "      <td>0.060000</td>\n",
              "      <td>200.100000</td>\n",
              "      <td>45.600000</td>\n",
              "    </tr>\n",
              "    <tr>\n",
              "      <th>75%</th>\n",
              "      <td>20.0</td>\n",
              "      <td>329.00000</td>\n",
              "      <td>64762.000000</td>\n",
              "      <td>28.000000</td>\n",
              "      <td>0.080000</td>\n",
              "      <td>288.400000</td>\n",
              "      <td>52.200000</td>\n",
              "    </tr>\n",
              "    <tr>\n",
              "      <th>max</th>\n",
              "      <td>20.0</td>\n",
              "      <td>337.00000</td>\n",
              "      <td>85540.000000</td>\n",
              "      <td>138.000000</td>\n",
              "      <td>0.830000</td>\n",
              "      <td>360.000000</td>\n",
              "      <td>89.000000</td>\n",
              "    </tr>\n",
              "  </tbody>\n",
              "</table>\n",
              "</div>"
            ],
            "text/plain": [
              "            Año           Day  ...             Az            Elv\n",
              "count  314079.0  314079.00000  ...  314079.000000  314079.000000\n",
              "mean       20.0     321.35792  ...     195.699006      45.857488\n",
              "std         0.0       9.24761  ...      97.079066      13.510426\n",
              "min        20.0     306.00000  ...       0.000000      25.100000\n",
              "25%        20.0     313.00000  ...     124.400000      34.900000\n",
              "50%        20.0     321.00000  ...     200.100000      45.600000\n",
              "75%        20.0     329.00000  ...     288.400000      52.200000\n",
              "max        20.0     337.00000  ...     360.000000      89.000000\n",
              "\n",
              "[8 rows x 7 columns]"
            ]
          },
          "metadata": {
            "tags": []
          },
          "execution_count": 87
        }
      ]
    },
    {
      "cell_type": "code",
      "metadata": {
        "id": "p5owEEm0xMEe"
      },
      "source": [
        ""
      ],
      "execution_count": null,
      "outputs": []
    },
    {
      "cell_type": "code",
      "metadata": {
        "colab": {
          "base_uri": "https://localhost:8080/",
          "height": 195
        },
        "id": "bezUDCSziuLj",
        "outputId": "bd5ab36c-bc27-41e8-ad74-9c8adf06dc36"
      },
      "source": [
        "df.head()"
      ],
      "execution_count": 18,
      "outputs": [
        {
          "output_type": "execute_result",
          "data": {
            "text/html": [
              "<div>\n",
              "<style scoped>\n",
              "    .dataframe tbody tr th:only-of-type {\n",
              "        vertical-align: middle;\n",
              "    }\n",
              "\n",
              "    .dataframe tbody tr th {\n",
              "        vertical-align: top;\n",
              "    }\n",
              "\n",
              "    .dataframe thead th {\n",
              "        text-align: right;\n",
              "    }\n",
              "</style>\n",
              "<table border=\"1\" class=\"dataframe\">\n",
              "  <thead>\n",
              "    <tr style=\"text-align: right;\">\n",
              "      <th></th>\n",
              "      <th>0</th>\n",
              "      <th>1</th>\n",
              "      <th>2</th>\n",
              "      <th>3</th>\n",
              "      <th>4</th>\n",
              "      <th>5</th>\n",
              "      <th>6</th>\n",
              "      <th>7</th>\n",
              "      <th>8</th>\n",
              "      <th>9</th>\n",
              "      <th>10</th>\n",
              "      <th>11</th>\n",
              "      <th>12</th>\n",
              "    </tr>\n",
              "  </thead>\n",
              "  <tbody>\n",
              "    <tr>\n",
              "      <th>0</th>\n",
              "      <td>2020</td>\n",
              "      <td>306</td>\n",
              "      <td>0</td>\n",
              "      <td>0</td>\n",
              "      <td>4.24</td>\n",
              "      <td>-3.25</td>\n",
              "      <td>1.95</td>\n",
              "      <td>1.89</td>\n",
              "      <td>372.6</td>\n",
              "      <td>-372.4</td>\n",
              "      <td>-9.1</td>\n",
              "      <td>-5.0</td>\n",
              "      <td>99999</td>\n",
              "    </tr>\n",
              "    <tr>\n",
              "      <th>1</th>\n",
              "      <td>2020</td>\n",
              "      <td>306</td>\n",
              "      <td>0</td>\n",
              "      <td>1</td>\n",
              "      <td>4.34</td>\n",
              "      <td>-3.32</td>\n",
              "      <td>2.29</td>\n",
              "      <td>1.60</td>\n",
              "      <td>99999.9</td>\n",
              "      <td>99999.9</td>\n",
              "      <td>99999.9</td>\n",
              "      <td>99999.9</td>\n",
              "      <td>99999</td>\n",
              "    </tr>\n",
              "    <tr>\n",
              "      <th>2</th>\n",
              "      <td>2020</td>\n",
              "      <td>306</td>\n",
              "      <td>0</td>\n",
              "      <td>2</td>\n",
              "      <td>4.17</td>\n",
              "      <td>-3.06</td>\n",
              "      <td>2.73</td>\n",
              "      <td>0.72</td>\n",
              "      <td>376.9</td>\n",
              "      <td>-376.1</td>\n",
              "      <td>-21.1</td>\n",
              "      <td>13.5</td>\n",
              "      <td>99999</td>\n",
              "    </tr>\n",
              "    <tr>\n",
              "      <th>3</th>\n",
              "      <td>2020</td>\n",
              "      <td>306</td>\n",
              "      <td>0</td>\n",
              "      <td>3</td>\n",
              "      <td>4.22</td>\n",
              "      <td>-3.12</td>\n",
              "      <td>2.71</td>\n",
              "      <td>0.79</td>\n",
              "      <td>376.9</td>\n",
              "      <td>-376.1</td>\n",
              "      <td>-21.1</td>\n",
              "      <td>13.5</td>\n",
              "      <td>99999</td>\n",
              "    </tr>\n",
              "    <tr>\n",
              "      <th>4</th>\n",
              "      <td>2020</td>\n",
              "      <td>306</td>\n",
              "      <td>0</td>\n",
              "      <td>4</td>\n",
              "      <td>4.28</td>\n",
              "      <td>-2.95</td>\n",
              "      <td>2.55</td>\n",
              "      <td>1.55</td>\n",
              "      <td>372.6</td>\n",
              "      <td>-372.1</td>\n",
              "      <td>-16.7</td>\n",
              "      <td>9.3</td>\n",
              "      <td>99999</td>\n",
              "    </tr>\n",
              "  </tbody>\n",
              "</table>\n",
              "</div>"
            ],
            "text/plain": [
              "     0    1   2   3     4   ...       8        9        10       11     12\n",
              "0  2020  306   0   0  4.24  ...    372.6   -372.4     -9.1     -5.0  99999\n",
              "1  2020  306   0   1  4.34  ...  99999.9  99999.9  99999.9  99999.9  99999\n",
              "2  2020  306   0   2  4.17  ...    376.9   -376.1    -21.1     13.5  99999\n",
              "3  2020  306   0   3  4.22  ...    376.9   -376.1    -21.1     13.5  99999\n",
              "4  2020  306   0   4  4.28  ...    372.6   -372.1    -16.7      9.3  99999\n",
              "\n",
              "[5 rows x 13 columns]"
            ]
          },
          "metadata": {
            "tags": []
          },
          "execution_count": 18
        }
      ]
    },
    {
      "cell_type": "code",
      "metadata": {
        "colab": {
          "base_uri": "https://localhost:8080/"
        },
        "id": "lx01FpNckCCp",
        "outputId": "6589f8bd-61f0-45e9-c8c1-5ae107ff00e6"
      },
      "source": [
        "df.describe"
      ],
      "execution_count": 19,
      "outputs": [
        {
          "output_type": "execute_result",
          "data": {
            "text/plain": [
              "<bound method NDFrame.describe of          0    1   2   3     4   ...       8        9        10       11     12\n",
              "0      2020  306   0   0  4.24  ...    372.6   -372.4     -9.1     -5.0  99999\n",
              "1      2020  306   0   1  4.34  ...  99999.9  99999.9  99999.9  99999.9  99999\n",
              "2      2020  306   0   2  4.17  ...    376.9   -376.1    -21.1     13.5  99999\n",
              "3      2020  306   0   3  4.22  ...    376.9   -376.1    -21.1     13.5  99999\n",
              "4      2020  306   0   4  4.28  ...    372.6   -372.1    -16.7      9.3  99999\n",
              "...     ...  ...  ..  ..   ...  ...      ...      ...      ...      ...    ...\n",
              "43195  2020  335  23  55  4.26  ...    436.3   -434.4    -36.4    -18.2  99999\n",
              "43196  2020  335  23  56  4.27  ...    443.7   -442.8    -28.3     -5.8  99999\n",
              "43197  2020  335  23  57  4.27  ...    440.3   -438.6    -37.1    -14.2  99999\n",
              "43198  2020  335  23  58  4.29  ...    439.9   -438.0    -38.3    -15.3  99999\n",
              "43199  2020  335  23  59  4.30  ...    447.2   -445.6    -35.4    -14.7  99999\n",
              "\n",
              "[43200 rows x 13 columns]>"
            ]
          },
          "metadata": {
            "tags": []
          },
          "execution_count": 19
        }
      ]
    },
    {
      "cell_type": "code",
      "metadata": {
        "colab": {
          "base_uri": "https://localhost:8080/",
          "height": 391
        },
        "id": "uShHhPcykMYT",
        "outputId": "37ee15ff-7cc7-4726-9701-6b6d4a8b20d3"
      },
      "source": [
        "df_std = (df - df.mean()) / df.std()\r\n",
        "df_std = df_std.melt(var_name='Column', value_name='Normalized')\r\n",
        "plt.figure(figsize=(12, 6))\r\n",
        "ax = sns.violinplot(x='Column', y='Normalized', data=df_std)\r\n",
        "_ = ax.set_xticklabels(df.keys(), rotation=90)"
      ],
      "execution_count": 22,
      "outputs": [
        {
          "output_type": "display_data",
          "data": {
            "image/png": "[encoded data removed]",
            "text/plain": [
              "<Figure size 864x432 with 1 Axes>"
            ]
          },
          "metadata": {
            "tags": [],
            "needs_background": "light"
          }
        }
      ]
    },
    {
      "cell_type": "code",
      "metadata": {
        "colab": {
          "base_uri": "https://localhost:8080/",
          "height": 283
        },
        "id": "noZMDjXHiFPF",
        "outputId": "2f994fd9-0f2c-4fe1-c4e4-51de3453e67a"
      },
      "source": [
        "#Este cpodigo aún debe ser adaptdo, en este punto existen \"n\" muestras para cada observación, además \"n\" es variable\r\n",
        "fft = tf.signal.rfft(df[2])\r\n",
        "f_per_dataset = np.arange(0, len(fft))\r\n",
        "\r\n",
        "n_samples_5min = len(df[2])\r\n",
        "hours_per_year = 24*365.2524*60\r\n",
        "years_per_dataset = n_samples_h/(hours_per_year)\r\n",
        "\r\n",
        "\r\n",
        "f_per_year = f_per_dataset/years_per_dataset\r\n",
        "\r\n",
        "\r\n",
        "\r\n",
        "plt.step(f_per_year, np.abs(fft))\r\n",
        "plt.xscale('log')\r\n",
        "plt.ylim(0, 400000)\r\n",
        "plt.xlim([0.1, max(plt.xlim())])\r\n",
        "plt.xticks([1, 365.2524], labels=['1/Year', '1/day'])\r\n",
        "_ = plt.xlabel('Frequency (log scale)')"
      ],
      "execution_count": 35,
      "outputs": [
        {
          "output_type": "display_data",
          "data": {
            "image/png": "[encoded data removed]",
            "text/plain": [
              "<Figure size 432x288 with 1 Axes>"
            ]
          },
          "metadata": {
            "tags": [],
            "needs_background": "light"
          }
        }
      ]
    },
    {
      "cell_type": "markdown",
      "metadata": {
        "id": "lc4vog2ZoHb0"
      },
      "source": [
        "Crearemos una función para evaluar causalidad, usando Informaci{on mutua retrasada, para ello, la función nos devuelve el dataframe original recortado y el dataframe nuevo."
      ]
    },
    {
      "cell_type": "code",
      "metadata": {
        "id": "fZqBkVQjolEb"
      },
      "source": [
        "def recorte(df,time_delay):\r\n",
        "  #time_delay. Es el retraso en pasos (términos de la frecuencia de muestreo), en tiempo real sería= time_delay*frecuencia de muestreo\r\n",
        "  #df es el dataset orginal\r\n",
        "  return df[:len(df)-time_delay],df[time_delay:]"
      ],
      "execution_count": 44,
      "outputs": []
    },
    {
      "cell_type": "code",
      "metadata": {
        "colab": {
          "base_uri": "https://localhost:8080/"
        },
        "id": "4oXsCR_moGrX",
        "outputId": "34d5a473-b0f6-4560-b8b1-226ab1b79ebc"
      },
      "source": [
        "a=recorte(df,15)\r\n",
        "\r\n",
        "x=a[0][a[0].columns[4:10]]\r\n",
        "y1=a[1][11]\r\n",
        "\r\n",
        "#print(a[0][a[0].columns[4:10]])\r\n",
        "print(a[0])\r\n",
        "print(a[1])"
      ],
      "execution_count": 109,
      "outputs": [
        {
          "output_type": "stream",
          "text": [
            "         0    1   2   3     4   ...       8        9        10       11     12\n",
            "0      2020  306   0   0  4.24  ...    372.6   -372.4     -9.1     -5.0  99999\n",
            "1      2020  306   0   1  4.34  ...  99999.9  99999.9  99999.9  99999.9  99999\n",
            "2      2020  306   0   2  4.17  ...    376.9   -376.1    -21.1     13.5  99999\n",
            "3      2020  306   0   3  4.22  ...    376.9   -376.1    -21.1     13.5  99999\n",
            "4      2020  306   0   4  4.28  ...    372.6   -372.1    -16.7      9.3  99999\n",
            "...     ...  ...  ..  ..   ...  ...      ...      ...      ...      ...    ...\n",
            "43180  2020  335  23  40  4.26  ...    414.7   -411.8    -26.7    -41.5  99999\n",
            "43181  2020  335  23  41  4.29  ...    414.7   -411.8    -26.7    -41.5  99999\n",
            "43182  2020  335  23  42  4.25  ...  99999.9  99999.9  99999.9  99999.9  99999\n",
            "43183  2020  335  23  43  4.25  ...    411.4   -409.7    -27.1    -25.6  99999\n",
            "43184  2020  335  23  44  4.21  ...    414.7   -412.9    -28.9    -25.4  99999\n",
            "\n",
            "[43185 rows x 13 columns]\n",
            "         0    1   2   3     4     5   ...    7      8      9     10    11     12\n",
            "15     2020  306   0  15  4.69 -1.79  ...  1.52  379.6 -379.3   1.6  -6.8  99999\n",
            "16     2020  306   0  16  4.84 -2.62  ...  2.92  376.1 -375.9   5.8 -13.0  99999\n",
            "17     2020  306   0  17  4.83 -2.66  ...  3.23  374.4 -373.8   9.1 -19.3  99999\n",
            "18     2020  306   0  18  4.87 -2.84  ...  3.65  374.4 -373.8   9.2 -19.3  99999\n",
            "19     2020  306   0  19  4.81 -2.68  ...  3.33  376.6 -376.1  14.4 -10.4  99999\n",
            "...     ...  ...  ..  ..   ...   ...  ...   ...    ...    ...   ...   ...    ...\n",
            "43195  2020  335  23  55  4.26  0.40  ...  0.31  436.3 -434.4 -36.4 -18.2  99999\n",
            "43196  2020  335  23  56  4.27  0.37  ...  0.43  443.7 -442.8 -28.3  -5.8  99999\n",
            "43197  2020  335  23  57  4.27  0.59  ...  0.38  440.3 -438.6 -37.1 -14.2  99999\n",
            "43198  2020  335  23  58  4.29  0.57  ...  0.39  439.9 -438.0 -38.3 -15.3  99999\n",
            "43199  2020  335  23  59  4.30  0.65  ...  0.29  447.2 -445.6 -35.4 -14.7  99999\n",
            "\n",
            "[43185 rows x 13 columns]\n"
          ],
          "name": "stdout"
        }
      ]
    },
    {
      "cell_type": "code",
      "metadata": {
        "colab": {
          "base_uri": "https://localhost:8080/"
        },
        "id": "ryIZSnnjpjiv",
        "outputId": "8327abef-528a-4315-fca7-6cdaced58959"
      },
      "source": [
        "import sklearn\r\n",
        "from sklearn import metrics\r\n",
        "import numpy as np\r\n",
        "\r\n",
        "vector=np.arange(0, 300, 5)\r\n",
        "print(vector)\r\n",
        "vector_mi=[]\r\n",
        "vector_co=[]\r\n",
        "indice_entrada=4\r\n",
        "indice_salida=7\r\n",
        "def mutual_information_along_vector(df,vector,indice_entrada,indice_salida):\r\n",
        "  for i in vector:\r\n",
        "    a=recorte(df,i)\r\n",
        "    x=a[0][indice_entrada]\r\n",
        "    y1=a[1][indice_salida]\r\n",
        "    mi=sklearn.metrics.mutual_info_score(y1,x)\r\n",
        "    r = np.corrcoef(x, y1)\r\n",
        "    vector_mi.append(mi)\r\n",
        "    vector_co.append(r[1,0])\r\n",
        "  return np.transpose(vector_mi),np.transpose(vector_co) \r\n",
        "vector_mi=mutual_information_along_vector(df,vector,indice_entrada,indice_salida)\r\n",
        "print(mi)\r\n",
        "#print(r)"
      ],
      "execution_count": 106,
      "outputs": [
        {
          "output_type": "stream",
          "text": [
            "[  0   5  10  15  20  25  30  35  40  45  50  55  60  65  70  75  80  85\n",
            "  90  95 100 105 110 115 120 125 130 135 140 145 150 155 160 165 170 175\n",
            " 180 185 190 195 200 205 210 215 220 225 230 235 240 245 250 255 260 265\n",
            " 270 275 280 285 290 295]\n",
            "2.367235729089864\n"
          ],
          "name": "stdout"
        }
      ]
    },
    {
      "cell_type": "code",
      "metadata": {
        "colab": {
          "base_uri": "https://localhost:8080/"
        },
        "id": "Cx5NPDcfyHOY",
        "outputId": "7bce6149-01e7-4cf6-df6e-7be39f3e5872"
      },
      "source": [
        "print(r[1,0])"
      ],
      "execution_count": 107,
      "outputs": [
        {
          "output_type": "stream",
          "text": [
            "0.2876529839642533\n"
          ],
          "name": "stdout"
        }
      ]
    },
    {
      "cell_type": "code",
      "metadata": {
        "colab": {
          "base_uri": "https://localhost:8080/",
          "height": 283
        },
        "id": "Y_zYvorFz3xv",
        "outputId": "47348390-5c88-4167-b074-e2d011f807e4"
      },
      "source": [
        "# create figure and axis objects with subplots()\r\n",
        "fig,ax = plt.subplots()\r\n",
        "# make a plot\r\n",
        "ax.plot(vector,vector_mi[1], color=\"red\", marker=\"o\")\r\n",
        "# set x-axis label\r\n",
        "ax.set_xlabel(\"Minutos\",fontsize=14)\r\n",
        "# set y-axis label\r\n",
        "ax.set_ylabel(\"Correlación\",color=\"red\",fontsize=14)\r\n",
        "\r\n",
        "# twin object for two different y-axis on the sample plot\r\n",
        "ax2=ax.twinx()\r\n",
        "# make a plot with different y-axis using second axis object\r\n",
        "ax2.plot(vector,vector_mi[0],color=\"blue\",marker=\"o\")\r\n",
        "ax2.set_ylabel(\"Información mutua\",color=\"blue\",fontsize=14)\r\n",
        "plt.show()\r\n"
      ],
      "execution_count": 108,
      "outputs": [
        {
          "output_type": "display_data",
          "data": {
            "image/png": "[encoded data removed]",
            "text/plain": [
              "<Figure size 432x288 with 2 Axes>"
            ]
          },
          "metadata": {
            "tags": [],
            "needs_background": "light"
          }
        }
      ]
    },
    {
      "cell_type": "code",
      "metadata": {
        "colab": {
          "base_uri": "https://localhost:8080/"
        },
        "id": "kfktn2EZlBx6",
        "outputId": "134bf7e5-6926-49a4-989a-b8d13524b010"
      },
      "source": [
        "df[1]"
      ],
      "execution_count": 102,
      "outputs": [
        {
          "output_type": "execute_result",
          "data": {
            "text/plain": [
              "0        306\n",
              "1        306\n",
              "2        306\n",
              "3        306\n",
              "4        306\n",
              "        ... \n",
              "43195    335\n",
              "43196    335\n",
              "43197    335\n",
              "43198    335\n",
              "43199    335\n",
              "Name: 1, Length: 43200, dtype: int64"
            ]
          },
          "metadata": {
            "tags": []
          },
          "execution_count": 102
        }
      ]
    },
    {
      "cell_type": "code",
      "metadata": {
        "id": "_eJ5MTPOitWB"
      },
      "source": [
        ""
      ],
      "execution_count": null,
      "outputs": []
    }
  ]
}