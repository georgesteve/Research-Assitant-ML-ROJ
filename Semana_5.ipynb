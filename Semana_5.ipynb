{
  "nbformat": 4,
  "nbformat_minor": 0,
  "metadata": {
    "colab": {
      "name": "Semana 5",
      "provenance": [],
      "include_colab_link": true
    },
    "kernelspec": {
      "name": "python3",
      "display_name": "Python 3"
    }
  },
  "cells": [
    {
      "cell_type": "markdown",
      "metadata": {
        "id": "view-in-github",
        "colab_type": "text"
      },
      "source": [
        "<a href=\"https://colab.research.google.com/github/georgesteve/Research-Assitant-ML-ROJ/blob/main/Semana_5.ipynb\" target=\"_parent\"><img src=\"https://colab.research.google.com/assets/colab-badge.svg\" alt=\"Open In Colab\"/></a>"
      ]
    },
    {
      "cell_type": "markdown",
      "metadata": {
        "id": "Bjgs7vKZmOVX"
      },
      "source": [
        "#[Forecasting Global Ionospheric TEC Using Deep Learning Approach](https://doi.org/10.1029/2020SW002501)"
      ]
    },
    {
      "cell_type": "code",
      "metadata": {
        "colab": {
          "base_uri": "https://localhost:8080/",
          "height": 35
        },
        "id": "aXANB0RGLQ8_",
        "outputId": "f5325313-5b26-416d-c28b-0caf61d22961"
      },
      "source": [
        "import tensorflow as tf\r\n",
        "tf.test.gpu_device_name()"
      ],
      "execution_count": null,
      "outputs": [
        {
          "output_type": "execute_result",
          "data": {
            "application/vnd.google.colaboratory.intrinsic+json": {
              "type": "string"
            },
            "text/plain": [
              "''"
            ]
          },
          "metadata": {
            "tags": []
          },
          "execution_count": 8
        }
      ]
    },
    {
      "cell_type": "code",
      "metadata": {
        "colab": {
          "base_uri": "https://localhost:8080/"
        },
        "id": "ZfVJRPQ0N64j",
        "outputId": "a276327c-5dcf-4c3e-bd67-c3e82b4be78e"
      },
      "source": [
        "# Mount Google Drive\r\n",
        "from google.colab import drive # import drive from google colab\r\n",
        "\r\n",
        "ROOT = \"/content/drive\"     # default location for the drive\r\n",
        "print(ROOT)                 # print content of ROOT (Optional)\r\n",
        "\r\n",
        "drive.mount(ROOT)           # we mount the google drive at /content/drive"
      ],
      "execution_count": null,
      "outputs": [
        {
          "output_type": "stream",
          "text": [
            "/content/drive\n",
            "Mounted at /content/drive\n"
          ],
          "name": "stdout"
        }
      ]
    },
    {
      "cell_type": "code",
      "metadata": {
        "colab": {
          "base_uri": "https://localhost:8080/"
        },
        "id": "QFlRurC-OE8z",
        "outputId": "516293f5-5b14-426b-e9bd-e63d230555c8"
      },
      "source": [
        "ls"
      ],
      "execution_count": null,
      "outputs": [
        {
          "output_type": "stream",
          "text": [
            " 0001.jpg\n",
            " 85192060-Los-cincuenta-anos-de-Jicamarca.pdf\n",
            "'98 FORMATO  DEDICATORIA APG.doc (1).docx'\n",
            "'ATRAD presentación 1 ROJ.gslides'\n",
            " \u001b[0m\u001b[01;34mClassroom\u001b[0m/\n",
            "\u001b[01;34m'Colab Notebooks'\u001b[0m/\n",
            "\u001b[01;34m'COMPENDIO FAJARDO SORIA'\u001b[0m/\n",
            "'Copia de Checklist para discusiones públicas.gsheet'\n",
            "'Copia de CitiesExt.csv.gsheet'\n",
            "'Copia de Copia de Copia de TESIS FAJARDO SORIA GEORGE Presentación Final.gslides'\n",
            "'Copia de deltaV station keeping .gdoc'\n",
            "'Copia de Manual Sesiones de Prueba de Amanecidas Hackspace.gdoc'\n",
            "'Copia de PlayersExt.csv.gsheet'\n",
            "'Copia de Process Flow Diagram Template.gdraw'\n",
            "'Copia de TESIS FAJARDO SORIA GEORGE Presentación Final (1).gslides'\n",
            "'Copia de TESIS FAJARDO SORIA GEORGE Presentación Final.gslides'\n",
            "'Copia de yqw-xmbf-pkw - 3 de dic. de 2020.gjam'\n",
            "\u001b[01;34m'coreupgrade retos'\u001b[0m/\n",
            " Cuentas.gsheet\n",
            " curso-frances.pdf\n",
            "'Documento sin título (1).gdoc'\n",
            "'Documento sin título (2).gdoc'\n",
            "'Documento sin título.gdoc'\n",
            "'ECI TESIS FAJARDO SORIA GEORGE Presentación Final (1).gslides'\n",
            "'ECI TESIS FAJARDO SORIA GEORGE Presentación Final.gslides'\n",
            "'Ejemplo de Informe Final1.docx'\n",
            "'Ejemplo de Informe Final1.gdoc'\n",
            "'Ejemplo de Informe Final2.docx'\n",
            "'ENTREGABLE FINAL de TESIS FAJARDO SORIA GEORGE Presentación Final.gslides'\n",
            " FAJARDO_GEORGE_CV1.pdf\n",
            "'FAJARDO SORIA GEORGE Presentación Final.gslides'\n",
            "'FAJARDO SORIA GEORGE Presentación Final.ppt'\n",
            "'Feedback del programa.docx'\n",
            " \u001b[01;34mFigura\u001b[0m/\n",
            "\u001b[01;34m'Getting Started with Google Sheets'\u001b[0m/\n",
            "'Icpna 3 document.gdoc'\n",
            " IMG_20180114_104523.jpg\n",
            " include1.docx\n",
            " include.docx\n",
            " JInostroza_Informe_Mensual_Julio2020_V2.gdoc\n",
            " JInostroza_Informe_Mensual_Julio2020_V2.pdf\n",
            "\u001b[01;34m'Nueva carpeta'\u001b[0m/\n",
            "'PLAN TESIS FAJARDO SORIA RECEPTORES GNSS.gdoc'\n",
            "'PLAN TESIS FAJARDO SORIA RECEPTORES GNSS.pdf'\n",
            "'plantilla_compendio_2019 GEORGE FAJARDO.docx'\n",
            "'Prova Parcial B3 (Resultados).xlsx'\n",
            "'Reto 1.gdoc'\n",
            "\u001b[01;34m'retos coreupgrade'\u001b[0m/\n",
            "'Speaking 2 - AG03.gdoc'\n",
            " template.pptx\n",
            "'TESIS FAJARDO SORIA GEORGE Presentación Final.gslides'\n",
            "'TESIS presentación 1 ROJ.gslides'\n",
            "'Untitled Project ‐ Made with Clipchamp (1).mp4'\n"
          ],
          "name": "stdout"
        }
      ]
    },
    {
      "cell_type": "markdown",
      "metadata": {
        "id": "a2sYh3H-mi3K"
      },
      "source": [
        "Este paper utiliza RNN con arquitecturas LSTM para predecir condiciones de TEC.\r\n"
      ]
    },
    {
      "cell_type": "code",
      "metadata": {
        "id": "dKhfsNbKLRkg"
      },
      "source": [
        "https://github.com/georgesteve/Research-Assitant-ML-ROJ.git"
      ],
      "execution_count": null,
      "outputs": []
    },
    {
      "cell_type": "code",
      "metadata": {
        "id": "zhSYjwuxme4j"
      },
      "source": [
        "import pandas\r\n",
        "URL = \"https://raw.githubusercontent.com/georgesteve/Research-Assitant-ML-ROJ/main/gfajardo_uNz2xU-2020-2.csv\"\r\n",
        "Data = pandas.read_csv(URL,index_col=False) \r\n",
        "df=Data.drop(columns=['Unnamed: 0'])\r\n"
      ],
      "execution_count": 34,
      "outputs": []
    },
    {
      "cell_type": "code",
      "metadata": {
        "colab": {
          "base_uri": "https://localhost:8080/"
        },
        "id": "7yxG84TVKLES",
        "outputId": "c565f9a3-1b84-479d-e3bf-cf222e2a1b73"
      },
      "source": [
        "print(df)"
      ],
      "execution_count": 35,
      "outputs": [
        {
          "output_type": "stream",
          "text": [
            "        Año  Day  Tiempo  PRN    S4     Az   Elv\n",
            "0        20  306      22    3  0.10  300.9  24.6\n",
            "1        20  306      22    8  0.05  199.5  47.2\n",
            "2        20  306      22   10  0.40  147.1  14.3\n",
            "3        20  306      22   11  0.08  210.6  26.2\n",
            "4        20  306      22   16  0.04  342.4  42.3\n",
            "...     ...  ...     ...  ...   ...    ...   ...\n",
            "452982   20  337   85540   21  0.05  159.0  48.7\n",
            "452983   20  337   85540   22  0.08  206.3  42.2\n",
            "452984   20  337   85540   27  0.06   22.7  36.8\n",
            "452985   20  337   85540   31  0.20   89.3  15.1\n",
            "452986   20  337   85540  138  0.04  288.3  50.6\n",
            "\n",
            "[452987 rows x 7 columns]\n"
          ],
          "name": "stdout"
        }
      ]
    },
    {
      "cell_type": "code",
      "metadata": {
        "id": "B-e5AR1eQo9I"
      },
      "source": [
        "def plot_series(time, series, format=\"-\", start=0, end=None):\r\n",
        "    plt.plot(time[start:end], series[start:end], format)\r\n",
        "    plt.xlabel(\"Time\")\r\n",
        "    plt.ylabel(\"Value\")\r\n",
        "    plt.grid(True)\r\n",
        "\r\n",
        "def trend(time, slope=0):\r\n",
        "    return slope * time\r\n",
        "\r\n",
        "def seasonal_pattern(season_time):\r\n",
        "    \"\"\"Just an arbitrary pattern, you can change it if you wish\"\"\"\r\n",
        "    return np.where(season_time < 0.4,\r\n",
        "                    np.cos(season_time * 2 * np.pi),\r\n",
        "                    1 / np.exp(3 * season_time))\r\n",
        "\r\n",
        "def seasonality(time, period, amplitude=1, phase=0):\r\n",
        "    \"\"\"Repeats the same pattern at each period\"\"\"\r\n",
        "    season_time = ((time + phase) % period) / period\r\n",
        "    return amplitude * seasonal_pattern(season_time)\r\n",
        "\r\n",
        "def noise(time, noise_level=1, seed=None):\r\n",
        "    rnd = np.random.RandomState(seed)\r\n",
        "    return rnd.randn(len(time)) * noise_level\r\n",
        "\r\n",
        "time = np.arange(4 * 365 + 1, dtype=\"float32\")\r\n",
        "baseline = 10\r\n",
        "series = trend(time, 0.1)  \r\n",
        "baseline = 10\r\n",
        "amplitude = 40\r\n",
        "slope = 0.05\r\n",
        "noise_level = 5\r\n",
        "\r\n",
        "# Create the series\r\n",
        "series = baseline + trend(time, slope) + seasonality(time, period=365, amplitude=amplitude)\r\n",
        "# Update with noise\r\n",
        "series += noise(time, noise_level, seed=42)\r\n",
        "\r\n",
        "split_time = 1000\r\n",
        "time_train = time[:split_time]\r\n",
        "x_train = series[:split_time]\r\n",
        "time_valid = time[split_time:]\r\n",
        "x_valid = series[split_time:]\r\n",
        "\r\n",
        "window_size = 20\r\n",
        "batch_size = 32\r\n",
        "shuffle_buffer_size = 1000"
      ],
      "execution_count": null,
      "outputs": []
    }
  ]
}