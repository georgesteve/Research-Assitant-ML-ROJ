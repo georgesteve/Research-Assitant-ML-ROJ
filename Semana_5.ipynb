{
  "nbformat": 4,
  "nbformat_minor": 0,
  "metadata": {
    "colab": {
      "name": "Semana 5",
      "provenance": [],
      "include_colab_link": true
    },
    "kernelspec": {
      "name": "python3",
      "display_name": "Python 3"
    }
  },
  "cells": [
    {
      "cell_type": "markdown",
      "metadata": {
        "id": "view-in-github",
        "colab_type": "text"
      },
      "source": [
        "<a href=\"https://colab.research.google.com/github/georgesteve/Research-Assitant-ML-ROJ/blob/Develop/Semana_5.ipynb\" target=\"_parent\"><img src=\"https://colab.research.google.com/assets/colab-badge.svg\" alt=\"Open In Colab\"/></a>"
      ]
    },
    {
      "cell_type": "markdown",
      "metadata": {
        "id": "Bjgs7vKZmOVX"
      },
      "source": [
        "#[Forecasting Global Ionospheric TEC Using Deep Learning Approach](https://doi.org/10.1029/2020SW002501)"
      ]
    },
    {
      "cell_type": "markdown",
      "metadata": {
        "id": "Xom1YYl75rv8"
      },
      "source": [
        "https://www.tensorflow.org/tutorials/structured_data/time_series#multi-step_models"
      ]
    },
    {
      "cell_type": "code",
      "metadata": {
        "colab": {
          "base_uri": "https://localhost:8080/",
          "height": 35
        },
        "id": "aXANB0RGLQ8_",
        "outputId": "f5325313-5b26-416d-c28b-0caf61d22961"
      },
      "source": [
        "import tensorflow as tf\r\n",
        "tf.test.gpu_device_name()"
      ],
      "execution_count": null,
      "outputs": [
        {
          "output_type": "execute_result",
          "data": {
            "application/vnd.google.colaboratory.intrinsic+json": {
              "type": "string"
            },
            "text/plain": [
              "''"
            ]
          },
          "metadata": {
            "tags": []
          },
          "execution_count": 8
        }
      ]
    },
    {
      "cell_type": "code",
      "metadata": {
        "colab": {
          "base_uri": "https://localhost:8080/"
        },
        "id": "ZfVJRPQ0N64j",
        "outputId": "a276327c-5dcf-4c3e-bd67-c3e82b4be78e"
      },
      "source": [
        "# Mount Google Drive\r\n",
        "from google.colab import drive # import drive from google colab\r\n",
        "\r\n",
        "ROOT = \"/content/drive\"     # default location for the drive\r\n",
        "print(ROOT)                 # print content of ROOT (Optional)\r\n",
        "\r\n",
        "drive.mount(ROOT)           # we mount the google drive at /content/drive"
      ],
      "execution_count": null,
      "outputs": [
        {
          "output_type": "stream",
          "text": [
            "/content/drive\n",
            "Mounted at /content/drive\n"
          ],
          "name": "stdout"
        }
      ]
    },
    {
      "cell_type": "markdown",
      "metadata": {
        "id": "a2sYh3H-mi3K"
      },
      "source": [
        "Este paper utiliza RNN con arquitecturas LSTM para predecir condiciones de TEC.\r\n"
      ]
    },
    {
      "cell_type": "markdown",
      "metadata": {
        "id": "o3FqrHW86p6N"
      },
      "source": [
        "##Importar librerías"
      ]
    },
    {
      "cell_type": "code",
      "metadata": {
        "id": "F8dgK3R88tdS",
        "colab": {
          "base_uri": "https://localhost:8080/"
        },
        "outputId": "d2c59bc4-c5af-47b6-9b1e-7f067e0a0522"
      },
      "source": [
        "import os\r\n",
        "import datetime\r\n",
        "\r\n",
        "import IPython\r\n",
        "import IPython.display\r\n",
        "import matplotlib as mpl\r\n",
        "import matplotlib.pyplot as plt\r\n",
        "import numpy as np\r\n",
        "import pandas as pd\r\n",
        "import seaborn as sns\r\n",
        "import tensorflow as tf\r\n",
        "\r\n",
        "mpl.rcParams['figure.figsize'] = (8, 6)\r\n",
        "mpl.rcParams['axes.grid'] = False\r\n",
        "print(tf.__version__)"
      ],
      "execution_count": 2,
      "outputs": [
        {
          "output_type": "stream",
          "text": [
            "2.4.1\n"
          ],
          "name": "stdout"
        }
      ]
    },
    {
      "cell_type": "code",
      "metadata": {
        "id": "dKhfsNbKLRkg"
      },
      "source": [
        "https://github.com/georgesteve/Research-Assitant-ML-ROJ.git"
      ],
      "execution_count": null,
      "outputs": []
    },
    {
      "cell_type": "markdown",
      "metadata": {
        "id": "VTmiONYt9OaW"
      },
      "source": [
        "##Importar Data"
      ]
    },
    {
      "cell_type": "code",
      "metadata": {
        "id": "zhSYjwuxme4j"
      },
      "source": [
        "\r\n",
        "URL = \"https://raw.githubusercontent.com/georgesteve/Research-Assitant-ML-ROJ/main/gfajardo_uNz2xU-2020-2.csv\"\r\n",
        "Data = pd.read_csv(URL,index_col=False) \r\n",
        "df=Data.drop(columns=['Unnamed: 0'])\r\n"
      ],
      "execution_count": 3,
      "outputs": []
    },
    {
      "cell_type": "code",
      "metadata": {
        "colab": {
          "base_uri": "https://localhost:8080/",
          "height": 297
        },
        "id": "7yxG84TVKLES",
        "outputId": "0de68d81-22fb-4b98-b717-3d06820879b8"
      },
      "source": [
        "#print(df)\r\n",
        "df.describe()"
      ],
      "execution_count": 4,
      "outputs": [
        {
          "output_type": "execute_result",
          "data": {
            "text/html": [
              "<div>\n",
              "<style scoped>\n",
              "    .dataframe tbody tr th:only-of-type {\n",
              "        vertical-align: middle;\n",
              "    }\n",
              "\n",
              "    .dataframe tbody tr th {\n",
              "        vertical-align: top;\n",
              "    }\n",
              "\n",
              "    .dataframe thead th {\n",
              "        text-align: right;\n",
              "    }\n",
              "</style>\n",
              "<table border=\"1\" class=\"dataframe\">\n",
              "  <thead>\n",
              "    <tr style=\"text-align: right;\">\n",
              "      <th></th>\n",
              "      <th>Año</th>\n",
              "      <th>Day</th>\n",
              "      <th>Tiempo</th>\n",
              "      <th>PRN</th>\n",
              "      <th>S4</th>\n",
              "      <th>Az</th>\n",
              "      <th>Elv</th>\n",
              "    </tr>\n",
              "  </thead>\n",
              "  <tbody>\n",
              "    <tr>\n",
              "      <th>count</th>\n",
              "      <td>452987.0</td>\n",
              "      <td>452987.000000</td>\n",
              "      <td>452987.000000</td>\n",
              "      <td>452987.000000</td>\n",
              "      <td>452987.000000</td>\n",
              "      <td>452987.000000</td>\n",
              "      <td>452987.000000</td>\n",
              "    </tr>\n",
              "    <tr>\n",
              "      <th>mean</th>\n",
              "      <td>20.0</td>\n",
              "      <td>321.407877</td>\n",
              "      <td>42575.907313</td>\n",
              "      <td>28.850960</td>\n",
              "      <td>0.099181</td>\n",
              "      <td>190.824284</td>\n",
              "      <td>37.057117</td>\n",
              "    </tr>\n",
              "    <tr>\n",
              "      <th>std</th>\n",
              "      <td>0.0</td>\n",
              "      <td>9.239411</td>\n",
              "      <td>25046.073519</td>\n",
              "      <td>37.546005</td>\n",
              "      <td>0.075309</td>\n",
              "      <td>102.558542</td>\n",
              "      <td>17.537060</td>\n",
              "    </tr>\n",
              "    <tr>\n",
              "      <th>min</th>\n",
              "      <td>20.0</td>\n",
              "      <td>306.000000</td>\n",
              "      <td>22.000000</td>\n",
              "      <td>1.000000</td>\n",
              "      <td>0.020000</td>\n",
              "      <td>0.000000</td>\n",
              "      <td>0.000000</td>\n",
              "    </tr>\n",
              "    <tr>\n",
              "      <th>25%</th>\n",
              "      <td>20.0</td>\n",
              "      <td>313.000000</td>\n",
              "      <td>20182.000000</td>\n",
              "      <td>9.000000</td>\n",
              "      <td>0.050000</td>\n",
              "      <td>111.800000</td>\n",
              "      <td>22.000000</td>\n",
              "    </tr>\n",
              "    <tr>\n",
              "      <th>50%</th>\n",
              "      <td>20.0</td>\n",
              "      <td>321.000000</td>\n",
              "      <td>42382.000000</td>\n",
              "      <td>19.000000</td>\n",
              "      <td>0.070000</td>\n",
              "      <td>201.500000</td>\n",
              "      <td>35.800000</td>\n",
              "    </tr>\n",
              "    <tr>\n",
              "      <th>75%</th>\n",
              "      <td>20.0</td>\n",
              "      <td>329.000000</td>\n",
              "      <td>64822.000000</td>\n",
              "      <td>27.000000</td>\n",
              "      <td>0.120000</td>\n",
              "      <td>288.400000</td>\n",
              "      <td>50.500000</td>\n",
              "    </tr>\n",
              "    <tr>\n",
              "      <th>max</th>\n",
              "      <td>20.0</td>\n",
              "      <td>337.000000</td>\n",
              "      <td>85540.000000</td>\n",
              "      <td>138.000000</td>\n",
              "      <td>1.140000</td>\n",
              "      <td>360.000000</td>\n",
              "      <td>89.000000</td>\n",
              "    </tr>\n",
              "  </tbody>\n",
              "</table>\n",
              "</div>"
            ],
            "text/plain": [
              "            Año            Day  ...             Az            Elv\n",
              "count  452987.0  452987.000000  ...  452987.000000  452987.000000\n",
              "mean       20.0     321.407877  ...     190.824284      37.057117\n",
              "std         0.0       9.239411  ...     102.558542      17.537060\n",
              "min        20.0     306.000000  ...       0.000000       0.000000\n",
              "25%        20.0     313.000000  ...     111.800000      22.000000\n",
              "50%        20.0     321.000000  ...     201.500000      35.800000\n",
              "75%        20.0     329.000000  ...     288.400000      50.500000\n",
              "max        20.0     337.000000  ...     360.000000      89.000000\n",
              "\n",
              "[8 rows x 7 columns]"
            ]
          },
          "metadata": {
            "tags": []
          },
          "execution_count": 4
        }
      ]
    },
    {
      "cell_type": "markdown",
      "metadata": {
        "id": "v2HqtkSW9wd4"
      },
      "source": [
        "Transformando el tiempo a formato date time"
      ]
    },
    {
      "cell_type": "code",
      "metadata": {
        "id": "TIu8R2A49s7j",
        "colab": {
          "base_uri": "https://localhost:8080/"
        },
        "outputId": "fd8b1d14-aa3e-42e3-f644-127582440e48"
      },
      "source": [
        "df['date_time'] = pd.to_datetime(df['Año']*1000+df['Day'], format='%y%j')+pd.Series([pd.Timedelta(seconds=x) for x in df['Tiempo']])\r\n",
        "print(df['date_time'])"
      ],
      "execution_count": 5,
      "outputs": [
        {
          "output_type": "stream",
          "text": [
            "0        2020-11-01 00:00:22\n",
            "1        2020-11-01 00:00:22\n",
            "2        2020-11-01 00:00:22\n",
            "3        2020-11-01 00:00:22\n",
            "4        2020-11-01 00:00:22\n",
            "                 ...        \n",
            "452982   2020-12-02 23:45:40\n",
            "452983   2020-12-02 23:45:40\n",
            "452984   2020-12-02 23:45:40\n",
            "452985   2020-12-02 23:45:40\n",
            "452986   2020-12-02 23:45:40\n",
            "Name: date_time, Length: 452987, dtype: datetime64[ns]\n"
          ],
          "name": "stdout"
        }
      ]
    },
    {
      "cell_type": "code",
      "metadata": {
        "id": "9g6ry3DdVfA2",
        "colab": {
          "base_uri": "https://localhost:8080/",
          "height": 204
        },
        "outputId": "eb3211bc-f8d4-414d-c4c4-49f40e256fea"
      },
      "source": [
        "df=df.drop(['Año',\t'Day',\t'Tiempo'], axis=1)\r\n",
        "df.head()"
      ],
      "execution_count": 7,
      "outputs": [
        {
          "output_type": "execute_result",
          "data": {
            "text/html": [
              "<div>\n",
              "<style scoped>\n",
              "    .dataframe tbody tr th:only-of-type {\n",
              "        vertical-align: middle;\n",
              "    }\n",
              "\n",
              "    .dataframe tbody tr th {\n",
              "        vertical-align: top;\n",
              "    }\n",
              "\n",
              "    .dataframe thead th {\n",
              "        text-align: right;\n",
              "    }\n",
              "</style>\n",
              "<table border=\"1\" class=\"dataframe\">\n",
              "  <thead>\n",
              "    <tr style=\"text-align: right;\">\n",
              "      <th></th>\n",
              "      <th>PRN</th>\n",
              "      <th>S4</th>\n",
              "      <th>Az</th>\n",
              "      <th>Elv</th>\n",
              "      <th>date_time</th>\n",
              "    </tr>\n",
              "  </thead>\n",
              "  <tbody>\n",
              "    <tr>\n",
              "      <th>0</th>\n",
              "      <td>3</td>\n",
              "      <td>0.10</td>\n",
              "      <td>300.9</td>\n",
              "      <td>24.6</td>\n",
              "      <td>2020-11-01 00:00:22</td>\n",
              "    </tr>\n",
              "    <tr>\n",
              "      <th>1</th>\n",
              "      <td>8</td>\n",
              "      <td>0.05</td>\n",
              "      <td>199.5</td>\n",
              "      <td>47.2</td>\n",
              "      <td>2020-11-01 00:00:22</td>\n",
              "    </tr>\n",
              "    <tr>\n",
              "      <th>2</th>\n",
              "      <td>10</td>\n",
              "      <td>0.40</td>\n",
              "      <td>147.1</td>\n",
              "      <td>14.3</td>\n",
              "      <td>2020-11-01 00:00:22</td>\n",
              "    </tr>\n",
              "    <tr>\n",
              "      <th>3</th>\n",
              "      <td>11</td>\n",
              "      <td>0.08</td>\n",
              "      <td>210.6</td>\n",
              "      <td>26.2</td>\n",
              "      <td>2020-11-01 00:00:22</td>\n",
              "    </tr>\n",
              "    <tr>\n",
              "      <th>4</th>\n",
              "      <td>16</td>\n",
              "      <td>0.04</td>\n",
              "      <td>342.4</td>\n",
              "      <td>42.3</td>\n",
              "      <td>2020-11-01 00:00:22</td>\n",
              "    </tr>\n",
              "  </tbody>\n",
              "</table>\n",
              "</div>"
            ],
            "text/plain": [
              "   PRN    S4     Az   Elv           date_time\n",
              "0    3  0.10  300.9  24.6 2020-11-01 00:00:22\n",
              "1    8  0.05  199.5  47.2 2020-11-01 00:00:22\n",
              "2   10  0.40  147.1  14.3 2020-11-01 00:00:22\n",
              "3   11  0.08  210.6  26.2 2020-11-01 00:00:22\n",
              "4   16  0.04  342.4  42.3 2020-11-01 00:00:22"
            ]
          },
          "metadata": {
            "tags": []
          },
          "execution_count": 7
        }
      ]
    },
    {
      "cell_type": "markdown",
      "metadata": {
        "id": "iEySH2Tcak7M"
      },
      "source": [
        "Evolución de algunas características a lo largo del tiempo."
      ]
    },
    {
      "cell_type": "code",
      "metadata": {
        "colab": {
          "base_uri": "https://localhost:8080/",
          "height": 744
        },
        "id": "EO5ExRPFLMR7",
        "outputId": "b6632040-c428-44fe-8f05-3b69edc88f4e"
      },
      "source": [
        "plot_cols = ['S4', 'Az', 'Elv']\r\n",
        "plot_features = df[plot_cols]\r\n",
        "plot_features.index = df['date_time']\r\n",
        "_ = plot_features.plot(subplots=True)\r\n",
        "\r\n",
        "plot_features = df[plot_cols][:480]\r\n",
        "plot_features.index = df['date_time'][:480]\r\n",
        "_ = plot_features.plot(subplots=True)"
      ],
      "execution_count": 6,
      "outputs": [
        {
          "output_type": "display_data",
          "data": {
            "image/png": "[encoded data removed]",
            "text/plain": [
              "<Figure size 576x432 with 3 Axes>"
            ]
          },
          "metadata": {
            "tags": [],
            "needs_background": "light"
          }
        },
        {
          "output_type": "display_data",
          "data": {
            "image/png": "[encoded data removed]",
            "text/plain": [
              "<Figure size 576x432 with 3 Axes>"
            ]
          },
          "metadata": {
            "tags": [],
            "needs_background": "light"
          }
        }
      ]
    },
    {
      "cell_type": "markdown",
      "metadata": {
        "id": "Ac5_g0OZVw01"
      },
      "source": [
        "##Analizar para limpieza"
      ]
    },
    {
      "cell_type": "code",
      "metadata": {
        "id": "eWDlS2FgVv9T",
        "colab": {
          "base_uri": "https://localhost:8080/",
          "height": 173
        },
        "outputId": "3545f37f-d3a8-43c7-c3ce-f51f668631d5"
      },
      "source": [
        "df.describe().transpose()"
      ],
      "execution_count": 8,
      "outputs": [
        {
          "output_type": "execute_result",
          "data": {
            "text/html": [
              "<div>\n",
              "<style scoped>\n",
              "    .dataframe tbody tr th:only-of-type {\n",
              "        vertical-align: middle;\n",
              "    }\n",
              "\n",
              "    .dataframe tbody tr th {\n",
              "        vertical-align: top;\n",
              "    }\n",
              "\n",
              "    .dataframe thead th {\n",
              "        text-align: right;\n",
              "    }\n",
              "</style>\n",
              "<table border=\"1\" class=\"dataframe\">\n",
              "  <thead>\n",
              "    <tr style=\"text-align: right;\">\n",
              "      <th></th>\n",
              "      <th>count</th>\n",
              "      <th>mean</th>\n",
              "      <th>std</th>\n",
              "      <th>min</th>\n",
              "      <th>25%</th>\n",
              "      <th>50%</th>\n",
              "      <th>75%</th>\n",
              "      <th>max</th>\n",
              "    </tr>\n",
              "  </thead>\n",
              "  <tbody>\n",
              "    <tr>\n",
              "      <th>PRN</th>\n",
              "      <td>452987.0</td>\n",
              "      <td>28.850960</td>\n",
              "      <td>37.546005</td>\n",
              "      <td>1.00</td>\n",
              "      <td>9.00</td>\n",
              "      <td>19.00</td>\n",
              "      <td>27.00</td>\n",
              "      <td>138.00</td>\n",
              "    </tr>\n",
              "    <tr>\n",
              "      <th>S4</th>\n",
              "      <td>452987.0</td>\n",
              "      <td>0.099181</td>\n",
              "      <td>0.075309</td>\n",
              "      <td>0.02</td>\n",
              "      <td>0.05</td>\n",
              "      <td>0.07</td>\n",
              "      <td>0.12</td>\n",
              "      <td>1.14</td>\n",
              "    </tr>\n",
              "    <tr>\n",
              "      <th>Az</th>\n",
              "      <td>452987.0</td>\n",
              "      <td>190.824284</td>\n",
              "      <td>102.558542</td>\n",
              "      <td>0.00</td>\n",
              "      <td>111.80</td>\n",
              "      <td>201.50</td>\n",
              "      <td>288.40</td>\n",
              "      <td>360.00</td>\n",
              "    </tr>\n",
              "    <tr>\n",
              "      <th>Elv</th>\n",
              "      <td>452987.0</td>\n",
              "      <td>37.057117</td>\n",
              "      <td>17.537060</td>\n",
              "      <td>0.00</td>\n",
              "      <td>22.00</td>\n",
              "      <td>35.80</td>\n",
              "      <td>50.50</td>\n",
              "      <td>89.00</td>\n",
              "    </tr>\n",
              "  </tbody>\n",
              "</table>\n",
              "</div>"
            ],
            "text/plain": [
              "        count        mean         std   min     25%     50%     75%     max\n",
              "PRN  452987.0   28.850960   37.546005  1.00    9.00   19.00   27.00  138.00\n",
              "S4   452987.0    0.099181    0.075309  0.02    0.05    0.07    0.12    1.14\n",
              "Az   452987.0  190.824284  102.558542  0.00  111.80  201.50  288.40  360.00\n",
              "Elv  452987.0   37.057117   17.537060  0.00   22.00   35.80   50.50   89.00"
            ]
          },
          "metadata": {
            "tags": []
          },
          "execution_count": 8
        }
      ]
    },
    {
      "cell_type": "code",
      "metadata": {
        "id": "3Xc4BP12c2Gg",
        "colab": {
          "base_uri": "https://localhost:8080/",
          "height": 409
        },
        "outputId": "62d10396-e514-4995-ee5d-a2aa5caa9ee0"
      },
      "source": [
        "plt.hist2d( df['Az'],df['Elv'], bins=(50, 50), vmax=1000)\r\n",
        "plt.colorbar()\r\n",
        "plt.ylabel('Elv')\r\n",
        "plt.xlabel('Az')"
      ],
      "execution_count": 9,
      "outputs": [
        {
          "output_type": "execute_result",
          "data": {
            "text/plain": [
              "Text(0.5, 0, 'Az')"
            ]
          },
          "metadata": {
            "tags": []
          },
          "execution_count": 9
        },
        {
          "output_type": "display_data",
          "data": {
            "image/png": "[encoded data removed]",
            "text/plain": [
              "<Figure size 576x432 with 2 Axes>"
            ]
          },
          "metadata": {
            "tags": [],
            "needs_background": "light"
          }
        }
      ]
    },
    {
      "cell_type": "code",
      "metadata": {
        "id": "ImMMu1q3dZFW"
      },
      "source": [
        "# Convert to radians.\r\n",
        "az_rad = df.pop('Az')*np.pi / 180\r\n",
        "\r\n",
        "# Calculate the wind x and y components.\r\n",
        "az_x = np.cos(az_rad)\r\n",
        "az_y = np.sin(az_rad)\r\n",
        "\r\n",
        "elv_rad = np.sin(df.pop('Elv')*np.pi / 180)\r\n",
        "\r\n",
        "\r\n",
        "df['Pro-x']=az_x *elv_rad\r\n",
        "df['Pro-y']=az_y *elv_rad\r\n",
        "\r\n",
        "\r\n",
        "# Calculate the max wind x and y components.\r\n",
        "#df['max Wx'] = max_wv*np.cos(wd_rad)\r\n",
        "#df['max Wy'] = max_wv*np.sin(wd_rad)"
      ],
      "execution_count": 10,
      "outputs": []
    },
    {
      "cell_type": "code",
      "metadata": {
        "id": "7un9v66weVSv",
        "colab": {
          "base_uri": "https://localhost:8080/",
          "height": 459
        },
        "outputId": "60b1e591-0e13-49c9-d0da-c7d104aa2cad"
      },
      "source": [
        "plt.hist2d(df['Pro-x'], df['Pro-y'], bins=(50, 50), vmax=1000)\r\n",
        "plt.colorbar()\r\n",
        "plt.xlabel('Az X ')\r\n",
        "plt.ylabel('Az Y ')\r\n",
        "ax = plt.gca()\r\n",
        "ax.axis('tight')"
      ],
      "execution_count": null,
      "outputs": [
        {
          "output_type": "execute_result",
          "data": {
            "text/plain": [
              "(-0.9952392283310815,\n",
              " 0.9591531608722451,\n",
              " -0.999692367338443,\n",
              " 0.9844491990404233)"
            ]
          },
          "metadata": {
            "tags": []
          },
          "execution_count": 38
        },
        {
          "output_type": "display_data",
          "data": {
            "image/png": "[encoded data removed]",
            "text/plain": [
              "<Figure size 576x432 with 2 Axes>"
            ]
          },
          "metadata": {
            "tags": [],
            "needs_background": "light"
          }
        }
      ]
    },
    {
      "cell_type": "markdown",
      "metadata": {
        "id": "RFwW-e1-pEw7"
      },
      "source": [
        "Extrayendo características cíclicas de tiempo"
      ]
    },
    {
      "cell_type": "code",
      "metadata": {
        "id": "qY2TUNr6f4U9"
      },
      "source": [
        "timestamp_s = df['date_time'].map(datetime.datetime.timestamp)\r\n",
        "\r\n",
        "\r\n",
        "day = 24*60*60\r\n",
        "\r\n",
        "year = (365.2425)*day\r\n",
        "\r\n",
        "df['Day sin'] = np.sin(timestamp_s * (2 * np.pi / day))\r\n",
        "df['Day cos'] = np.cos(timestamp_s * (2 * np.pi / day))\r\n",
        "df['Year sin'] = np.sin(timestamp_s * (2 * np.pi / year))\r\n",
        "df['Year cos'] = np.cos(timestamp_s * (2 * np.pi / year))"
      ],
      "execution_count": 11,
      "outputs": []
    },
    {
      "cell_type": "code",
      "metadata": {
        "id": "ST5HASFcpO4J",
        "colab": {
          "base_uri": "https://localhost:8080/",
          "height": 421
        },
        "outputId": "6f5dfc5f-697b-4a9e-8b6e-7d8a953ec08b"
      },
      "source": [
        "#Aparentemente se registran unos 10 a 11 satélites en cada obsrevación\r\n",
        "plt.plot(np.array(df['Day sin'])[24*60*30:24*60*40]) #Segundos diarios=24*60*60, Frecuencia de muestreo=10s->Limite diario=24*60*10\r\n",
        "plt.plot(np.array(df['Day cos'])[24*60*30:24*60*40])\r\n",
        "plt.xlabel('Sample ')\r\n",
        "plt.title('Comportamiento de la señal')"
      ],
      "execution_count": 12,
      "outputs": [
        {
          "output_type": "execute_result",
          "data": {
            "text/plain": [
              "Text(0.5, 1.0, 'Comportamiento de la señal')"
            ]
          },
          "metadata": {
            "tags": []
          },
          "execution_count": 12
        },
        {
          "output_type": "display_data",
          "data": {
            "image/png": "[encoded data removed]",
            "text/plain": [
              "<Figure size 576x432 with 1 Axes>"
            ]
          },
          "metadata": {
            "tags": [],
            "needs_background": "light"
          }
        }
      ]
    },
    {
      "cell_type": "code",
      "metadata": {
        "id": "eNYZAcrmu65U",
        "colab": {
          "base_uri": "https://localhost:8080/",
          "height": 489
        },
        "outputId": "60ff9f76-9974-4ba4-e93c-6dac57e291fe"
      },
      "source": [
        "plt.plot(np.array(df['date_time'].map(datetime.datetime.timestamp)[24*60*30:24*60*40])) #Segundos diarios=24*60*60, Frecuencia de muestreo=10s->Limite diario=24*60*10\r\n",
        "print(df['date_time'].map(datetime.datetime.timestamp)[24*60*30])\r\n",
        "print(df['date_time'].map(datetime.datetime.timestamp)[24*60*30+10])\r\n",
        "print(df['date_time'].map(datetime.datetime.timestamp)[24*60*30+20])\r\n",
        "print(df['date_time'].map(datetime.datetime.timestamp)[24*60*40])\r\n",
        "plt.xlabel('Time ')\r\n",
        "plt.title('Time of day signal')"
      ],
      "execution_count": 13,
      "outputs": [
        {
          "output_type": "stream",
          "text": [
            "1604447002.0\n",
            "1604447062.0\n",
            "1604447122.0\n",
            "1604533282.0\n"
          ],
          "name": "stdout"
        },
        {
          "output_type": "execute_result",
          "data": {
            "text/plain": [
              "Text(0.5, 1.0, 'Time of day signal')"
            ]
          },
          "metadata": {
            "tags": []
          },
          "execution_count": 13
        },
        {
          "output_type": "display_data",
          "data": {
            "image/png": "[encoded data removed]",
            "text/plain": [
              "<Figure size 576x432 with 1 Axes>"
            ]
          },
          "metadata": {
            "tags": [],
            "needs_background": "light"
          }
        }
      ]
    },
    {
      "cell_type": "markdown",
      "metadata": {
        "id": "LpfuT1dXN7_X"
      },
      "source": [
        "Esto le da al modelo acceso a las características de frecuencia más importantes. En este caso, sabía de antemano qué frecuencias eran importantes.\r\n",
        "\r\n",
        "Si no lo sabía, puede determinar qué frecuencias son importantes usando un fft . Para comprobar nuestras suposiciones, aquí está el tf.signal.rfft de la temperatura a lo largo del tiempo. Tenga en cuenta los picos obvios en frecuencias cercanas a 1/year y 1/day"
      ]
    },
    {
      "cell_type": "code",
      "metadata": {
        "id": "aDxZE39dODAt"
      },
      "source": [
        "#Este cpodigo aún debe ser adaptdo, en este punto existen \"n\" muestras para cada observación, además \"n\" es variable\r\n",
        "fft = tf.signal.rfft(df['T (degC)'])\r\n",
        "f_per_dataset = np.arange(0, len(fft))\r\n",
        "\r\n",
        "n_samples_h = len(df['T (degC)'])\r\n",
        "hours_per_year = 24*365.2524\r\n",
        "years_per_dataset = n_samples_h/(hours_per_year)\r\n",
        "\r\n",
        "f_per_year = f_per_dataset/years_per_dataset\r\n",
        "plt.step(f_per_year, np.abs(fft))\r\n",
        "plt.xscale('log')\r\n",
        "plt.ylim(0, 400000)\r\n",
        "plt.xlim([0.1, max(plt.xlim())])\r\n",
        "plt.xticks([1, 365.2524], labels=['1/Year', '1/day'])\r\n",
        "_ = plt.xlabel('Frequency (log scale)')"
      ],
      "execution_count": null,
      "outputs": []
    },
    {
      "cell_type": "markdown",
      "metadata": {
        "id": "P5nQlJ6IO6tt"
      },
      "source": [
        "## División de datos"
      ]
    },
    {
      "cell_type": "markdown",
      "metadata": {
        "id": "EkCT0GBsPWUm"
      },
      "source": [
        "Usaremos una división (70%, 20%, 10%) para los conjuntos de entrenamiento, validación y prueba. Tenga en cuenta que los datos no se mezclan aleatoriamente antes de dividirlos. Esto es por dos razones.\r\n",
        "\r\n",
        " \r\n",
        "\r\n",
        "1.   Garantiza que aún sea posible dividir los datos en ventanas de muestras consecutivas.\r\n",
        "2.   Garantiza que los resultados de la validación / prueba sean más realistas y se evalúen en función de los datos recopilados después de que se entrenara el modelo.\r\n",
        "\r\n",
        "\r\n"
      ]
    },
    {
      "cell_type": "code",
      "metadata": {
        "colab": {
          "base_uri": "https://localhost:8080/",
          "height": 204
        },
        "id": "ZcDbN3PQQBrx",
        "outputId": "d5338a8e-d076-43bb-8f2c-6cf5fa34b8e9"
      },
      "source": [
        "df1=df\r\n",
        "df=df.drop(['date_time'],axis=1)\r\n",
        "df.head()"
      ],
      "execution_count": 20,
      "outputs": [
        {
          "output_type": "execute_result",
          "data": {
            "text/html": [
              "<div>\n",
              "<style scoped>\n",
              "    .dataframe tbody tr th:only-of-type {\n",
              "        vertical-align: middle;\n",
              "    }\n",
              "\n",
              "    .dataframe tbody tr th {\n",
              "        vertical-align: top;\n",
              "    }\n",
              "\n",
              "    .dataframe thead th {\n",
              "        text-align: right;\n",
              "    }\n",
              "</style>\n",
              "<table border=\"1\" class=\"dataframe\">\n",
              "  <thead>\n",
              "    <tr style=\"text-align: right;\">\n",
              "      <th></th>\n",
              "      <th>PRN</th>\n",
              "      <th>S4</th>\n",
              "      <th>Pro-x</th>\n",
              "      <th>Pro-y</th>\n",
              "      <th>Day sin</th>\n",
              "      <th>Day cos</th>\n",
              "      <th>Year sin</th>\n",
              "      <th>Year cos</th>\n",
              "    </tr>\n",
              "  </thead>\n",
              "  <tbody>\n",
              "    <tr>\n",
              "      <th>0</th>\n",
              "      <td>3</td>\n",
              "      <td>0.10</td>\n",
              "      <td>0.213777</td>\n",
              "      <td>-0.357196</td>\n",
              "      <td>0.0016</td>\n",
              "      <td>0.999999</td>\n",
              "      <td>-0.861636</td>\n",
              "      <td>0.507527</td>\n",
              "    </tr>\n",
              "    <tr>\n",
              "      <th>1</th>\n",
              "      <td>8</td>\n",
              "      <td>0.05</td>\n",
              "      <td>-0.691644</td>\n",
              "      <td>-0.244924</td>\n",
              "      <td>0.0016</td>\n",
              "      <td>0.999999</td>\n",
              "      <td>-0.861636</td>\n",
              "      <td>0.507527</td>\n",
              "    </tr>\n",
              "    <tr>\n",
              "      <th>2</th>\n",
              "      <td>10</td>\n",
              "      <td>0.40</td>\n",
              "      <td>-0.207385</td>\n",
              "      <td>0.134164</td>\n",
              "      <td>0.0016</td>\n",
              "      <td>0.999999</td>\n",
              "      <td>-0.861636</td>\n",
              "      <td>0.507527</td>\n",
              "    </tr>\n",
              "    <tr>\n",
              "      <th>3</th>\n",
              "      <td>11</td>\n",
              "      <td>0.08</td>\n",
              "      <td>-0.380023</td>\n",
              "      <td>-0.224745</td>\n",
              "      <td>0.0016</td>\n",
              "      <td>0.999999</td>\n",
              "      <td>-0.861636</td>\n",
              "      <td>0.507527</td>\n",
              "    </tr>\n",
              "    <tr>\n",
              "      <th>4</th>\n",
              "      <td>16</td>\n",
              "      <td>0.04</td>\n",
              "      <td>0.641509</td>\n",
              "      <td>-0.203499</td>\n",
              "      <td>0.0016</td>\n",
              "      <td>0.999999</td>\n",
              "      <td>-0.861636</td>\n",
              "      <td>0.507527</td>\n",
              "    </tr>\n",
              "  </tbody>\n",
              "</table>\n",
              "</div>"
            ],
            "text/plain": [
              "   PRN    S4     Pro-x     Pro-y  Day sin   Day cos  Year sin  Year cos\n",
              "0    3  0.10  0.213777 -0.357196   0.0016  0.999999 -0.861636  0.507527\n",
              "1    8  0.05 -0.691644 -0.244924   0.0016  0.999999 -0.861636  0.507527\n",
              "2   10  0.40 -0.207385  0.134164   0.0016  0.999999 -0.861636  0.507527\n",
              "3   11  0.08 -0.380023 -0.224745   0.0016  0.999999 -0.861636  0.507527\n",
              "4   16  0.04  0.641509 -0.203499   0.0016  0.999999 -0.861636  0.507527"
            ]
          },
          "metadata": {
            "tags": []
          },
          "execution_count": 20
        }
      ]
    },
    {
      "cell_type": "code",
      "metadata": {
        "id": "0D-OOUjYRtv6"
      },
      "source": [
        "from sklearn.model_selection import train_test_split\r\n",
        "\r\n",
        "column_indices = {name: i for i, name in enumerate(df.columns)}\r\n",
        "\r\n",
        "#y=df['S4']\r\n",
        "#X=df[['PRN','Pro-x','Pro-y','Day sin']]\r\n",
        "n = len(df)\r\n",
        "\r\n",
        "train_df, test_df = train_test_split(df, test_size=0.25, random_state=1)\r\n",
        "\r\n",
        "train_df, val_df = train_test_split(train_df, test_size=0.125, random_state=1) # 0.125 x 0.8 = 0.1\r\n",
        "\r\n",
        "num_features = df.shape[1]"
      ],
      "execution_count": 21,
      "outputs": []
    },
    {
      "cell_type": "markdown",
      "metadata": {
        "id": "RRrax8iBgQpA"
      },
      "source": [
        "## Normalizar los datos"
      ]
    },
    {
      "cell_type": "markdown",
      "metadata": {
        "id": "Ev8Hb2WOgUfj"
      },
      "source": [
        "Es importante escalar características antes de entrenar una red neuronal. La normalización es una forma común de realizar esta escala. Reste la media y divida por la desviación estándar de cada característica.\r\n",
        "\r\n",
        "La media y la desviación estándar solo deben calcularse utilizando los datos de entrenamiento para que los modelos no tengan acceso a los valores en los conjuntos de validación y prueba.\r\n",
        "\r\n",
        "También se puede argumentar que el modelo no debería tener acceso a valores futuros en el conjunto de entrenamiento durante el entrenamiento, y que esta normalización debería realizarse utilizando promedios móviles. Ese no es el enfoque de este tutorial, y los conjuntos de validación y prueba garantizan que obtenga métricas (algo) honestas. Entonces, en aras de la simplicidad, este tutorial utiliza un promedio simple."
      ]
    },
    {
      "cell_type": "code",
      "metadata": {
        "id": "7E0dxxBEimik"
      },
      "source": [
        "sklearn.preprocessing.scale(X, *, axis=0, with_mean=True, with_std=True, copy=True)"
      ],
      "execution_count": null,
      "outputs": []
    },
    {
      "cell_type": "code",
      "metadata": {
        "id": "rr3Xb0QIgXpK"
      },
      "source": [
        "#No usamos el modulo de sklearn, debido a que nos da un ouput numpy y tendríamos que reconstruir nuestro dataframe\r\n",
        "\r\n",
        "train_mean = train_df.mean()\r\n",
        "train_std = train_df.std()\r\n",
        "\r\n",
        "train_df = (train_df - train_mean) / train_std\r\n",
        "val_df = (val_df - train_mean) / train_std\r\n",
        "test_df = (test_df - train_mean) / train_std"
      ],
      "execution_count": 22,
      "outputs": []
    },
    {
      "cell_type": "code",
      "metadata": {
        "colab": {
          "base_uri": "https://localhost:8080/"
        },
        "id": "_JFiQNo7VNVH",
        "outputId": "2ccdabd2-13ce-4d77-991a-1f365dd8c8f9"
      },
      "source": [
        "S4=df['S4'].values\r\n",
        "time = np.arange(S4.size, dtype=\"float32\")\r\n",
        "print(time.size)\r\n",
        "print(S4.size)"
      ],
      "execution_count": null,
      "outputs": [
        {
          "output_type": "stream",
          "text": [
            "452987\n",
            "452987\n"
          ],
          "name": "stdout"
        }
      ]
    },
    {
      "cell_type": "code",
      "metadata": {
        "id": "cKlN-VFxySrA"
      },
      "source": [
        ""
      ],
      "execution_count": null,
      "outputs": []
    }
  ]
}