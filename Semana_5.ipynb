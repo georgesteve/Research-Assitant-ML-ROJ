{
  "nbformat": 4,
  "nbformat_minor": 0,
  "metadata": {
    "colab": {
      "name": "Semana 5",
      "provenance": [],
      "authorship_tag": "ABX9TyNiz5QYUghIQnssiDrg3GVl",
      "include_colab_link": true
    },
    "kernelspec": {
      "name": "python3",
      "display_name": "Python 3"
    }
  },
  "cells": [
    {
      "cell_type": "markdown",
      "metadata": {
        "id": "view-in-github",
        "colab_type": "text"
      },
      "source": [
        "<a href=\"https://colab.research.google.com/github/georgesteve/Research-Assitant-ML-ROJ/blob/main/Semana_5.ipynb\" target=\"_parent\"><img src=\"https://colab.research.google.com/assets/colab-badge.svg\" alt=\"Open In Colab\"/></a>"
      ]
    },
    {
      "cell_type": "markdown",
      "metadata": {
        "id": "Bjgs7vKZmOVX"
      },
      "source": [
        "#[Forecasting Global Ionospheric TEC Using Deep Learning Approach](https://doi.org/10.1029/2020SW002501)"
      ]
    },
    {
      "cell_type": "code",
      "metadata": {
        "colab": {
          "base_uri": "https://localhost:8080/",
          "height": 35
        },
        "id": "aXANB0RGLQ8_",
        "outputId": "f5325313-5b26-416d-c28b-0caf61d22961"
      },
      "source": [
        "import tensorflow as tf\r\n",
        "tf.test.gpu_device_name()"
      ],
      "execution_count": 8,
      "outputs": [
        {
          "output_type": "execute_result",
          "data": {
            "application/vnd.google.colaboratory.intrinsic+json": {
              "type": "string"
            },
            "text/plain": [
              "''"
            ]
          },
          "metadata": {
            "tags": []
          },
          "execution_count": 8
        }
      ]
    },
    {
      "cell_type": "code",
      "metadata": {
        "colab": {
          "base_uri": "https://localhost:8080/"
        },
        "id": "ZfVJRPQ0N64j",
        "outputId": "a276327c-5dcf-4c3e-bd67-c3e82b4be78e"
      },
      "source": [
        "# Mount Google Drive\r\n",
        "from google.colab import drive # import drive from google colab\r\n",
        "\r\n",
        "ROOT = \"/content/drive\"     # default location for the drive\r\n",
        "print(ROOT)                 # print content of ROOT (Optional)\r\n",
        "\r\n",
        "drive.mount(ROOT)           # we mount the google drive at /content/drive"
      ],
      "execution_count": 9,
      "outputs": [
        {
          "output_type": "stream",
          "text": [
            "/content/drive\n",
            "Mounted at /content/drive\n"
          ],
          "name": "stdout"
        }
      ]
    },
    {
      "cell_type": "code",
      "metadata": {
        "colab": {
          "base_uri": "https://localhost:8080/"
        },
        "id": "QFlRurC-OE8z",
        "outputId": "516293f5-5b14-426b-e9bd-e63d230555c8"
      },
      "source": [
        "ls"
      ],
      "execution_count": 15,
      "outputs": [
        {
          "output_type": "stream",
          "text": [
            " 0001.jpg\n",
            " 85192060-Los-cincuenta-anos-de-Jicamarca.pdf\n",
            "'98 FORMATO  DEDICATORIA APG.doc (1).docx'\n",
            "'ATRAD presentación 1 ROJ.gslides'\n",
            " \u001b[0m\u001b[01;34mClassroom\u001b[0m/\n",
            "\u001b[01;34m'Colab Notebooks'\u001b[0m/\n",
            "\u001b[01;34m'COMPENDIO FAJARDO SORIA'\u001b[0m/\n",
            "'Copia de Checklist para discusiones públicas.gsheet'\n",
            "'Copia de CitiesExt.csv.gsheet'\n",
            "'Copia de Copia de Copia de TESIS FAJARDO SORIA GEORGE Presentación Final.gslides'\n",
            "'Copia de deltaV station keeping .gdoc'\n",
            "'Copia de Manual Sesiones de Prueba de Amanecidas Hackspace.gdoc'\n",
            "'Copia de PlayersExt.csv.gsheet'\n",
            "'Copia de Process Flow Diagram Template.gdraw'\n",
            "'Copia de TESIS FAJARDO SORIA GEORGE Presentación Final (1).gslides'\n",
            "'Copia de TESIS FAJARDO SORIA GEORGE Presentación Final.gslides'\n",
            "'Copia de yqw-xmbf-pkw - 3 de dic. de 2020.gjam'\n",
            "\u001b[01;34m'coreupgrade retos'\u001b[0m/\n",
            " Cuentas.gsheet\n",
            " curso-frances.pdf\n",
            "'Documento sin título (1).gdoc'\n",
            "'Documento sin título (2).gdoc'\n",
            "'Documento sin título.gdoc'\n",
            "'ECI TESIS FAJARDO SORIA GEORGE Presentación Final (1).gslides'\n",
            "'ECI TESIS FAJARDO SORIA GEORGE Presentación Final.gslides'\n",
            "'Ejemplo de Informe Final1.docx'\n",
            "'Ejemplo de Informe Final1.gdoc'\n",
            "'Ejemplo de Informe Final2.docx'\n",
            "'ENTREGABLE FINAL de TESIS FAJARDO SORIA GEORGE Presentación Final.gslides'\n",
            " FAJARDO_GEORGE_CV1.pdf\n",
            "'FAJARDO SORIA GEORGE Presentación Final.gslides'\n",
            "'FAJARDO SORIA GEORGE Presentación Final.ppt'\n",
            "'Feedback del programa.docx'\n",
            " \u001b[01;34mFigura\u001b[0m/\n",
            "\u001b[01;34m'Getting Started with Google Sheets'\u001b[0m/\n",
            "'Icpna 3 document.gdoc'\n",
            " IMG_20180114_104523.jpg\n",
            " include1.docx\n",
            " include.docx\n",
            " JInostroza_Informe_Mensual_Julio2020_V2.gdoc\n",
            " JInostroza_Informe_Mensual_Julio2020_V2.pdf\n",
            "\u001b[01;34m'Nueva carpeta'\u001b[0m/\n",
            "'PLAN TESIS FAJARDO SORIA RECEPTORES GNSS.gdoc'\n",
            "'PLAN TESIS FAJARDO SORIA RECEPTORES GNSS.pdf'\n",
            "'plantilla_compendio_2019 GEORGE FAJARDO.docx'\n",
            "'Prova Parcial B3 (Resultados).xlsx'\n",
            "'Reto 1.gdoc'\n",
            "\u001b[01;34m'retos coreupgrade'\u001b[0m/\n",
            "'Speaking 2 - AG03.gdoc'\n",
            " template.pptx\n",
            "'TESIS FAJARDO SORIA GEORGE Presentación Final.gslides'\n",
            "'TESIS presentación 1 ROJ.gslides'\n",
            "'Untitled Project ‐ Made with Clipchamp (1).mp4'\n"
          ],
          "name": "stdout"
        }
      ]
    },
    {
      "cell_type": "markdown",
      "metadata": {
        "id": "a2sYh3H-mi3K"
      },
      "source": [
        "Este paper utiliza RNN con arquitecturas LSTM para predecir condiciones de TEC.\r\n"
      ]
    },
    {
      "cell_type": "code",
      "metadata": {
        "id": "dKhfsNbKLRkg"
      },
      "source": [
        "https://github.com/georgesteve/Research-Assitant-ML-ROJ.git"
      ],
      "execution_count": null,
      "outputs": []
    },
    {
      "cell_type": "code",
      "metadata": {
        "id": "zhSYjwuxme4j",
        "colab": {
          "base_uri": "https://localhost:8080/",
          "height": 195
        },
        "outputId": "f9c2a1fd-9cf0-4e49-a3de-ae470182eb63"
      },
      "source": [
        "import pandas\r\n",
        "URL = \"https://raw.githubusercontent.com/georgesteve/Research-Assitant-ML-ROJ/main/gfajardo_uNz2xU-2020-2.csv\"\r\n",
        "Data = pandas.read_csv(URL) \r\n",
        "Data.head() "
      ],
      "execution_count": 17,
      "outputs": [
        {
          "output_type": "execute_result",
          "data": {
            "text/html": [
              "<div>\n",
              "<style scoped>\n",
              "    .dataframe tbody tr th:only-of-type {\n",
              "        vertical-align: middle;\n",
              "    }\n",
              "\n",
              "    .dataframe tbody tr th {\n",
              "        vertical-align: top;\n",
              "    }\n",
              "\n",
              "    .dataframe thead th {\n",
              "        text-align: right;\n",
              "    }\n",
              "</style>\n",
              "<table border=\"1\" class=\"dataframe\">\n",
              "  <thead>\n",
              "    <tr style=\"text-align: right;\">\n",
              "      <th></th>\n",
              "      <th>Unnamed: 0</th>\n",
              "      <th>Año</th>\n",
              "      <th>Day</th>\n",
              "      <th>Tiempo</th>\n",
              "      <th>PRN</th>\n",
              "      <th>S4</th>\n",
              "      <th>Az</th>\n",
              "      <th>Elv</th>\n",
              "    </tr>\n",
              "  </thead>\n",
              "  <tbody>\n",
              "    <tr>\n",
              "      <th>0</th>\n",
              "      <td>0</td>\n",
              "      <td>20</td>\n",
              "      <td>306</td>\n",
              "      <td>22</td>\n",
              "      <td>3</td>\n",
              "      <td>0.10</td>\n",
              "      <td>300.9</td>\n",
              "      <td>24.6</td>\n",
              "    </tr>\n",
              "    <tr>\n",
              "      <th>1</th>\n",
              "      <td>1</td>\n",
              "      <td>20</td>\n",
              "      <td>306</td>\n",
              "      <td>22</td>\n",
              "      <td>8</td>\n",
              "      <td>0.05</td>\n",
              "      <td>199.5</td>\n",
              "      <td>47.2</td>\n",
              "    </tr>\n",
              "    <tr>\n",
              "      <th>2</th>\n",
              "      <td>2</td>\n",
              "      <td>20</td>\n",
              "      <td>306</td>\n",
              "      <td>22</td>\n",
              "      <td>10</td>\n",
              "      <td>0.40</td>\n",
              "      <td>147.1</td>\n",
              "      <td>14.3</td>\n",
              "    </tr>\n",
              "    <tr>\n",
              "      <th>3</th>\n",
              "      <td>3</td>\n",
              "      <td>20</td>\n",
              "      <td>306</td>\n",
              "      <td>22</td>\n",
              "      <td>11</td>\n",
              "      <td>0.08</td>\n",
              "      <td>210.6</td>\n",
              "      <td>26.2</td>\n",
              "    </tr>\n",
              "    <tr>\n",
              "      <th>4</th>\n",
              "      <td>4</td>\n",
              "      <td>20</td>\n",
              "      <td>306</td>\n",
              "      <td>22</td>\n",
              "      <td>16</td>\n",
              "      <td>0.04</td>\n",
              "      <td>342.4</td>\n",
              "      <td>42.3</td>\n",
              "    </tr>\n",
              "  </tbody>\n",
              "</table>\n",
              "</div>"
            ],
            "text/plain": [
              "   Unnamed: 0  Año  Day  Tiempo  PRN    S4     Az   Elv\n",
              "0           0   20  306      22    3  0.10  300.9  24.6\n",
              "1           1   20  306      22    8  0.05  199.5  47.2\n",
              "2           2   20  306      22   10  0.40  147.1  14.3\n",
              "3           3   20  306      22   11  0.08  210.6  26.2\n",
              "4           4   20  306      22   16  0.04  342.4  42.3"
            ]
          },
          "metadata": {
            "tags": []
          },
          "execution_count": 17
        }
      ]
    },
    {
      "cell_type": "code",
      "metadata": {
        "colab": {
          "base_uri": "https://localhost:8080/"
        },
        "id": "7yxG84TVKLES",
        "outputId": "20a2f79a-090e-420c-c286-16f7d1d6f2e8"
      },
      "source": [
        "Data['Año']"
      ],
      "execution_count": 19,
      "outputs": [
        {
          "output_type": "execute_result",
          "data": {
            "text/plain": [
              "0         20\n",
              "1         20\n",
              "2         20\n",
              "3         20\n",
              "4         20\n",
              "          ..\n",
              "452982    20\n",
              "452983    20\n",
              "452984    20\n",
              "452985    20\n",
              "452986    20\n",
              "Name: Año, Length: 452987, dtype: int64"
            ]
          },
          "metadata": {
            "tags": []
          },
          "execution_count": 19
        }
      ]
    },
    {
      "cell_type": "code",
      "metadata": {
        "id": "B-e5AR1eQo9I"
      },
      "source": [
        ""
      ],
      "execution_count": null,
      "outputs": []
    }
  ]
}