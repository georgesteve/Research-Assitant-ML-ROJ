{
  "nbformat": 4,
  "nbformat_minor": 0,
  "metadata": {
    "colab": {
      "name": "Grafico de S4 heatmap",
      "provenance": [],
      "include_colab_link": true
    },
    "kernelspec": {
      "name": "python3",
      "display_name": "Python 3"
    }
  },
  "cells": [
    {
      "cell_type": "markdown",
      "metadata": {
        "id": "view-in-github",
        "colab_type": "text"
      },
      "source": [
        "<a href=\"https://colab.research.google.com/github/georgesteve/Research-Assitant-ML-ROJ/blob/main/Grafico_de_S4_heatmap.ipynb\" target=\"_parent\"><img src=\"https://colab.research.google.com/assets/colab-badge.svg\" alt=\"Open In Colab\"/></a>"
      ]
    },
    {
      "cell_type": "code",
      "metadata": {
        "id": "YaKROIzHzsCX"
      },
      "source": [
        "\n"
      ],
      "execution_count": null,
      "outputs": []
    },
    {
      "cell_type": "markdown",
      "metadata": {
        "id": "1flyTwgzgBXS"
      },
      "source": [
        "##Importando librerías"
      ]
    },
    {
      "cell_type": "code",
      "metadata": {
        "id": "0404yC3BgBy6"
      },
      "source": [
        "import os\n",
        "import datetime\n",
        "\n",
        "import IPython\n",
        "import IPython.display\n",
        "import matplotlib as mpl\n",
        "import matplotlib.pyplot as plt\n",
        "import numpy as np\n",
        "import pandas as pd\n",
        "import seaborn as sns\n",
        "import tensorflow as tf"
      ],
      "execution_count": 1,
      "outputs": []
    },
    {
      "cell_type": "markdown",
      "metadata": {
        "id": "jGI6wJrSgFcb"
      },
      "source": [
        "##Importando data"
      ]
    },
    {
      "cell_type": "code",
      "metadata": {
        "id": "HExX5laD0LqX"
      },
      "source": [
        "URL = \"https://raw.githubusercontent.com/georgesteve/Research-Assitant-ML-ROJ/main/gfajardo_uNz2xU-2020-2.csv\"\n",
        "Data = pd.read_csv(URL,index_col=False) \n",
        "s4=Data.drop(columns=['Unnamed: 0'])"
      ],
      "execution_count": 2,
      "outputs": []
    },
    {
      "cell_type": "code",
      "metadata": {
        "id": "GVW_I2NqK9ax",
        "colab": {
          "base_uri": "https://localhost:8080/"
        },
        "outputId": "9204c85b-5eb7-42de-afd6-b87f4bcfae6a"
      },
      "source": [
        "from google.colab import drive\n",
        "drive.mount(\"/content/gdrive\")"
      ],
      "execution_count": null,
      "outputs": [
        {
          "output_type": "stream",
          "text": [
            "Mounted at /content/gdrive\n"
          ],
          "name": "stdout"
        }
      ]
    },
    {
      "cell_type": "code",
      "metadata": {
        "id": "ra1odupMr_dy"
      },
      "source": [
        "\n",
        "Data = pd.read_csv('/content/gdrive/My Drive/gfajardo_uNz2xU-2020.csv',index_col=False) \n",
        "s4=Data.drop(columns=['Unnamed: 0'])"
      ],
      "execution_count": null,
      "outputs": []
    },
    {
      "cell_type": "markdown",
      "metadata": {
        "id": "ceVgWyo-f94j"
      },
      "source": [
        "##Transformando columnas de tiempo a formato datetime"
      ]
    },
    {
      "cell_type": "code",
      "metadata": {
        "colab": {
          "base_uri": "https://localhost:8080/",
          "height": 204
        },
        "id": "XhnwgULO0GiR",
        "outputId": "44b32e31-7b4e-4fc6-db57-3cca9554d327"
      },
      "source": [
        "s4['date_time'] = pd.to_datetime(s4['Año']*1000+s4['Day'], format='%y%j')+pd.Series([pd.Timedelta(seconds=x) for x in s4['Tiempo']])\n",
        "\n",
        "s4.head()"
      ],
      "execution_count": 3,
      "outputs": [
        {
          "output_type": "execute_result",
          "data": {
            "text/html": [
              "<div>\n",
              "<style scoped>\n",
              "    .dataframe tbody tr th:only-of-type {\n",
              "        vertical-align: middle;\n",
              "    }\n",
              "\n",
              "    .dataframe tbody tr th {\n",
              "        vertical-align: top;\n",
              "    }\n",
              "\n",
              "    .dataframe thead th {\n",
              "        text-align: right;\n",
              "    }\n",
              "</style>\n",
              "<table border=\"1\" class=\"dataframe\">\n",
              "  <thead>\n",
              "    <tr style=\"text-align: right;\">\n",
              "      <th></th>\n",
              "      <th>Año</th>\n",
              "      <th>Day</th>\n",
              "      <th>Tiempo</th>\n",
              "      <th>PRN</th>\n",
              "      <th>S4</th>\n",
              "      <th>Az</th>\n",
              "      <th>Elv</th>\n",
              "      <th>date_time</th>\n",
              "    </tr>\n",
              "  </thead>\n",
              "  <tbody>\n",
              "    <tr>\n",
              "      <th>0</th>\n",
              "      <td>20</td>\n",
              "      <td>306</td>\n",
              "      <td>22</td>\n",
              "      <td>3</td>\n",
              "      <td>0.10</td>\n",
              "      <td>300.9</td>\n",
              "      <td>24.6</td>\n",
              "      <td>2020-11-01 00:00:22</td>\n",
              "    </tr>\n",
              "    <tr>\n",
              "      <th>1</th>\n",
              "      <td>20</td>\n",
              "      <td>306</td>\n",
              "      <td>22</td>\n",
              "      <td>8</td>\n",
              "      <td>0.05</td>\n",
              "      <td>199.5</td>\n",
              "      <td>47.2</td>\n",
              "      <td>2020-11-01 00:00:22</td>\n",
              "    </tr>\n",
              "    <tr>\n",
              "      <th>2</th>\n",
              "      <td>20</td>\n",
              "      <td>306</td>\n",
              "      <td>22</td>\n",
              "      <td>10</td>\n",
              "      <td>0.40</td>\n",
              "      <td>147.1</td>\n",
              "      <td>14.3</td>\n",
              "      <td>2020-11-01 00:00:22</td>\n",
              "    </tr>\n",
              "    <tr>\n",
              "      <th>3</th>\n",
              "      <td>20</td>\n",
              "      <td>306</td>\n",
              "      <td>22</td>\n",
              "      <td>11</td>\n",
              "      <td>0.08</td>\n",
              "      <td>210.6</td>\n",
              "      <td>26.2</td>\n",
              "      <td>2020-11-01 00:00:22</td>\n",
              "    </tr>\n",
              "    <tr>\n",
              "      <th>4</th>\n",
              "      <td>20</td>\n",
              "      <td>306</td>\n",
              "      <td>22</td>\n",
              "      <td>16</td>\n",
              "      <td>0.04</td>\n",
              "      <td>342.4</td>\n",
              "      <td>42.3</td>\n",
              "      <td>2020-11-01 00:00:22</td>\n",
              "    </tr>\n",
              "  </tbody>\n",
              "</table>\n",
              "</div>"
            ],
            "text/plain": [
              "   Año  Day  Tiempo  PRN    S4     Az   Elv           date_time\n",
              "0   20  306      22    3  0.10  300.9  24.6 2020-11-01 00:00:22\n",
              "1   20  306      22    8  0.05  199.5  47.2 2020-11-01 00:00:22\n",
              "2   20  306      22   10  0.40  147.1  14.3 2020-11-01 00:00:22\n",
              "3   20  306      22   11  0.08  210.6  26.2 2020-11-01 00:00:22\n",
              "4   20  306      22   16  0.04  342.4  42.3 2020-11-01 00:00:22"
            ]
          },
          "metadata": {
            "tags": []
          },
          "execution_count": 3
        }
      ]
    },
    {
      "cell_type": "markdown",
      "metadata": {
        "id": "GHT9CqKugZxL"
      },
      "source": [
        "##Aplicando filtros"
      ]
    },
    {
      "cell_type": "code",
      "metadata": {
        "id": "b3wWhH_pZyYQ"
      },
      "source": [
        "# azimuth cada 15 grados\n",
        "s4_clean=s4[np.isfinite(s4['S4'])]\n",
        "s4_clean.set_index('date_time', inplace=True)\n",
        "#s4_1min=s4_clean.resample(\"1h\").mean()\n",
        "\n",
        "\n",
        "#Filtros\n",
        "s4_clean=s4_clean[s4_clean['Elv']>30]"
      ],
      "execution_count": 4,
      "outputs": []
    },
    {
      "cell_type": "markdown",
      "metadata": {
        "id": "B8eeabp_fxyI"
      },
      "source": [
        "##Generando grupos"
      ]
    },
    {
      "cell_type": "code",
      "metadata": {
        "colab": {
          "base_uri": "https://localhost:8080/"
        },
        "id": "uQyq7BhrPBYX",
        "outputId": "717eb9d9-1bba-42c6-db53-98eb8e2baabd"
      },
      "source": [
        "\n",
        "#s4[\"Azint\"]=s4[\"Az\"].astype(float)\n",
        "\n",
        "m=s4_clean.groupby(pd.cut(s4_clean[\"Az\"], np.arange(0, 361, 30)))\n",
        "#print(list(m))\n",
        "print(m.groups.keys())\n",
        "#print(np.arange(0, 360, 30))\n",
        "\n",
        "\n"
      ],
      "execution_count": 25,
      "outputs": [
        {
          "output_type": "stream",
          "text": [
            "dict_keys([Interval(0, 30, closed='right'), Interval(30, 60, closed='right'), Interval(60, 90, closed='right'), Interval(90, 120, closed='right'), Interval(120, 150, closed='right'), Interval(150, 180, closed='right'), Interval(180, 210, closed='right'), Interval(210, 240, closed='right'), Interval(240, 270, closed='right'), Interval(270, 300, closed='right'), Interval(300, 330, closed='right'), Interval(330, 360, closed='right')])\n"
          ],
          "name": "stdout"
        }
      ]
    },
    {
      "cell_type": "code",
      "metadata": {
        "colab": {
          "base_uri": "https://localhost:8080/",
          "height": 228
        },
        "id": "EhicZAmh7R9G",
        "outputId": "6f1f2786-fefe-4c28-a874-5548c403c5df"
      },
      "source": [
        "s4_1min.head()"
      ],
      "execution_count": null,
      "outputs": [
        {
          "output_type": "execute_result",
          "data": {
            "text/html": [
              "<div>\n",
              "<style scoped>\n",
              "    .dataframe tbody tr th:only-of-type {\n",
              "        vertical-align: middle;\n",
              "    }\n",
              "\n",
              "    .dataframe tbody tr th {\n",
              "        vertical-align: top;\n",
              "    }\n",
              "\n",
              "    .dataframe thead th {\n",
              "        text-align: right;\n",
              "    }\n",
              "</style>\n",
              "<table border=\"1\" class=\"dataframe\">\n",
              "  <thead>\n",
              "    <tr style=\"text-align: right;\">\n",
              "      <th></th>\n",
              "      <th>Año</th>\n",
              "      <th>Day</th>\n",
              "      <th>Tiempo</th>\n",
              "      <th>PRN</th>\n",
              "      <th>S4</th>\n",
              "      <th>Az</th>\n",
              "      <th>Elv</th>\n",
              "    </tr>\n",
              "    <tr>\n",
              "      <th>date_time</th>\n",
              "      <th></th>\n",
              "      <th></th>\n",
              "      <th></th>\n",
              "      <th></th>\n",
              "      <th></th>\n",
              "      <th></th>\n",
              "      <th></th>\n",
              "    </tr>\n",
              "  </thead>\n",
              "  <tbody>\n",
              "    <tr>\n",
              "      <th>2020-11-01 00:00:00</th>\n",
              "      <td>20.0</td>\n",
              "      <td>306.0</td>\n",
              "      <td>1793.015385</td>\n",
              "      <td>26.995385</td>\n",
              "      <td>0.093138</td>\n",
              "      <td>216.856154</td>\n",
              "      <td>39.117385</td>\n",
              "    </tr>\n",
              "    <tr>\n",
              "      <th>2020-11-01 01:00:00</th>\n",
              "      <td>20.0</td>\n",
              "      <td>306.0</td>\n",
              "      <td>5378.788991</td>\n",
              "      <td>26.229358</td>\n",
              "      <td>0.085535</td>\n",
              "      <td>196.463150</td>\n",
              "      <td>41.862538</td>\n",
              "    </tr>\n",
              "    <tr>\n",
              "      <th>2020-11-01 02:00:00</th>\n",
              "      <td>20.0</td>\n",
              "      <td>306.0</td>\n",
              "      <td>8989.314112</td>\n",
              "      <td>24.996965</td>\n",
              "      <td>0.078953</td>\n",
              "      <td>191.290895</td>\n",
              "      <td>43.127466</td>\n",
              "    </tr>\n",
              "    <tr>\n",
              "      <th>2020-11-01 03:00:00</th>\n",
              "      <td>20.0</td>\n",
              "      <td>306.0</td>\n",
              "      <td>12618.220472</td>\n",
              "      <td>23.072441</td>\n",
              "      <td>0.087764</td>\n",
              "      <td>168.564567</td>\n",
              "      <td>43.157953</td>\n",
              "    </tr>\n",
              "    <tr>\n",
              "      <th>2020-11-01 04:00:00</th>\n",
              "      <td>20.0</td>\n",
              "      <td>306.0</td>\n",
              "      <td>16190.411498</td>\n",
              "      <td>22.686838</td>\n",
              "      <td>0.088865</td>\n",
              "      <td>174.943570</td>\n",
              "      <td>38.067474</td>\n",
              "    </tr>\n",
              "  </tbody>\n",
              "</table>\n",
              "</div>"
            ],
            "text/plain": [
              "                      Año    Day        Tiempo  ...        S4          Az        Elv\n",
              "date_time                                       ...                                 \n",
              "2020-11-01 00:00:00  20.0  306.0   1793.015385  ...  0.093138  216.856154  39.117385\n",
              "2020-11-01 01:00:00  20.0  306.0   5378.788991  ...  0.085535  196.463150  41.862538\n",
              "2020-11-01 02:00:00  20.0  306.0   8989.314112  ...  0.078953  191.290895  43.127466\n",
              "2020-11-01 03:00:00  20.0  306.0  12618.220472  ...  0.087764  168.564567  43.157953\n",
              "2020-11-01 04:00:00  20.0  306.0  16190.411498  ...  0.088865  174.943570  38.067474\n",
              "\n",
              "[5 rows x 7 columns]"
            ]
          },
          "metadata": {
            "tags": []
          },
          "execution_count": 11
        }
      ]
    },
    {
      "cell_type": "code",
      "metadata": {
        "colab": {
          "base_uri": "https://localhost:8080/",
          "height": 287
        },
        "id": "M2n-20Tk8N6m",
        "outputId": "ab479c9f-9b70-416a-8c08-cb5c2d57d08e"
      },
      "source": [
        "plt.plot(s4_1min['S4'])"
      ],
      "execution_count": null,
      "outputs": [
        {
          "output_type": "execute_result",
          "data": {
            "text/plain": [
              "[<matplotlib.lines.Line2D at 0x7fb7cf492c50>]"
            ]
          },
          "metadata": {
            "tags": []
          },
          "execution_count": 12
        },
        {
          "output_type": "display_data",
          "data": {
            "image/png": "[encoded data removed]",
            "text/plain": [
              "<Figure size 432x288 with 1 Axes>"
            ]
          },
          "metadata": {
            "tags": [],
            "needs_background": "light"
          }
        }
      ]
    },
    {
      "cell_type": "code",
      "metadata": {
        "colab": {
          "base_uri": "https://localhost:8080/",
          "height": 283
        },
        "id": "tILgD3Y1xWJe",
        "outputId": "1936ff68-7019-4097-83c3-f75d936bed2a"
      },
      "source": [
        "plt.plot(s4['S4'],s4.index)"
      ],
      "execution_count": null,
      "outputs": [
        {
          "output_type": "execute_result",
          "data": {
            "text/plain": [
              "[<matplotlib.lines.Line2D at 0x7fb7cf413c90>]"
            ]
          },
          "metadata": {
            "tags": []
          },
          "execution_count": 13
        },
        {
          "output_type": "display_data",
          "data": {
            "image/png": "[encoded data removed]",
            "text/plain": [
              "<Figure size 432x288 with 1 Axes>"
            ]
          },
          "metadata": {
            "tags": [],
            "needs_background": "light"
          }
        }
      ]
    },
    {
      "cell_type": "code",
      "metadata": {
        "id": "cNsVvLET2bTA"
      },
      "source": [
        "x=s4_1min.index.minute.values\n",
        "y=s4_1min.S4.values\n"
      ],
      "execution_count": null,
      "outputs": []
    },
    {
      "cell_type": "markdown",
      "metadata": {
        "id": "niSQ6KPnf2xb"
      },
      "source": [
        "##Graficando cada arreglo"
      ]
    },
    {
      "cell_type": "code",
      "metadata": {
        "colab": {
          "base_uri": "https://localhost:8080/",
          "height": 594
        },
        "id": "NKUjhVS1BtKV",
        "outputId": "9eda2878-7ce7-4eca-faf9-85a5afc99a06"
      },
      "source": [
        "from scipy.interpolate import griddata\n",
        "from jdcal import jd2jcal\n",
        "from datetime import datetime\n",
        "from matplotlib.pyplot import figure\n",
        "\n",
        "\n",
        "\n",
        "def plot_S4_hour_day(df,i):\n",
        "  figure(num=None, figsize=(10, 6), dpi=80, facecolor='w', edgecolor='k')\n",
        "  xi = np.linspace(df.index.to_julian_date().min(), df.index.to_julian_date().max(), 50)\n",
        "  yi = np.linspace(df.index.hour.min(), df.index.hour.max(), 50)\n",
        "  zi = griddata((df.index.to_julian_date(),df.index.hour),df.S4,(xi[None,:],yi[:,None]),method='linear')\n",
        "  xij = [jd2jcal(0,v) for v in xi]\n",
        "  xid = [datetime(x[0],x[1],x[2]) for x in xij]\n",
        "  plt.contourf(xid,yi,zi)\n",
        "  plt.title(i)\n",
        "  cbar=plt.colorbar()\n",
        "  cbar.ax.set_title('S4', rotation=360)\n",
        "  plt.show()\n",
        "\n",
        "def plot_S4_hour_day_2(df,i):\n",
        "  x = df.index.to_julian_date()\n",
        "  y = df.index.hour\n",
        "  z= df.S4\n",
        "  fig, ax = plt.subplots()\n",
        "  ax.pcolormesh(x, y, z)\n",
        "\n",
        "\n",
        "\n",
        "\n",
        "n = 366*24\n",
        "df=s4_clean\n",
        "#df[\"z\"]=  s4.S4\n",
        "#df[\"x\"] = s4.index.date\n",
        "#df[\"y\"] = s4.index.day\n",
        "\n",
        "\n",
        "\n",
        "\n",
        "\n",
        "for i, d in m:\n",
        "  n=d.groupby(pd.cut(d[\"Elv\"], np.arange(30, 91, 20)))\n",
        "  #m=s4_clean.groupby(pd.cut(s4_clean[\"Az\"], np.arange(0, 361, 30)))\n",
        "\n",
        "  for i1,d1 in n:\n",
        "    if len(d1)!=0:\n",
        "        label='Azimuth interval '+str(i)+'Elv interval '+str(i1)\n",
        "        plot_S4_hour_day(d1,label)\n"
      ],
      "execution_count": 31,
      "outputs": [
        {
          "output_type": "error",
          "ename": "ValueError",
          "evalue": "ignored",
          "traceback": [
            "\u001b[0;31m---------------------------------------------------------------------------\u001b[0m",
            "\u001b[0;31mValueError\u001b[0m                                Traceback (most recent call last)",
            "\u001b[0;32m<ipython-input-31-aaf780f85598>\u001b[0m in \u001b[0;36m<module>\u001b[0;34m()\u001b[0m\n\u001b[1;32m     46\u001b[0m     \u001b[0;32mif\u001b[0m \u001b[0mlen\u001b[0m\u001b[0;34m(\u001b[0m\u001b[0md1\u001b[0m\u001b[0;34m)\u001b[0m\u001b[0;34m!=\u001b[0m\u001b[0;36m0\u001b[0m\u001b[0;34m:\u001b[0m\u001b[0;34m\u001b[0m\u001b[0;34m\u001b[0m\u001b[0m\n\u001b[1;32m     47\u001b[0m         \u001b[0mlabel\u001b[0m\u001b[0;34m=\u001b[0m\u001b[0;34m'Azimuth interval '\u001b[0m\u001b[0;34m+\u001b[0m\u001b[0mstr\u001b[0m\u001b[0;34m(\u001b[0m\u001b[0mi\u001b[0m\u001b[0;34m)\u001b[0m\u001b[0;34m+\u001b[0m\u001b[0;34m'Elv interval '\u001b[0m\u001b[0;34m+\u001b[0m\u001b[0mstr\u001b[0m\u001b[0;34m(\u001b[0m\u001b[0mi1\u001b[0m\u001b[0;34m)\u001b[0m\u001b[0;34m\u001b[0m\u001b[0;34m\u001b[0m\u001b[0m\n\u001b[0;32m---> 48\u001b[0;31m         \u001b[0mplot_S4_hour_day_2\u001b[0m\u001b[0;34m(\u001b[0m\u001b[0md1\u001b[0m\u001b[0;34m,\u001b[0m\u001b[0mlabel\u001b[0m\u001b[0;34m)\u001b[0m\u001b[0;34m\u001b[0m\u001b[0;34m\u001b[0m\u001b[0m\n\u001b[0m",
            "\u001b[0;32m<ipython-input-31-aaf780f85598>\u001b[0m in \u001b[0;36mplot_S4_hour_day_2\u001b[0;34m(df, i)\u001b[0m\n\u001b[1;32m     24\u001b[0m   \u001b[0mz\u001b[0m\u001b[0;34m=\u001b[0m \u001b[0mdf\u001b[0m\u001b[0;34m.\u001b[0m\u001b[0mS4\u001b[0m\u001b[0;34m\u001b[0m\u001b[0;34m\u001b[0m\u001b[0m\n\u001b[1;32m     25\u001b[0m   \u001b[0mfig\u001b[0m\u001b[0;34m,\u001b[0m \u001b[0max\u001b[0m \u001b[0;34m=\u001b[0m \u001b[0mplt\u001b[0m\u001b[0;34m.\u001b[0m\u001b[0msubplots\u001b[0m\u001b[0;34m(\u001b[0m\u001b[0;34m)\u001b[0m\u001b[0;34m\u001b[0m\u001b[0;34m\u001b[0m\u001b[0m\n\u001b[0;32m---> 26\u001b[0;31m   \u001b[0max\u001b[0m\u001b[0;34m.\u001b[0m\u001b[0mpcolormesh\u001b[0m\u001b[0;34m(\u001b[0m\u001b[0mx\u001b[0m\u001b[0;34m,\u001b[0m \u001b[0my\u001b[0m\u001b[0;34m,\u001b[0m \u001b[0mz\u001b[0m\u001b[0;34m)\u001b[0m\u001b[0;34m\u001b[0m\u001b[0;34m\u001b[0m\u001b[0m\n\u001b[0m\u001b[1;32m     27\u001b[0m \u001b[0;34m\u001b[0m\u001b[0m\n\u001b[1;32m     28\u001b[0m \u001b[0;34m\u001b[0m\u001b[0m\n",
            "\u001b[0;32m/usr/local/lib/python3.7/dist-packages/matplotlib/__init__.py\u001b[0m in \u001b[0;36minner\u001b[0;34m(ax, data, *args, **kwargs)\u001b[0m\n\u001b[1;32m   1563\u001b[0m     \u001b[0;32mdef\u001b[0m \u001b[0minner\u001b[0m\u001b[0;34m(\u001b[0m\u001b[0max\u001b[0m\u001b[0;34m,\u001b[0m \u001b[0;34m*\u001b[0m\u001b[0margs\u001b[0m\u001b[0;34m,\u001b[0m \u001b[0mdata\u001b[0m\u001b[0;34m=\u001b[0m\u001b[0;32mNone\u001b[0m\u001b[0;34m,\u001b[0m \u001b[0;34m**\u001b[0m\u001b[0mkwargs\u001b[0m\u001b[0;34m)\u001b[0m\u001b[0;34m:\u001b[0m\u001b[0;34m\u001b[0m\u001b[0;34m\u001b[0m\u001b[0m\n\u001b[1;32m   1564\u001b[0m         \u001b[0;32mif\u001b[0m \u001b[0mdata\u001b[0m \u001b[0;32mis\u001b[0m \u001b[0;32mNone\u001b[0m\u001b[0;34m:\u001b[0m\u001b[0;34m\u001b[0m\u001b[0;34m\u001b[0m\u001b[0m\n\u001b[0;32m-> 1565\u001b[0;31m             \u001b[0;32mreturn\u001b[0m \u001b[0mfunc\u001b[0m\u001b[0;34m(\u001b[0m\u001b[0max\u001b[0m\u001b[0;34m,\u001b[0m \u001b[0;34m*\u001b[0m\u001b[0mmap\u001b[0m\u001b[0;34m(\u001b[0m\u001b[0msanitize_sequence\u001b[0m\u001b[0;34m,\u001b[0m \u001b[0margs\u001b[0m\u001b[0;34m)\u001b[0m\u001b[0;34m,\u001b[0m \u001b[0;34m**\u001b[0m\u001b[0mkwargs\u001b[0m\u001b[0;34m)\u001b[0m\u001b[0;34m\u001b[0m\u001b[0;34m\u001b[0m\u001b[0m\n\u001b[0m\u001b[1;32m   1566\u001b[0m \u001b[0;34m\u001b[0m\u001b[0m\n\u001b[1;32m   1567\u001b[0m         \u001b[0mbound\u001b[0m \u001b[0;34m=\u001b[0m \u001b[0mnew_sig\u001b[0m\u001b[0;34m.\u001b[0m\u001b[0mbind\u001b[0m\u001b[0;34m(\u001b[0m\u001b[0max\u001b[0m\u001b[0;34m,\u001b[0m \u001b[0;34m*\u001b[0m\u001b[0margs\u001b[0m\u001b[0;34m,\u001b[0m \u001b[0;34m**\u001b[0m\u001b[0mkwargs\u001b[0m\u001b[0;34m)\u001b[0m\u001b[0;34m\u001b[0m\u001b[0;34m\u001b[0m\u001b[0m\n",
            "\u001b[0;32m/usr/local/lib/python3.7/dist-packages/matplotlib/axes/_axes.py\u001b[0m in \u001b[0;36mpcolormesh\u001b[0;34m(self, alpha, norm, cmap, vmin, vmax, shading, antialiased, *args, **kwargs)\u001b[0m\n\u001b[1;32m   6102\u001b[0m         \u001b[0mallmatch\u001b[0m \u001b[0;34m=\u001b[0m \u001b[0;34m(\u001b[0m\u001b[0mshading\u001b[0m \u001b[0;34m==\u001b[0m \u001b[0;34m'gouraud'\u001b[0m\u001b[0;34m)\u001b[0m\u001b[0;34m\u001b[0m\u001b[0;34m\u001b[0m\u001b[0m\n\u001b[1;32m   6103\u001b[0m \u001b[0;34m\u001b[0m\u001b[0m\n\u001b[0;32m-> 6104\u001b[0;31m         \u001b[0mX\u001b[0m\u001b[0;34m,\u001b[0m \u001b[0mY\u001b[0m\u001b[0;34m,\u001b[0m \u001b[0mC\u001b[0m \u001b[0;34m=\u001b[0m \u001b[0mself\u001b[0m\u001b[0;34m.\u001b[0m\u001b[0m_pcolorargs\u001b[0m\u001b[0;34m(\u001b[0m\u001b[0;34m'pcolormesh'\u001b[0m\u001b[0;34m,\u001b[0m \u001b[0;34m*\u001b[0m\u001b[0margs\u001b[0m\u001b[0;34m,\u001b[0m \u001b[0mallmatch\u001b[0m\u001b[0;34m=\u001b[0m\u001b[0mallmatch\u001b[0m\u001b[0;34m)\u001b[0m\u001b[0;34m\u001b[0m\u001b[0;34m\u001b[0m\u001b[0m\n\u001b[0m\u001b[1;32m   6105\u001b[0m         \u001b[0mNy\u001b[0m\u001b[0;34m,\u001b[0m \u001b[0mNx\u001b[0m \u001b[0;34m=\u001b[0m \u001b[0mX\u001b[0m\u001b[0;34m.\u001b[0m\u001b[0mshape\u001b[0m\u001b[0;34m\u001b[0m\u001b[0;34m\u001b[0m\u001b[0m\n\u001b[1;32m   6106\u001b[0m         \u001b[0mX\u001b[0m \u001b[0;34m=\u001b[0m \u001b[0mX\u001b[0m\u001b[0;34m.\u001b[0m\u001b[0mravel\u001b[0m\u001b[0;34m(\u001b[0m\u001b[0;34m)\u001b[0m\u001b[0;34m\u001b[0m\u001b[0;34m\u001b[0m\u001b[0m\n",
            "\u001b[0;32m/usr/local/lib/python3.7/dist-packages/matplotlib/axes/_axes.py\u001b[0m in \u001b[0;36m_pcolorargs\u001b[0;34m(funcname, allmatch, *args)\u001b[0m\n\u001b[1;32m   5678\u001b[0m                 \u001b[0;32mif\u001b[0m \u001b[0misinstance\u001b[0m\u001b[0;34m(\u001b[0m\u001b[0mY\u001b[0m\u001b[0;34m,\u001b[0m \u001b[0mnp\u001b[0m\u001b[0;34m.\u001b[0m\u001b[0mma\u001b[0m\u001b[0;34m.\u001b[0m\u001b[0mcore\u001b[0m\u001b[0;34m.\u001b[0m\u001b[0mMaskedArray\u001b[0m\u001b[0;34m)\u001b[0m\u001b[0;34m:\u001b[0m\u001b[0;34m\u001b[0m\u001b[0;34m\u001b[0m\u001b[0m\n\u001b[1;32m   5679\u001b[0m                     \u001b[0mY\u001b[0m \u001b[0;34m=\u001b[0m \u001b[0mY\u001b[0m\u001b[0;34m.\u001b[0m\u001b[0mdata\u001b[0m\u001b[0;34m\u001b[0m\u001b[0;34m\u001b[0m\u001b[0m\n\u001b[0;32m-> 5680\u001b[0;31m             \u001b[0mnrows\u001b[0m\u001b[0;34m,\u001b[0m \u001b[0mncols\u001b[0m \u001b[0;34m=\u001b[0m \u001b[0mC\u001b[0m\u001b[0;34m.\u001b[0m\u001b[0mshape\u001b[0m\u001b[0;34m\u001b[0m\u001b[0;34m\u001b[0m\u001b[0m\n\u001b[0m\u001b[1;32m   5681\u001b[0m         \u001b[0;32melse\u001b[0m\u001b[0;34m:\u001b[0m\u001b[0;34m\u001b[0m\u001b[0;34m\u001b[0m\u001b[0m\n\u001b[1;32m   5682\u001b[0m             raise TypeError(\n",
            "\u001b[0;31mValueError\u001b[0m: not enough values to unpack (expected 2, got 1)"
          ]
        },
        {
          "output_type": "display_data",
          "data": {
            "image/png": "[encoded data removed]",
            "text/plain": [
              "<Figure size 432x288 with 1 Axes>"
            ]
          },
          "metadata": {
            "tags": [],
            "needs_background": "light"
          }
        }
      ]
    },
    {
      "cell_type": "code",
      "metadata": {
        "id": "A5m2mMAJN9oM",
        "outputId": "61a1646e-8bf1-4309-b8e3-8e3dd12c9b5c",
        "colab": {
          "base_uri": "https://localhost:8080/"
        }
      },
      "source": [
        "x = df.index.to_julian_date()\n",
        "y = df.index.hour\n",
        "l = min(len(x), len(y))\n",
        "print(l)\n",
        "\n",
        "X,Y = np.meshgrid(x,y)\n",
        "\n",
        "intn_array = np.zeros(x.shape)\n",
        "for i in range(l):\n",
        "    intn_array[i, i] =df.S4[i]\n",
        "z = intn_array\n",
        "\n",
        "fig, ax = plt.subplots()\n",
        "ax.pcolormesh(X, Y, z)"
      ],
      "execution_count": null,
      "outputs": [
        {
          "output_type": "stream",
          "text": [
            "272281\n"
          ],
          "name": "stdout"
        }
      ]
    },
    {
      "cell_type": "code",
      "metadata": {
        "id": "gfU4bmTFQ324",
        "outputId": "b65f9723-1a8d-470c-e78d-45ff744e1612",
        "colab": {
          "base_uri": "https://localhost:8080/",
          "height": 165
        }
      },
      "source": [
        "df.S4[0]"
      ],
      "execution_count": 2,
      "outputs": [
        {
          "output_type": "error",
          "ename": "NameError",
          "evalue": "ignored",
          "traceback": [
            "\u001b[0;31m---------------------------------------------------------------------------\u001b[0m",
            "\u001b[0;31mNameError\u001b[0m                                 Traceback (most recent call last)",
            "\u001b[0;32m<ipython-input-2-35c0f5488bad>\u001b[0m in \u001b[0;36m<module>\u001b[0;34m()\u001b[0m\n\u001b[0;32m----> 1\u001b[0;31m \u001b[0mdf\u001b[0m\u001b[0;34m.\u001b[0m\u001b[0mS4\u001b[0m\u001b[0;34m[\u001b[0m\u001b[0;36m0\u001b[0m\u001b[0;34m]\u001b[0m\u001b[0;34m\u001b[0m\u001b[0;34m\u001b[0m\u001b[0m\n\u001b[0m",
            "\u001b[0;31mNameError\u001b[0m: name 'df' is not defined"
          ]
        }
      ]
    },
    {
      "cell_type": "code",
      "metadata": {
        "colab": {
          "base_uri": "https://localhost:8080/"
        },
        "id": "_m0wQliArHJ9",
        "outputId": "d64888e8-ad15-4bc4-cd8e-0df99a415578"
      },
      "source": [
        "df.head"
      ],
      "execution_count": null,
      "outputs": [
        {
          "output_type": "execute_result",
          "data": {
            "text/plain": [
              "<bound method NDFrame.head of                      Año  Day  Tiempo  PRN    S4     Az   Elv\n",
              "date_time                                                    \n",
              "2020-11-01 00:00:22   20  306      22    8  0.05  199.5  47.2\n",
              "2020-11-01 00:00:22   20  306      22   16  0.04  342.4  42.3\n",
              "2020-11-01 00:00:22   20  306      22   21  0.07  205.5  30.1\n",
              "2020-11-01 00:00:22   20  306      22   22  0.06  282.5  40.4\n",
              "2020-11-01 00:00:22   20  306      22   27  0.03  134.2  71.7\n",
              "...                  ...  ...     ...  ...   ...    ...   ...\n",
              "2020-12-02 23:45:40   20  337   85540    8  0.03  348.4  71.6\n",
              "2020-12-02 23:45:40   20  337   85540   21  0.05  159.0  48.7\n",
              "2020-12-02 23:45:40   20  337   85540   22  0.08  206.3  42.2\n",
              "2020-12-02 23:45:40   20  337   85540   27  0.06   22.7  36.8\n",
              "2020-12-02 23:45:40   20  337   85540  138  0.04  288.3  50.6\n",
              "\n",
              "[272281 rows x 7 columns]>"
            ]
          },
          "metadata": {
            "tags": []
          },
          "execution_count": 73
        }
      ]
    },
    {
      "cell_type": "code",
      "metadata": {
        "colab": {
          "base_uri": "https://localhost:8080/",
          "height": 282
        },
        "id": "g9lommPB_MlV",
        "outputId": "5fd612cf-18e1-4c55-8c33-55b83a74392d"
      },
      "source": [
        "from matplotlib.colors import LogNorm\n",
        "import matplotlib.pyplot as plt\n",
        "import numpy as np\n",
        "\n",
        "s4_2=s4[s4['S4']>0.2]\n",
        "s4_2=s4[s4['S4']<0.5]\n",
        "a = s4_2['Tiempo'].apply(lambda x: x/3600+18 if x <= 6 else x/3600)\n",
        "y,x=s4_2['S4'],s4_2.Tiempo/3600-6\n",
        "\n",
        "fig, ax = plt.subplots()\n",
        "h = ax.hist2d(a, y, bins=40, norm=LogNorm())\n",
        "fig.colorbar(h[3], ax=ax)"
      ],
      "execution_count": null,
      "outputs": [
        {
          "output_type": "execute_result",
          "data": {
            "text/plain": [
              "<matplotlib.colorbar.Colorbar at 0x7ff5636bfd50>"
            ]
          },
          "metadata": {
            "tags": []
          },
          "execution_count": 109
        },
        {
          "output_type": "display_data",
          "data": {
            "image/png": "[encoded data removed]",
            "text/plain": [
              "<Figure size 432x288 with 2 Axes>"
            ]
          },
          "metadata": {
            "tags": [],
            "needs_background": "light"
          }
        }
      ]
    },
    {
      "cell_type": "code",
      "metadata": {
        "colab": {
          "base_uri": "https://localhost:8080/",
          "height": 1000
        },
        "id": "ceKvd9jE8oyw",
        "outputId": "413df220-5b51-4942-d1d0-98b3be4d5c47"
      },
      "source": [
        "plt.hist2d(a,y,bins=25)"
      ],
      "execution_count": null,
      "outputs": [
        {
          "output_type": "execute_result",
          "data": {
            "text/plain": [
              "(array([[1.317e+03, 5.891e+03, 4.494e+03, 2.067e+03, 1.045e+03, 6.540e+02,\n",
              "         5.890e+02, 6.030e+02, 2.670e+02, 4.640e+02, 3.900e+02, 3.510e+02,\n",
              "         2.180e+02, 1.690e+02, 1.260e+02, 1.130e+02, 4.000e+01, 8.200e+01,\n",
              "         8.900e+01, 7.800e+01, 4.900e+01, 3.600e+01, 2.700e+01, 1.700e+01,\n",
              "         1.000e+01],\n",
              "        [4.340e+02, 4.817e+03, 4.241e+03, 2.135e+03, 1.279e+03, 9.310e+02,\n",
              "         7.590e+02, 6.920e+02, 2.870e+02, 5.750e+02, 4.060e+02, 3.300e+02,\n",
              "         2.550e+02, 2.000e+02, 1.630e+02, 1.370e+02, 5.600e+01, 8.900e+01,\n",
              "         7.900e+01, 7.100e+01, 5.900e+01, 6.200e+01, 4.300e+01, 3.800e+01,\n",
              "         3.100e+01],\n",
              "        [3.640e+02, 4.265e+03, 4.185e+03, 2.693e+03, 1.633e+03, 1.162e+03,\n",
              "         8.930e+02, 6.680e+02, 3.060e+02, 5.220e+02, 4.050e+02, 3.040e+02,\n",
              "         2.450e+02, 1.990e+02, 1.650e+02, 1.480e+02, 7.000e+01, 9.000e+01,\n",
              "         6.800e+01, 7.700e+01, 5.500e+01, 4.800e+01, 3.500e+01, 3.300e+01,\n",
              "         2.400e+01],\n",
              "        [3.110e+02, 4.070e+03, 4.357e+03, 3.407e+03, 2.329e+03, 1.481e+03,\n",
              "         9.520e+02, 5.990e+02, 2.330e+02, 3.260e+02, 2.590e+02, 2.450e+02,\n",
              "         1.760e+02, 1.190e+02, 9.300e+01, 8.700e+01, 3.000e+01, 7.400e+01,\n",
              "         6.000e+01, 5.100e+01, 5.500e+01, 5.100e+01, 4.900e+01, 3.000e+01,\n",
              "         2.000e+01],\n",
              "        [1.700e+02, 3.426e+03, 4.450e+03, 3.732e+03, 2.535e+03, 1.831e+03,\n",
              "         1.225e+03, 8.830e+02, 3.060e+02, 4.710e+02, 2.920e+02, 1.820e+02,\n",
              "         1.210e+02, 9.200e+01, 5.700e+01, 6.900e+01, 2.300e+01, 4.000e+01,\n",
              "         3.700e+01, 1.900e+01, 2.500e+01, 2.000e+01, 1.400e+01, 1.400e+01,\n",
              "         1.200e+01],\n",
              "        [6.570e+02, 4.854e+03, 2.701e+03, 2.584e+03, 2.021e+03, 1.564e+03,\n",
              "         1.285e+03, 9.120e+02, 3.570e+02, 5.650e+02, 3.870e+02, 3.130e+02,\n",
              "         2.540e+02, 2.040e+02, 1.690e+02, 1.370e+02, 4.000e+01, 9.600e+01,\n",
              "         8.400e+01, 5.900e+01, 4.700e+01, 3.900e+01, 2.500e+01, 3.000e+01,\n",
              "         2.900e+01],\n",
              "        [1.543e+03, 4.681e+03, 2.175e+03, 1.955e+03, 1.407e+03, 1.217e+03,\n",
              "         1.090e+03, 7.900e+02, 3.720e+02, 5.830e+02, 4.350e+02, 2.980e+02,\n",
              "         2.040e+02, 1.540e+02, 1.050e+02, 8.500e+01, 3.300e+01, 6.000e+01,\n",
              "         4.700e+01, 2.300e+01, 2.100e+01, 1.300e+01, 2.100e+01, 1.800e+01,\n",
              "         9.000e+00],\n",
              "        [8.670e+02, 4.530e+03, 2.850e+03, 2.280e+03, 1.326e+03, 9.520e+02,\n",
              "         7.310e+02, 6.060e+02, 2.790e+02, 5.010e+02, 3.780e+02, 2.700e+02,\n",
              "         2.150e+02, 1.560e+02, 1.040e+02, 7.100e+01, 2.800e+01, 4.800e+01,\n",
              "         4.200e+01, 2.300e+01, 1.600e+01, 9.000e+00, 7.000e+00, 8.000e+00,\n",
              "         3.000e+00],\n",
              "        [3.450e+02, 4.713e+03, 2.337e+03, 2.055e+03, 1.617e+03, 1.357e+03,\n",
              "         1.090e+03, 9.150e+02, 4.410e+02, 6.090e+02, 5.300e+02, 3.840e+02,\n",
              "         2.500e+02, 2.010e+02, 1.160e+02, 8.100e+01, 3.200e+01, 6.200e+01,\n",
              "         4.800e+01, 3.000e+01, 3.200e+01, 1.600e+01, 2.200e+01, 9.000e+00,\n",
              "         2.000e+00],\n",
              "        [5.410e+02, 4.616e+03, 2.060e+03, 1.793e+03, 1.656e+03, 1.463e+03,\n",
              "         1.245e+03, 1.120e+03, 4.970e+02, 7.890e+02, 5.530e+02, 4.380e+02,\n",
              "         3.360e+02, 2.400e+02, 1.600e+02, 1.120e+02, 5.600e+01, 9.900e+01,\n",
              "         7.300e+01, 5.800e+01, 3.600e+01, 2.300e+01, 1.000e+01, 1.000e+01,\n",
              "         4.000e+00],\n",
              "        [7.500e+02, 5.314e+03, 3.008e+03, 1.564e+03, 1.178e+03, 1.093e+03,\n",
              "         1.029e+03, 9.670e+02, 3.470e+02, 5.610e+02, 3.830e+02, 3.130e+02,\n",
              "         2.690e+02, 1.750e+02, 1.230e+02, 1.040e+02, 5.500e+01, 6.700e+01,\n",
              "         5.200e+01, 5.300e+01, 4.100e+01, 1.500e+01, 1.200e+01, 1.000e+01,\n",
              "         6.000e+00],\n",
              "        [8.230e+02, 5.916e+03, 3.588e+03, 1.591e+03, 1.137e+03, 7.940e+02,\n",
              "         7.820e+02, 7.190e+02, 3.430e+02, 5.400e+02, 4.320e+02, 3.120e+02,\n",
              "         2.350e+02, 1.460e+02, 1.110e+02, 7.200e+01, 2.600e+01, 6.500e+01,\n",
              "         3.400e+01, 3.100e+01, 3.100e+01, 1.900e+01, 1.700e+01, 1.100e+01,\n",
              "         8.000e+00],\n",
              "        [1.085e+03, 5.890e+03, 3.012e+03, 1.883e+03, 1.226e+03, 1.095e+03,\n",
              "         9.140e+02, 7.100e+02, 3.480e+02, 5.460e+02, 4.190e+02, 3.590e+02,\n",
              "         2.750e+02, 1.840e+02, 1.550e+02, 1.240e+02, 5.600e+01, 7.800e+01,\n",
              "         6.100e+01, 3.700e+01, 3.200e+01, 1.800e+01, 1.800e+01, 7.000e+00,\n",
              "         1.100e+01],\n",
              "        [8.850e+02, 6.026e+03, 2.963e+03, 2.287e+03, 1.520e+03, 1.047e+03,\n",
              "         7.830e+02, 5.180e+02, 2.860e+02, 4.470e+02, 3.420e+02, 2.870e+02,\n",
              "         2.450e+02, 1.630e+02, 1.320e+02, 8.800e+01, 6.100e+01, 6.600e+01,\n",
              "         4.800e+01, 4.400e+01, 3.900e+01, 1.500e+01, 1.000e+01, 1.200e+01,\n",
              "         6.000e+00],\n",
              "        [1.051e+03, 5.859e+03, 3.424e+03, 1.976e+03, 9.460e+02, 7.370e+02,\n",
              "         5.500e+02, 4.110e+02, 1.440e+02, 2.290e+02, 1.960e+02, 1.840e+02,\n",
              "         1.640e+02, 1.400e+02, 1.180e+02, 7.600e+01, 3.300e+01, 6.800e+01,\n",
              "         6.700e+01, 5.900e+01, 3.500e+01, 3.000e+01, 2.100e+01, 2.300e+01,\n",
              "         1.400e+01],\n",
              "        [8.780e+02, 5.225e+03, 3.676e+03, 2.110e+03, 9.430e+02, 5.580e+02,\n",
              "         4.430e+02, 3.350e+02, 1.250e+02, 2.050e+02, 2.070e+02, 1.620e+02,\n",
              "         1.760e+02, 1.110e+02, 9.900e+01, 6.700e+01, 1.900e+01, 6.200e+01,\n",
              "         4.900e+01, 3.400e+01, 3.600e+01, 2.400e+01, 1.900e+01, 2.300e+01,\n",
              "         1.500e+01],\n",
              "        [3.720e+02, 4.958e+03, 3.531e+03, 2.521e+03, 1.140e+03, 7.210e+02,\n",
              "         5.270e+02, 4.440e+02, 2.010e+02, 3.260e+02, 2.990e+02, 2.420e+02,\n",
              "         1.930e+02, 1.420e+02, 1.260e+02, 7.700e+01, 4.600e+01, 7.100e+01,\n",
              "         5.100e+01, 5.800e+01, 6.500e+01, 4.100e+01, 3.400e+01, 2.900e+01,\n",
              "         1.700e+01],\n",
              "        [7.440e+02, 4.832e+03, 3.314e+03, 2.555e+03, 1.367e+03, 8.000e+02,\n",
              "         7.220e+02, 5.660e+02, 2.400e+02, 4.650e+02, 3.920e+02, 2.860e+02,\n",
              "         2.360e+02, 1.830e+02, 1.640e+02, 1.430e+02, 4.500e+01, 8.800e+01,\n",
              "         5.700e+01, 5.900e+01, 4.800e+01, 4.500e+01, 3.100e+01, 3.200e+01,\n",
              "         1.900e+01],\n",
              "        [1.073e+03, 5.937e+03, 3.034e+03, 2.014e+03, 1.557e+03, 1.119e+03,\n",
              "         9.300e+02, 6.140e+02, 2.160e+02, 3.910e+02, 3.760e+02, 2.770e+02,\n",
              "         1.850e+02, 1.510e+02, 1.410e+02, 1.100e+02, 4.000e+01, 5.400e+01,\n",
              "         3.400e+01, 3.400e+01, 3.400e+01, 2.200e+01, 1.800e+01, 7.000e+00,\n",
              "         7.000e+00],\n",
              "        [8.590e+02, 7.447e+03, 3.007e+03, 1.684e+03, 1.425e+03, 1.088e+03,\n",
              "         8.600e+02, 6.110e+02, 2.100e+02, 3.340e+02, 3.020e+02, 2.160e+02,\n",
              "         1.440e+02, 1.200e+02, 7.400e+01, 4.400e+01, 2.500e+01, 4.500e+01,\n",
              "         3.800e+01, 2.400e+01, 1.800e+01, 7.000e+00, 5.000e+00, 5.000e+00,\n",
              "         3.000e+00],\n",
              "        [1.562e+03, 6.864e+03, 2.924e+03, 1.483e+03, 1.240e+03, 1.033e+03,\n",
              "         8.940e+02, 7.660e+02, 3.180e+02, 4.790e+02, 4.140e+02, 2.820e+02,\n",
              "         2.010e+02, 1.380e+02, 1.050e+02, 7.200e+01, 2.500e+01, 4.500e+01,\n",
              "         2.600e+01, 1.700e+01, 1.300e+01, 1.600e+01, 7.000e+00, 9.000e+00,\n",
              "         8.000e+00],\n",
              "        [2.220e+03, 5.436e+03, 2.125e+03, 1.640e+03, 1.392e+03, 1.174e+03,\n",
              "         9.780e+02, 9.430e+02, 4.120e+02, 7.160e+02, 5.290e+02, 3.830e+02,\n",
              "         2.880e+02, 2.060e+02, 1.610e+02, 1.140e+02, 4.500e+01, 7.800e+01,\n",
              "         5.800e+01, 3.600e+01, 3.400e+01, 1.900e+01, 1.300e+01, 8.000e+00,\n",
              "         4.000e+00],\n",
              "        [1.469e+03, 5.452e+03, 2.449e+03, 1.668e+03, 1.282e+03, 1.192e+03,\n",
              "         9.530e+02, 7.830e+02, 3.410e+02, 6.040e+02, 4.840e+02, 3.360e+02,\n",
              "         3.000e+02, 2.350e+02, 1.880e+02, 1.820e+02, 6.200e+01, 1.160e+02,\n",
              "         7.500e+01, 5.200e+01, 3.600e+01, 2.100e+01, 2.200e+01, 1.800e+01,\n",
              "         5.000e+00],\n",
              "        [1.041e+03, 5.890e+03, 2.957e+03, 1.978e+03, 1.363e+03, 1.121e+03,\n",
              "         8.240e+02, 6.660e+02, 3.030e+02, 4.870e+02, 3.760e+02, 2.680e+02,\n",
              "         2.380e+02, 2.050e+02, 1.740e+02, 1.600e+02, 6.400e+01, 1.350e+02,\n",
              "         7.900e+01, 7.500e+01, 6.400e+01, 5.100e+01, 3.200e+01, 1.200e+01,\n",
              "         6.000e+00],\n",
              "        [1.617e+03, 5.524e+03, 3.289e+03, 2.335e+03, 1.255e+03, 9.060e+02,\n",
              "         6.950e+02, 6.710e+02, 2.920e+02, 4.610e+02, 3.610e+02, 2.270e+02,\n",
              "         1.750e+02, 1.370e+02, 1.440e+02, 8.200e+01, 4.000e+01, 8.000e+01,\n",
              "         5.900e+01, 6.600e+01, 6.600e+01, 4.000e+01, 3.700e+01, 2.700e+01,\n",
              "         1.400e+01]]),\n",
              " array([6.11111111e-03, 9.56311111e-01, 1.90651111e+00, 2.85671111e+00,\n",
              "        3.80691111e+00, 4.75711111e+00, 5.70731111e+00, 6.65751111e+00,\n",
              "        7.60771111e+00, 8.55791111e+00, 9.50811111e+00, 1.04583111e+01,\n",
              "        1.14085111e+01, 1.23587111e+01, 1.33089111e+01, 1.42591111e+01,\n",
              "        1.52093111e+01, 1.61595111e+01, 1.71097111e+01, 1.80599111e+01,\n",
              "        1.90101111e+01, 1.99603111e+01, 2.09105111e+01, 2.18607111e+01,\n",
              "        2.28109111e+01, 2.37611111e+01]),\n",
              " array([0.02  , 0.0388, 0.0576, 0.0764, 0.0952, 0.114 , 0.1328, 0.1516,\n",
              "        0.1704, 0.1892, 0.208 , 0.2268, 0.2456, 0.2644, 0.2832, 0.302 ,\n",
              "        0.3208, 0.3396, 0.3584, 0.3772, 0.396 , 0.4148, 0.4336, 0.4524,\n",
              "        0.4712, 0.49  ]),\n",
              " <matplotlib.collections.QuadMesh at 0x7ff565b62050>)"
            ]
          },
          "metadata": {
            "tags": []
          },
          "execution_count": 112
        },
        {
          "output_type": "display_data",
          "data": {
            "image/png": "[encoded data removed]",
            "text/plain": [
              "<Figure size 432x288 with 1 Axes>"
            ]
          },
          "metadata": {
            "tags": [],
            "needs_background": "light"
          }
        }
      ]
    },
    {
      "cell_type": "code",
      "metadata": {
        "colab": {
          "base_uri": "https://localhost:8080/",
          "height": 165
        },
        "id": "B1-FRyST8_0N",
        "outputId": "43f221fe-40d9-47fe-fec7-912119dd6bc9"
      },
      "source": [
        "plt.hist2d(s4.index.minute.values,s4.S4.values,bins=40)"
      ],
      "execution_count": null,
      "outputs": [
        {
          "output_type": "error",
          "ename": "AttributeError",
          "evalue": "ignored",
          "traceback": [
            "\u001b[0;31m---------------------------------------------------------------------------\u001b[0m",
            "\u001b[0;31mAttributeError\u001b[0m                            Traceback (most recent call last)",
            "\u001b[0;32m<ipython-input-103-d3d68dee50c6>\u001b[0m in \u001b[0;36m<module>\u001b[0;34m()\u001b[0m\n\u001b[0;32m----> 1\u001b[0;31m \u001b[0mplt\u001b[0m\u001b[0;34m.\u001b[0m\u001b[0mhist2d\u001b[0m\u001b[0;34m(\u001b[0m\u001b[0ms4\u001b[0m\u001b[0;34m.\u001b[0m\u001b[0mindex\u001b[0m\u001b[0;34m.\u001b[0m\u001b[0mminute\u001b[0m\u001b[0;34m.\u001b[0m\u001b[0mvalues\u001b[0m\u001b[0;34m,\u001b[0m\u001b[0ms4\u001b[0m\u001b[0;34m.\u001b[0m\u001b[0mS4\u001b[0m\u001b[0;34m.\u001b[0m\u001b[0mvalues\u001b[0m\u001b[0;34m,\u001b[0m\u001b[0mbins\u001b[0m\u001b[0;34m=\u001b[0m\u001b[0;36m40\u001b[0m\u001b[0;34m)\u001b[0m\u001b[0;34m\u001b[0m\u001b[0;34m\u001b[0m\u001b[0m\n\u001b[0m",
            "\u001b[0;31mAttributeError\u001b[0m: 'RangeIndex' object has no attribute 'minute'"
          ]
        }
      ]
    },
    {
      "cell_type": "code",
      "metadata": {
        "colab": {
          "base_uri": "https://localhost:8080/",
          "height": 438
        },
        "id": "H7v144aB4aDs",
        "outputId": "434ace7a-566b-43a3-c8b7-f40e6386c7fe"
      },
      "source": [
        "import numpy as np\n",
        "import numpy.random\n",
        "import matplotlib.pyplot as plt\n",
        "\n",
        "\n",
        "heatmap, xedges, yedges = np.histogram2d(x, y, bins=50)\n",
        "extent = [xedges[0], xedges[-1], yedges[0], yedges[-1]]\n",
        "\n",
        "plt.clf()\n",
        "plt.imshow(heatmap.T, extent=extent, origin='lower')\n",
        "plt.show()"
      ],
      "execution_count": null,
      "outputs": [
        {
          "output_type": "error",
          "ename": "ValueError",
          "evalue": "ignored",
          "traceback": [
            "\u001b[0;31m---------------------------------------------------------------------------\u001b[0m",
            "\u001b[0;31mValueError\u001b[0m                                Traceback (most recent call last)",
            "\u001b[0;32m<ipython-input-58-c8949f2e31c9>\u001b[0m in \u001b[0;36m<module>\u001b[0;34m()\u001b[0m\n\u001b[1;32m      4\u001b[0m \u001b[0;34m\u001b[0m\u001b[0m\n\u001b[1;32m      5\u001b[0m \u001b[0;34m\u001b[0m\u001b[0m\n\u001b[0;32m----> 6\u001b[0;31m \u001b[0mheatmap\u001b[0m\u001b[0;34m,\u001b[0m \u001b[0mxedges\u001b[0m\u001b[0;34m,\u001b[0m \u001b[0myedges\u001b[0m \u001b[0;34m=\u001b[0m \u001b[0mnp\u001b[0m\u001b[0;34m.\u001b[0m\u001b[0mhistogram2d\u001b[0m\u001b[0;34m(\u001b[0m\u001b[0mx\u001b[0m\u001b[0;34m,\u001b[0m \u001b[0my\u001b[0m\u001b[0;34m,\u001b[0m \u001b[0mbins\u001b[0m\u001b[0;34m=\u001b[0m\u001b[0;36m50\u001b[0m\u001b[0;34m)\u001b[0m\u001b[0;34m\u001b[0m\u001b[0;34m\u001b[0m\u001b[0m\n\u001b[0m\u001b[1;32m      7\u001b[0m \u001b[0mextent\u001b[0m \u001b[0;34m=\u001b[0m \u001b[0;34m[\u001b[0m\u001b[0mxedges\u001b[0m\u001b[0;34m[\u001b[0m\u001b[0;36m0\u001b[0m\u001b[0;34m]\u001b[0m\u001b[0;34m,\u001b[0m \u001b[0mxedges\u001b[0m\u001b[0;34m[\u001b[0m\u001b[0;34m-\u001b[0m\u001b[0;36m1\u001b[0m\u001b[0;34m]\u001b[0m\u001b[0;34m,\u001b[0m \u001b[0myedges\u001b[0m\u001b[0;34m[\u001b[0m\u001b[0;36m0\u001b[0m\u001b[0;34m]\u001b[0m\u001b[0;34m,\u001b[0m \u001b[0myedges\u001b[0m\u001b[0;34m[\u001b[0m\u001b[0;34m-\u001b[0m\u001b[0;36m1\u001b[0m\u001b[0;34m]\u001b[0m\u001b[0;34m]\u001b[0m\u001b[0;34m\u001b[0m\u001b[0;34m\u001b[0m\u001b[0m\n\u001b[1;32m      8\u001b[0m \u001b[0;34m\u001b[0m\u001b[0m\n",
            "\u001b[0;32m<__array_function__ internals>\u001b[0m in \u001b[0;36mhistogram2d\u001b[0;34m(*args, **kwargs)\u001b[0m\n",
            "\u001b[0;32m/usr/local/lib/python3.7/dist-packages/numpy/lib/twodim_base.py\u001b[0m in \u001b[0;36mhistogram2d\u001b[0;34m(x, y, bins, range, normed, weights, density)\u001b[0m\n\u001b[1;32m    711\u001b[0m         \u001b[0mxedges\u001b[0m \u001b[0;34m=\u001b[0m \u001b[0myedges\u001b[0m \u001b[0;34m=\u001b[0m \u001b[0masarray\u001b[0m\u001b[0;34m(\u001b[0m\u001b[0mbins\u001b[0m\u001b[0;34m)\u001b[0m\u001b[0;34m\u001b[0m\u001b[0;34m\u001b[0m\u001b[0m\n\u001b[1;32m    712\u001b[0m         \u001b[0mbins\u001b[0m \u001b[0;34m=\u001b[0m \u001b[0;34m[\u001b[0m\u001b[0mxedges\u001b[0m\u001b[0;34m,\u001b[0m \u001b[0myedges\u001b[0m\u001b[0;34m]\u001b[0m\u001b[0;34m\u001b[0m\u001b[0;34m\u001b[0m\u001b[0m\n\u001b[0;32m--> 713\u001b[0;31m     \u001b[0mhist\u001b[0m\u001b[0;34m,\u001b[0m \u001b[0medges\u001b[0m \u001b[0;34m=\u001b[0m \u001b[0mhistogramdd\u001b[0m\u001b[0;34m(\u001b[0m\u001b[0;34m[\u001b[0m\u001b[0mx\u001b[0m\u001b[0;34m,\u001b[0m \u001b[0my\u001b[0m\u001b[0;34m]\u001b[0m\u001b[0;34m,\u001b[0m \u001b[0mbins\u001b[0m\u001b[0;34m,\u001b[0m \u001b[0mrange\u001b[0m\u001b[0;34m,\u001b[0m \u001b[0mnormed\u001b[0m\u001b[0;34m,\u001b[0m \u001b[0mweights\u001b[0m\u001b[0;34m,\u001b[0m \u001b[0mdensity\u001b[0m\u001b[0;34m)\u001b[0m\u001b[0;34m\u001b[0m\u001b[0;34m\u001b[0m\u001b[0m\n\u001b[0m\u001b[1;32m    714\u001b[0m     \u001b[0;32mreturn\u001b[0m \u001b[0mhist\u001b[0m\u001b[0;34m,\u001b[0m \u001b[0medges\u001b[0m\u001b[0;34m[\u001b[0m\u001b[0;36m0\u001b[0m\u001b[0;34m]\u001b[0m\u001b[0;34m,\u001b[0m \u001b[0medges\u001b[0m\u001b[0;34m[\u001b[0m\u001b[0;36m1\u001b[0m\u001b[0;34m]\u001b[0m\u001b[0;34m\u001b[0m\u001b[0;34m\u001b[0m\u001b[0m\n\u001b[1;32m    715\u001b[0m \u001b[0;34m\u001b[0m\u001b[0m\n",
            "\u001b[0;32m<__array_function__ internals>\u001b[0m in \u001b[0;36mhistogramdd\u001b[0;34m(*args, **kwargs)\u001b[0m\n",
            "\u001b[0;32m/usr/local/lib/python3.7/dist-packages/numpy/lib/histograms.py\u001b[0m in \u001b[0;36mhistogramdd\u001b[0;34m(sample, bins, range, normed, weights, density)\u001b[0m\n\u001b[1;32m   1047\u001b[0m                 raise ValueError(\n\u001b[1;32m   1048\u001b[0m                     '`bins[{}]` must be positive, when an integer'.format(i))\n\u001b[0;32m-> 1049\u001b[0;31m             \u001b[0msmin\u001b[0m\u001b[0;34m,\u001b[0m \u001b[0msmax\u001b[0m \u001b[0;34m=\u001b[0m \u001b[0m_get_outer_edges\u001b[0m\u001b[0;34m(\u001b[0m\u001b[0msample\u001b[0m\u001b[0;34m[\u001b[0m\u001b[0;34m:\u001b[0m\u001b[0;34m,\u001b[0m\u001b[0mi\u001b[0m\u001b[0;34m]\u001b[0m\u001b[0;34m,\u001b[0m \u001b[0mrange\u001b[0m\u001b[0;34m[\u001b[0m\u001b[0mi\u001b[0m\u001b[0;34m]\u001b[0m\u001b[0;34m)\u001b[0m\u001b[0;34m\u001b[0m\u001b[0;34m\u001b[0m\u001b[0m\n\u001b[0m\u001b[1;32m   1050\u001b[0m             \u001b[0;32mtry\u001b[0m\u001b[0;34m:\u001b[0m\u001b[0;34m\u001b[0m\u001b[0;34m\u001b[0m\u001b[0m\n\u001b[1;32m   1051\u001b[0m                 \u001b[0mn\u001b[0m \u001b[0;34m=\u001b[0m \u001b[0moperator\u001b[0m\u001b[0;34m.\u001b[0m\u001b[0mindex\u001b[0m\u001b[0;34m(\u001b[0m\u001b[0mbins\u001b[0m\u001b[0;34m[\u001b[0m\u001b[0mi\u001b[0m\u001b[0;34m]\u001b[0m\u001b[0;34m)\u001b[0m\u001b[0;34m\u001b[0m\u001b[0;34m\u001b[0m\u001b[0m\n",
            "\u001b[0;32m/usr/local/lib/python3.7/dist-packages/numpy/lib/histograms.py\u001b[0m in \u001b[0;36m_get_outer_edges\u001b[0;34m(a, range)\u001b[0m\n\u001b[1;32m    322\u001b[0m         \u001b[0;32mif\u001b[0m \u001b[0;32mnot\u001b[0m \u001b[0;34m(\u001b[0m\u001b[0mnp\u001b[0m\u001b[0;34m.\u001b[0m\u001b[0misfinite\u001b[0m\u001b[0;34m(\u001b[0m\u001b[0mfirst_edge\u001b[0m\u001b[0;34m)\u001b[0m \u001b[0;32mand\u001b[0m \u001b[0mnp\u001b[0m\u001b[0;34m.\u001b[0m\u001b[0misfinite\u001b[0m\u001b[0;34m(\u001b[0m\u001b[0mlast_edge\u001b[0m\u001b[0;34m)\u001b[0m\u001b[0;34m)\u001b[0m\u001b[0;34m:\u001b[0m\u001b[0;34m\u001b[0m\u001b[0;34m\u001b[0m\u001b[0m\n\u001b[1;32m    323\u001b[0m             raise ValueError(\n\u001b[0;32m--> 324\u001b[0;31m                 \"autodetected range of [{}, {}] is not finite\".format(first_edge, last_edge))\n\u001b[0m\u001b[1;32m    325\u001b[0m \u001b[0;34m\u001b[0m\u001b[0m\n\u001b[1;32m    326\u001b[0m     \u001b[0;31m# expand empty range to avoid divide by zero\u001b[0m\u001b[0;34m\u001b[0m\u001b[0;34m\u001b[0m\u001b[0;34m\u001b[0m\u001b[0m\n",
            "\u001b[0;31mValueError\u001b[0m: autodetected range of [nan, nan] is not finite"
          ]
        }
      ]
    },
    {
      "cell_type": "code",
      "metadata": {
        "colab": {
          "base_uri": "https://localhost:8080/",
          "height": 232
        },
        "id": "BvCd3Q0Z2OzU",
        "outputId": "109adfac-fe72-4592-a5b9-a9dba0de45a4"
      },
      "source": [
        "import numpy as np\n",
        "import matplotlib.pyplot as plt\n",
        "import matplotlib.cm as cm\n",
        "from scipy.ndimage.filters import gaussian_filter\n",
        "\n",
        "\n",
        "def myplot(x, y, s, bins=1000):\n",
        "    heatmap, xedges, yedges = np.histogram2d(x, y, bins=bins)\n",
        "    heatmap = gaussian_filter(heatmap, sigma=s)\n",
        "\n",
        "    extent = [xedges[0], xedges[-1], yedges[0], yedges[-1]]\n",
        "    return heatmap.T, extent\n",
        "\n",
        "\n",
        "fig, axs = plt.subplots(2, 2)\n",
        "\n",
        "# Generate some test data\n",
        "x = s4.index.values #np.random.randn(1000)\n",
        "y = s4['S4'].values #np.random.randn(1000)\n",
        "\n",
        "sigmas = [0, 16, 32, 64]\n",
        "\n",
        "for ax, s in zip(axs.flatten(), sigmas):\n",
        "    if s == 0:\n",
        "        ax.plot(x, y, 'k.', markersize=5)\n",
        "        ax.set_title(\"Scatter plot\")\n",
        "    else:\n",
        "        img, extent = myplot(x, y, s)\n",
        "        ax.imshow(img, extent=extent, origin='lower', cmap=cm.jet)\n",
        "        ax.set_title(\"Smoothing with  $\\sigma$ = %d\" % s)\n",
        "\n",
        "plt.show()"
      ],
      "execution_count": null,
      "outputs": [
        {
          "output_type": "display_data",
          "data": {
            "image/png": "[encoded data removed]",
            "text/plain": [
              "<Figure size 432x288 with 4 Axes>"
            ]
          },
          "metadata": {
            "tags": [],
            "needs_background": "light"
          }
        }
      ]
    },
    {
      "cell_type": "code",
      "metadata": {
        "id": "1dYGY87a3bZA"
      },
      "source": [
        ""
      ],
      "execution_count": null,
      "outputs": []
    }
  ]
}