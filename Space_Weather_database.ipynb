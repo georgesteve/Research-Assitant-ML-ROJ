{
  "nbformat": 4,
  "nbformat_minor": 0,
  "metadata": {
    "colab": {
      "name": "Space_Weather_database.ipynb",
      "provenance": [],
      "collapsed_sections": [],
      "authorship_tag": "ABX9TyM9buNRpV6ou5rVmXI2kh7U",
      "include_colab_link": true
    },
    "kernelspec": {
      "name": "python3",
      "display_name": "Python 3"
    },
    "language_info": {
      "name": "python"
    }
  },
  "cells": [
    {
      "cell_type": "markdown",
      "metadata": {
        "id": "view-in-github",
        "colab_type": "text"
      },
      "source": [
        "<a href=\"https://colab.research.google.com/github/georgesteve/Research-Assitant-ML-ROJ/blob/main/Space_Weather_database.ipynb\" target=\"_parent\"><img src=\"https://colab.research.google.com/assets/colab-badge.svg\" alt=\"Open In Colab\"/></a>"
      ]
    },
    {
      "cell_type": "code",
      "metadata": {
        "id": "KSusefYbnjsx"
      },
      "source": [
        "import os\n",
        "import datetime\n",
        "\n",
        "import IPython\n",
        "import IPython.display\n",
        "import matplotlib as mpl\n",
        "import matplotlib.pyplot as plt\n",
        "import numpy as np\n",
        "import pandas as pd\n",
        "import seaborn as sns\n",
        "import tensorflow as tf"
      ],
      "execution_count": null,
      "outputs": []
    },
    {
      "cell_type": "code",
      "metadata": {
        "id": "ZgmJc9xOxJWz"
      },
      "source": [
        ""
      ],
      "execution_count": null,
      "outputs": []
    },
    {
      "cell_type": "code",
      "metadata": {
        "id": "YC4SQzmhoGYR"
      },
      "source": [
        "from google.colab import drive\n",
        "drive.mount(\"/content/gdrive\")"
      ],
      "execution_count": null,
      "outputs": []
    },
    {
      "cell_type": "code",
      "metadata": {
        "id": "aAm0jZb7nm65"
      },
      "source": [
        "column_names=['Año','Day','Tiempo','Vector_B','BX','BY','BZ','SW_Proton','Kp_index','R','Dst-index','f10.7_index','AE-index']\n",
        "Data = pd.read_csv('/content/gdrive/My Drive/Data-completa/omni2_sjyVjCUEsu.lst.txt',delim_whitespace=True,names=column_names)\n"
      ],
      "execution_count": null,
      "outputs": []
    },
    {
      "cell_type": "code",
      "metadata": {
        "id": "gFbu44kGue6P"
      },
      "source": [
        "Data['date_time'] = pd.to_datetime(Data['Año']*1000+Data['Day'], format='%Y%j')+pd.Series([pd.Timedelta(hours=x) for x in Data['Tiempo']])-pd.Timedelta(hours=5)"
      ],
      "execution_count": null,
      "outputs": []
    },
    {
      "cell_type": "code",
      "metadata": {
        "id": "rtttk3HZw0bB"
      },
      "source": [
        "df = Data.drop('Año', 1)\n",
        "df = df.drop('Day', 1)\n",
        "df = df.drop('Tiempo', 1)\n",
        "df.set_index('date_time', inplace=True)"
      ],
      "execution_count": null,
      "outputs": []
    },
    {
      "cell_type": "code",
      "metadata": {
        "id": "5TxF7EAooUKj"
      },
      "source": [
        "s4 = pd.read_csv('/content/gdrive/My Drive/Data-completa/S4 2015-2017.csv',index_col=False) \n",
        "s4=s4.drop(columns=['Unnamed: 0'])"
      ],
      "execution_count": null,
      "outputs": []
    },
    {
      "cell_type": "code",
      "metadata": {
        "id": "Nd4VFYOpsplF"
      },
      "source": [
        "s4['Az']=s4['Az']+90\n",
        "s4['Az']=s4['Az'].apply(lambda x: x-360 if x>360 else x)\n",
        "s4['Az']=s4['Az']*np.pi/(180)\n",
        "s4['date_time'] = pd.to_datetime(s4['Año']*1000+s4['Day'], format='%y%j')+pd.Series([pd.Timedelta(seconds=x) for x in s4['Tiempo']])-pd.Timedelta(hours=5)\n"
      ],
      "execution_count": null,
      "outputs": []
    },
    {
      "cell_type": "code",
      "metadata": {
        "id": "Yc_zJ4RH5Fyj"
      },
      "source": [
        "s4_clean=s4[s4['Elv']>30]\n",
        "s4_clean=s4_clean[np.isfinite(s4_clean['S4'])]\n",
        "s4_clean.set_index('date_time', inplace=True)\n"
      ],
      "execution_count": null,
      "outputs": []
    },
    {
      "cell_type": "code",
      "metadata": {
        "colab": {
          "base_uri": "https://localhost:8080/"
        },
        "id": "J62--mjG4w8n",
        "outputId": "4ba54757-701b-4d28-9810-34cd4b8ac6c1"
      },
      "source": [
        "print(s4_clean)\n"
      ],
      "execution_count": null,
      "outputs": [
        {
          "output_type": "stream",
          "text": [
            "                     Año  Day  Tiempo  PRN    S4        Az   Elv\n",
            "date_time                                                       \n",
            "2014-12-31 19:00:27   15    1      27   16  0.04  1.591571  66.6\n",
            "2014-12-31 19:00:27   15    1      27   22  0.03  1.669096  70.4\n",
            "2014-12-31 19:00:27   15    1      27   27  0.08  1.575091  35.6\n",
            "2014-12-31 19:00:27   15    1      27  138  0.04  1.603817  50.6\n",
            "2014-12-31 19:01:27   15    1      87   16  0.03  1.591937  66.8\n",
            "...                  ...  ...     ...  ...   ...       ...   ...\n",
            "2017-11-06 15:23:22   17  310   73402  138  0.04  1.603786  50.6\n",
            "2017-11-06 15:24:22   17  310   73462   21  0.03  1.616915  59.0\n",
            "2017-11-06 15:24:22   17  310   73462   25  0.07  1.669797  45.4\n",
            "2017-11-06 15:24:22   17  310   73462   29  0.05  1.679392  37.8\n",
            "2017-11-06 15:24:22   17  310   73462  138  0.04  1.603786  50.6\n",
            "\n",
            "[7955542 rows x 7 columns]\n"
          ],
          "name": "stdout"
        }
      ]
    },
    {
      "cell_type": "code",
      "metadata": {
        "id": "dTzdbrbttIKk"
      },
      "source": [
        "s4_5min=s4_clean.resample(\"5min\").mean()\n",
        "Data_5min=df.resample(\"5min\").pad()"
      ],
      "execution_count": null,
      "outputs": []
    },
    {
      "cell_type": "code",
      "metadata": {
        "colab": {
          "base_uri": "https://localhost:8080/",
          "height": 431
        },
        "id": "Eg2etPeo4kAr",
        "outputId": "4c35f80f-f7c8-42ae-bc0b-2bfbeae24334"
      },
      "source": [
        "s4_5min.head(80)"
      ],
      "execution_count": null,
      "outputs": [
        {
          "output_type": "execute_result",
          "data": {
            "text/html": [
              "<div>\n",
              "<style scoped>\n",
              "    .dataframe tbody tr th:only-of-type {\n",
              "        vertical-align: middle;\n",
              "    }\n",
              "\n",
              "    .dataframe tbody tr th {\n",
              "        vertical-align: top;\n",
              "    }\n",
              "\n",
              "    .dataframe thead th {\n",
              "        text-align: right;\n",
              "    }\n",
              "</style>\n",
              "<table border=\"1\" class=\"dataframe\">\n",
              "  <thead>\n",
              "    <tr style=\"text-align: right;\">\n",
              "      <th></th>\n",
              "      <th>Año</th>\n",
              "      <th>Day</th>\n",
              "      <th>Tiempo</th>\n",
              "      <th>PRN</th>\n",
              "      <th>S4</th>\n",
              "      <th>Az</th>\n",
              "      <th>Elv</th>\n",
              "    </tr>\n",
              "    <tr>\n",
              "      <th>date_time</th>\n",
              "      <th></th>\n",
              "      <th></th>\n",
              "      <th></th>\n",
              "      <th></th>\n",
              "      <th></th>\n",
              "      <th></th>\n",
              "      <th></th>\n",
              "    </tr>\n",
              "  </thead>\n",
              "  <tbody>\n",
              "    <tr>\n",
              "      <th>2014-12-31 19:00:00</th>\n",
              "      <td>15.0</td>\n",
              "      <td>1.0</td>\n",
              "      <td>147.000000</td>\n",
              "      <td>50.75000</td>\n",
              "      <td>0.043500</td>\n",
              "      <td>1.610124</td>\n",
              "      <td>55.830000</td>\n",
              "    </tr>\n",
              "    <tr>\n",
              "      <th>2014-12-31 19:05:00</th>\n",
              "      <td>15.0</td>\n",
              "      <td>1.0</td>\n",
              "      <td>447.000000</td>\n",
              "      <td>50.75000</td>\n",
              "      <td>0.039500</td>\n",
              "      <td>1.610694</td>\n",
              "      <td>55.860000</td>\n",
              "    </tr>\n",
              "    <tr>\n",
              "      <th>2014-12-31 19:10:00</th>\n",
              "      <td>15.0</td>\n",
              "      <td>1.0</td>\n",
              "      <td>752.000000</td>\n",
              "      <td>47.62500</td>\n",
              "      <td>0.048333</td>\n",
              "      <td>1.611870</td>\n",
              "      <td>51.662500</td>\n",
              "    </tr>\n",
              "    <tr>\n",
              "      <th>2014-12-31 19:15:00</th>\n",
              "      <td>15.0</td>\n",
              "      <td>1.0</td>\n",
              "      <td>1047.000000</td>\n",
              "      <td>47.00000</td>\n",
              "      <td>0.046000</td>\n",
              "      <td>1.612371</td>\n",
              "      <td>51.092000</td>\n",
              "    </tr>\n",
              "    <tr>\n",
              "      <th>2014-12-31 19:20:00</th>\n",
              "      <td>15.0</td>\n",
              "      <td>1.0</td>\n",
              "      <td>1347.000000</td>\n",
              "      <td>41.50000</td>\n",
              "      <td>0.055667</td>\n",
              "      <td>1.617576</td>\n",
              "      <td>47.876667</td>\n",
              "    </tr>\n",
              "    <tr>\n",
              "      <th>...</th>\n",
              "      <td>...</td>\n",
              "      <td>...</td>\n",
              "      <td>...</td>\n",
              "      <td>...</td>\n",
              "      <td>...</td>\n",
              "      <td>...</td>\n",
              "      <td>...</td>\n",
              "    </tr>\n",
              "    <tr>\n",
              "      <th>2015-01-01 01:15:00</th>\n",
              "      <td>15.0</td>\n",
              "      <td>1.0</td>\n",
              "      <td>22647.000000</td>\n",
              "      <td>24.00000</td>\n",
              "      <td>0.063111</td>\n",
              "      <td>1.623986</td>\n",
              "      <td>46.642222</td>\n",
              "    </tr>\n",
              "    <tr>\n",
              "      <th>2015-01-01 01:20:00</th>\n",
              "      <td>15.0</td>\n",
              "      <td>1.0</td>\n",
              "      <td>22947.000000</td>\n",
              "      <td>24.00000</td>\n",
              "      <td>0.061778</td>\n",
              "      <td>1.628228</td>\n",
              "      <td>46.095556</td>\n",
              "    </tr>\n",
              "    <tr>\n",
              "      <th>2015-01-01 01:25:00</th>\n",
              "      <td>15.0</td>\n",
              "      <td>1.0</td>\n",
              "      <td>23247.000000</td>\n",
              "      <td>24.00000</td>\n",
              "      <td>0.064667</td>\n",
              "      <td>1.627631</td>\n",
              "      <td>45.544444</td>\n",
              "    </tr>\n",
              "    <tr>\n",
              "      <th>2015-01-01 01:30:00</th>\n",
              "      <td>15.0</td>\n",
              "      <td>1.0</td>\n",
              "      <td>23544.073171</td>\n",
              "      <td>25.95122</td>\n",
              "      <td>0.059024</td>\n",
              "      <td>1.628690</td>\n",
              "      <td>46.490244</td>\n",
              "    </tr>\n",
              "    <tr>\n",
              "      <th>2015-01-01 01:35:00</th>\n",
              "      <td>15.0</td>\n",
              "      <td>1.0</td>\n",
              "      <td>23847.000000</td>\n",
              "      <td>26.50000</td>\n",
              "      <td>0.061250</td>\n",
              "      <td>1.638862</td>\n",
              "      <td>46.487500</td>\n",
              "    </tr>\n",
              "  </tbody>\n",
              "</table>\n",
              "<p>80 rows × 7 columns</p>\n",
              "</div>"
            ],
            "text/plain": [
              "                      Año  Day        Tiempo  ...        S4        Az        Elv\n",
              "date_time                                     ...                               \n",
              "2014-12-31 19:00:00  15.0  1.0    147.000000  ...  0.043500  1.610124  55.830000\n",
              "2014-12-31 19:05:00  15.0  1.0    447.000000  ...  0.039500  1.610694  55.860000\n",
              "2014-12-31 19:10:00  15.0  1.0    752.000000  ...  0.048333  1.611870  51.662500\n",
              "2014-12-31 19:15:00  15.0  1.0   1047.000000  ...  0.046000  1.612371  51.092000\n",
              "2014-12-31 19:20:00  15.0  1.0   1347.000000  ...  0.055667  1.617576  47.876667\n",
              "...                   ...  ...           ...  ...       ...       ...        ...\n",
              "2015-01-01 01:15:00  15.0  1.0  22647.000000  ...  0.063111  1.623986  46.642222\n",
              "2015-01-01 01:20:00  15.0  1.0  22947.000000  ...  0.061778  1.628228  46.095556\n",
              "2015-01-01 01:25:00  15.0  1.0  23247.000000  ...  0.064667  1.627631  45.544444\n",
              "2015-01-01 01:30:00  15.0  1.0  23544.073171  ...  0.059024  1.628690  46.490244\n",
              "2015-01-01 01:35:00  15.0  1.0  23847.000000  ...  0.061250  1.638862  46.487500\n",
              "\n",
              "[80 rows x 7 columns]"
            ]
          },
          "metadata": {
            "tags": []
          },
          "execution_count": 54
        }
      ]
    },
    {
      "cell_type": "code",
      "metadata": {
        "colab": {
          "base_uri": "https://localhost:8080/",
          "height": 225
        },
        "id": "8OqriUyx6lu0",
        "outputId": "7024fceb-0801-471f-96e5-2993012352d4"
      },
      "source": [
        "Data_5min.head()"
      ],
      "execution_count": null,
      "outputs": [
        {
          "output_type": "execute_result",
          "data": {
            "text/html": [
              "<div>\n",
              "<style scoped>\n",
              "    .dataframe tbody tr th:only-of-type {\n",
              "        vertical-align: middle;\n",
              "    }\n",
              "\n",
              "    .dataframe tbody tr th {\n",
              "        vertical-align: top;\n",
              "    }\n",
              "\n",
              "    .dataframe thead th {\n",
              "        text-align: right;\n",
              "    }\n",
              "</style>\n",
              "<table border=\"1\" class=\"dataframe\">\n",
              "  <thead>\n",
              "    <tr style=\"text-align: right;\">\n",
              "      <th></th>\n",
              "      <th>Vector_B</th>\n",
              "      <th>BX</th>\n",
              "      <th>BY</th>\n",
              "      <th>BZ</th>\n",
              "      <th>SW_Proton</th>\n",
              "      <th>Kp_index</th>\n",
              "      <th>R</th>\n",
              "      <th>Dst-index</th>\n",
              "      <th>f10.7_index</th>\n",
              "      <th>AE-index</th>\n",
              "    </tr>\n",
              "    <tr>\n",
              "      <th>date_time</th>\n",
              "      <th></th>\n",
              "      <th></th>\n",
              "      <th></th>\n",
              "      <th></th>\n",
              "      <th></th>\n",
              "      <th></th>\n",
              "      <th></th>\n",
              "      <th></th>\n",
              "      <th></th>\n",
              "      <th></th>\n",
              "    </tr>\n",
              "  </thead>\n",
              "  <tbody>\n",
              "    <tr>\n",
              "      <th>2014-12-31 19:00:00</th>\n",
              "      <td>6.1</td>\n",
              "      <td>5.1</td>\n",
              "      <td>-2.9</td>\n",
              "      <td>1.1</td>\n",
              "      <td>2.8</td>\n",
              "      <td>23</td>\n",
              "      <td>104</td>\n",
              "      <td>-14</td>\n",
              "      <td>132.9</td>\n",
              "      <td>42</td>\n",
              "    </tr>\n",
              "    <tr>\n",
              "      <th>2014-12-31 19:05:00</th>\n",
              "      <td>6.1</td>\n",
              "      <td>5.1</td>\n",
              "      <td>-2.9</td>\n",
              "      <td>1.1</td>\n",
              "      <td>2.8</td>\n",
              "      <td>23</td>\n",
              "      <td>104</td>\n",
              "      <td>-14</td>\n",
              "      <td>132.9</td>\n",
              "      <td>42</td>\n",
              "    </tr>\n",
              "    <tr>\n",
              "      <th>2014-12-31 19:10:00</th>\n",
              "      <td>6.1</td>\n",
              "      <td>5.1</td>\n",
              "      <td>-2.9</td>\n",
              "      <td>1.1</td>\n",
              "      <td>2.8</td>\n",
              "      <td>23</td>\n",
              "      <td>104</td>\n",
              "      <td>-14</td>\n",
              "      <td>132.9</td>\n",
              "      <td>42</td>\n",
              "    </tr>\n",
              "    <tr>\n",
              "      <th>2014-12-31 19:15:00</th>\n",
              "      <td>6.1</td>\n",
              "      <td>5.1</td>\n",
              "      <td>-2.9</td>\n",
              "      <td>1.1</td>\n",
              "      <td>2.8</td>\n",
              "      <td>23</td>\n",
              "      <td>104</td>\n",
              "      <td>-14</td>\n",
              "      <td>132.9</td>\n",
              "      <td>42</td>\n",
              "    </tr>\n",
              "    <tr>\n",
              "      <th>2014-12-31 19:20:00</th>\n",
              "      <td>6.1</td>\n",
              "      <td>5.1</td>\n",
              "      <td>-2.9</td>\n",
              "      <td>1.1</td>\n",
              "      <td>2.8</td>\n",
              "      <td>23</td>\n",
              "      <td>104</td>\n",
              "      <td>-14</td>\n",
              "      <td>132.9</td>\n",
              "      <td>42</td>\n",
              "    </tr>\n",
              "  </tbody>\n",
              "</table>\n",
              "</div>"
            ],
            "text/plain": [
              "                     Vector_B   BX   BY  ...  Dst-index  f10.7_index  AE-index\n",
              "date_time                                ...                                  \n",
              "2014-12-31 19:00:00       6.1  5.1 -2.9  ...        -14        132.9        42\n",
              "2014-12-31 19:05:00       6.1  5.1 -2.9  ...        -14        132.9        42\n",
              "2014-12-31 19:10:00       6.1  5.1 -2.9  ...        -14        132.9        42\n",
              "2014-12-31 19:15:00       6.1  5.1 -2.9  ...        -14        132.9        42\n",
              "2014-12-31 19:20:00       6.1  5.1 -2.9  ...        -14        132.9        42\n",
              "\n",
              "[5 rows x 10 columns]"
            ]
          },
          "metadata": {
            "tags": []
          },
          "execution_count": 50
        }
      ]
    },
    {
      "cell_type": "code",
      "metadata": {
        "id": "4u6TR6GZ6o_h"
      },
      "source": [
        "merge=pd.merge(s4_5min,Data_5min, how='inner', left_index=True, right_index=True)"
      ],
      "execution_count": null,
      "outputs": []
    },
    {
      "cell_type": "code",
      "metadata": {
        "colab": {
          "base_uri": "https://localhost:8080/",
          "height": 430
        },
        "id": "HXDIzYS1-Yn3",
        "outputId": "85edaedd-e560-47c7-c21b-0c7c3569d60d"
      },
      "source": [
        "merge.head()"
      ],
      "execution_count": null,
      "outputs": [
        {
          "output_type": "execute_result",
          "data": {
            "text/html": [
              "<div>\n",
              "<style scoped>\n",
              "    .dataframe tbody tr th:only-of-type {\n",
              "        vertical-align: middle;\n",
              "    }\n",
              "\n",
              "    .dataframe tbody tr th {\n",
              "        vertical-align: top;\n",
              "    }\n",
              "\n",
              "    .dataframe thead th {\n",
              "        text-align: right;\n",
              "    }\n",
              "</style>\n",
              "<table border=\"1\" class=\"dataframe\">\n",
              "  <thead>\n",
              "    <tr style=\"text-align: right;\">\n",
              "      <th></th>\n",
              "      <th>Año</th>\n",
              "      <th>Day</th>\n",
              "      <th>Tiempo</th>\n",
              "      <th>PRN</th>\n",
              "      <th>S4</th>\n",
              "      <th>Az</th>\n",
              "      <th>Elv</th>\n",
              "      <th>Vector_B</th>\n",
              "      <th>BX</th>\n",
              "      <th>BY</th>\n",
              "      <th>BZ</th>\n",
              "      <th>SW_Proton</th>\n",
              "      <th>Kp_index</th>\n",
              "      <th>R</th>\n",
              "      <th>Dst-index</th>\n",
              "      <th>f10.7_index</th>\n",
              "      <th>AE-index</th>\n",
              "    </tr>\n",
              "    <tr>\n",
              "      <th>date_time</th>\n",
              "      <th></th>\n",
              "      <th></th>\n",
              "      <th></th>\n",
              "      <th></th>\n",
              "      <th></th>\n",
              "      <th></th>\n",
              "      <th></th>\n",
              "      <th></th>\n",
              "      <th></th>\n",
              "      <th></th>\n",
              "      <th></th>\n",
              "      <th></th>\n",
              "      <th></th>\n",
              "      <th></th>\n",
              "      <th></th>\n",
              "      <th></th>\n",
              "      <th></th>\n",
              "    </tr>\n",
              "  </thead>\n",
              "  <tbody>\n",
              "    <tr>\n",
              "      <th>2014-12-31 19:00:00</th>\n",
              "      <td>15.0</td>\n",
              "      <td>1.0</td>\n",
              "      <td>147.0</td>\n",
              "      <td>50.750</td>\n",
              "      <td>0.043500</td>\n",
              "      <td>1.610124</td>\n",
              "      <td>55.830000</td>\n",
              "      <td>6.1</td>\n",
              "      <td>5.1</td>\n",
              "      <td>-2.9</td>\n",
              "      <td>1.1</td>\n",
              "      <td>2.8</td>\n",
              "      <td>23</td>\n",
              "      <td>104</td>\n",
              "      <td>-14</td>\n",
              "      <td>132.9</td>\n",
              "      <td>42</td>\n",
              "    </tr>\n",
              "    <tr>\n",
              "      <th>2014-12-31 19:05:00</th>\n",
              "      <td>15.0</td>\n",
              "      <td>1.0</td>\n",
              "      <td>447.0</td>\n",
              "      <td>50.750</td>\n",
              "      <td>0.039500</td>\n",
              "      <td>1.610694</td>\n",
              "      <td>55.860000</td>\n",
              "      <td>6.1</td>\n",
              "      <td>5.1</td>\n",
              "      <td>-2.9</td>\n",
              "      <td>1.1</td>\n",
              "      <td>2.8</td>\n",
              "      <td>23</td>\n",
              "      <td>104</td>\n",
              "      <td>-14</td>\n",
              "      <td>132.9</td>\n",
              "      <td>42</td>\n",
              "    </tr>\n",
              "    <tr>\n",
              "      <th>2014-12-31 19:10:00</th>\n",
              "      <td>15.0</td>\n",
              "      <td>1.0</td>\n",
              "      <td>752.0</td>\n",
              "      <td>47.625</td>\n",
              "      <td>0.048333</td>\n",
              "      <td>1.611870</td>\n",
              "      <td>51.662500</td>\n",
              "      <td>6.1</td>\n",
              "      <td>5.1</td>\n",
              "      <td>-2.9</td>\n",
              "      <td>1.1</td>\n",
              "      <td>2.8</td>\n",
              "      <td>23</td>\n",
              "      <td>104</td>\n",
              "      <td>-14</td>\n",
              "      <td>132.9</td>\n",
              "      <td>42</td>\n",
              "    </tr>\n",
              "    <tr>\n",
              "      <th>2014-12-31 19:15:00</th>\n",
              "      <td>15.0</td>\n",
              "      <td>1.0</td>\n",
              "      <td>1047.0</td>\n",
              "      <td>47.000</td>\n",
              "      <td>0.046000</td>\n",
              "      <td>1.612371</td>\n",
              "      <td>51.092000</td>\n",
              "      <td>6.1</td>\n",
              "      <td>5.1</td>\n",
              "      <td>-2.9</td>\n",
              "      <td>1.1</td>\n",
              "      <td>2.8</td>\n",
              "      <td>23</td>\n",
              "      <td>104</td>\n",
              "      <td>-14</td>\n",
              "      <td>132.9</td>\n",
              "      <td>42</td>\n",
              "    </tr>\n",
              "    <tr>\n",
              "      <th>2014-12-31 19:20:00</th>\n",
              "      <td>15.0</td>\n",
              "      <td>1.0</td>\n",
              "      <td>1347.0</td>\n",
              "      <td>41.500</td>\n",
              "      <td>0.055667</td>\n",
              "      <td>1.617576</td>\n",
              "      <td>47.876667</td>\n",
              "      <td>6.1</td>\n",
              "      <td>5.1</td>\n",
              "      <td>-2.9</td>\n",
              "      <td>1.1</td>\n",
              "      <td>2.8</td>\n",
              "      <td>23</td>\n",
              "      <td>104</td>\n",
              "      <td>-14</td>\n",
              "      <td>132.9</td>\n",
              "      <td>42</td>\n",
              "    </tr>\n",
              "  </tbody>\n",
              "</table>\n",
              "</div>"
            ],
            "text/plain": [
              "                      Año  Day  Tiempo  ...  Dst-index  f10.7_index  AE-index\n",
              "date_time                               ...                                  \n",
              "2014-12-31 19:00:00  15.0  1.0   147.0  ...        -14        132.9        42\n",
              "2014-12-31 19:05:00  15.0  1.0   447.0  ...        -14        132.9        42\n",
              "2014-12-31 19:10:00  15.0  1.0   752.0  ...        -14        132.9        42\n",
              "2014-12-31 19:15:00  15.0  1.0  1047.0  ...        -14        132.9        42\n",
              "2014-12-31 19:20:00  15.0  1.0  1347.0  ...        -14        132.9        42\n",
              "\n",
              "[5 rows x 17 columns]"
            ]
          },
          "metadata": {
            "tags": []
          },
          "execution_count": 52
        }
      ]
    },
    {
      "cell_type": "code",
      "metadata": {
        "colab": {
          "base_uri": "https://localhost:8080/",
          "height": 17
        },
        "id": "9qIJmxhJ-Z8P",
        "outputId": "c6712bfc-24dc-456a-b459-54b5b303ee9f"
      },
      "source": [
        "from google.colab import files\n",
        "merge.to_csv('SW-S4-2015-2017.csv')\n",
        "files.download('SW-S4-2015-2017.csv')"
      ],
      "execution_count": null,
      "outputs": [
        {
          "output_type": "display_data",
          "data": {
            "application/javascript": [
              "\n",
              "    async function download(id, filename, size) {\n",
              "      if (!google.colab.kernel.accessAllowed) {\n",
              "        return;\n",
              "      }\n",
              "      const div = document.createElement('div');\n",
              "      const label = document.createElement('label');\n",
              "      label.textContent = `Downloading \"${filename}\": `;\n",
              "      div.appendChild(label);\n",
              "      const progress = document.createElement('progress');\n",
              "      progress.max = size;\n",
              "      div.appendChild(progress);\n",
              "      document.body.appendChild(div);\n",
              "\n",
              "      const buffers = [];\n",
              "      let downloaded = 0;\n",
              "\n",
              "      const channel = await google.colab.kernel.comms.open(id);\n",
              "      // Send a message to notify the kernel that we're ready.\n",
              "      channel.send({})\n",
              "\n",
              "      for await (const message of channel.messages) {\n",
              "        // Send a message to notify the kernel that we're ready.\n",
              "        channel.send({})\n",
              "        if (message.buffers) {\n",
              "          for (const buffer of message.buffers) {\n",
              "            buffers.push(buffer);\n",
              "            downloaded += buffer.byteLength;\n",
              "            progress.value = downloaded;\n",
              "          }\n",
              "        }\n",
              "      }\n",
              "      const blob = new Blob(buffers, {type: 'application/binary'});\n",
              "      const a = document.createElement('a');\n",
              "      a.href = window.URL.createObjectURL(blob);\n",
              "      a.download = filename;\n",
              "      div.appendChild(a);\n",
              "      a.click();\n",
              "      div.remove();\n",
              "    }\n",
              "  "
            ],
            "text/plain": [
              "<IPython.core.display.Javascript object>"
            ]
          },
          "metadata": {
            "tags": []
          }
        },
        {
          "output_type": "display_data",
          "data": {
            "application/javascript": [
              "download(\"download_38654837-b365-4501-9e13-487e5c02c30a\", \"SW-S4-2015-2017.csv\", 41360808)"
            ],
            "text/plain": [
              "<IPython.core.display.Javascript object>"
            ]
          },
          "metadata": {
            "tags": []
          }
        }
      ]
    },
    {
      "cell_type": "code",
      "metadata": {
        "id": "S_gK8MNcA8eV"
      },
      "source": [
        ""
      ],
      "execution_count": null,
      "outputs": []
    }
  ]
}