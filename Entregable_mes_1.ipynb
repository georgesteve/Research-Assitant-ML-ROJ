{
  "nbformat": 4,
  "nbformat_minor": 0,
  "metadata": {
    "colab": {
      "name": "Copia de entregable mes 1",
      "provenance": [],
      "include_colab_link": true
    },
    "kernelspec": {
      "name": "python3",
      "display_name": "Python 3"
    }
  },
  "cells": [
    {
      "cell_type": "markdown",
      "metadata": {
        "id": "view-in-github",
        "colab_type": "text"
      },
      "source": [
        "<a href=\"https://colab.research.google.com/github/georgesteve/Research-Assitant-ML-ROJ/blob/main/Entregable_mes_1.ipynb\" target=\"_parent\"><img src=\"https://colab.research.google.com/assets/colab-badge.svg\" alt=\"Open In Colab\"/></a>"
      ]
    },
    {
      "cell_type": "code",
      "metadata": {
        "id": "5anmEW74IA5b"
      },
      "source": [
        "N  = 20000\n",
        "\n",
        "b   = 0.1\n",
        "c   = 0.2\n",
        "tau = 17\n",
        "\n",
        "y = [0.9697, 0.9699, 0.9794, 1.0003, 1.0319, 1.0703, 1.1076, 1.1352, 1.1485,\n",
        "     1.1482, 1.1383, 1.1234, 1.1072, 1.0928, 1.0820, 1.0756, 1.0739, 1.0759]\n",
        "\n",
        "for n in range(17,N+99):\n",
        "    y.append(y[n] - b*y[n] + c*y[n-tau]/(1+y[n-tau]**10))\n",
        "y1 = y[100:]\n",
        "x=range(0,len(y1))\n"
      ],
      "execution_count": null,
      "outputs": []
    },
    {
      "cell_type": "code",
      "metadata": {
        "colab": {
          "base_uri": "https://localhost:8080/",
          "height": 283
        },
        "id": "tUdITK_ZITkk",
        "outputId": "2a02b17a-3af8-4139-c1b4-126816271326"
      },
      "source": [
        "import matplotlib.pyplot as plt\n",
        "import numpy as np\n",
        "\n",
        "# Data for plotting\n",
        "\n",
        "fig, ax = plt.subplots()\n",
        "\n",
        "\n",
        "ax.plot(x[0:600],y1[0:600])"
      ],
      "execution_count": null,
      "outputs": [
        {
          "output_type": "execute_result",
          "data": {
            "text/plain": [
              "[<matplotlib.lines.Line2D at 0x7fd1d8ed0c88>]"
            ]
          },
          "metadata": {
            "tags": []
          },
          "execution_count": 4
        },
        {
          "output_type": "display_data",
          "data": {
            "image/png": "[encoded data removed]",
            "text/plain": [
              "<Figure size 432x288 with 1 Axes>"
            ]
          },
          "metadata": {
            "tags": [],
            "needs_background": "light"
          }
        }
      ]
    },
    {
      "cell_type": "code",
      "metadata": {
        "colab": {
          "base_uri": "https://localhost:8080/"
        },
        "id": "t_PphEmoIaRB",
        "outputId": "a92fee08-40a7-4f34-e570-2b4345fe7262"
      },
      "source": [
        "from sklearn import metrics\n",
        "import numpy as np\n",
        "\n",
        "mi=sklearn.metrics.mutual_info_score(y1,x)\n",
        "r = np.corrcoef(x, y1)\n",
        "\n",
        "print(mi)\n",
        "print(r)"
      ],
      "execution_count": null,
      "outputs": [
        {
          "output_type": "stream",
          "text": [
            "9.90348755253613\n",
            "[[ 1.         -0.00129519]\n",
            " [-0.00129519  1.        ]]\n"
          ],
          "name": "stdout"
        }
      ]
    },
    {
      "cell_type": "code",
      "metadata": {
        "colab": {
          "base_uri": "https://localhost:8080/"
        },
        "id": "843cj5aYcRn2",
        "outputId": "72a9fd16-cb91-4b38-ccf5-8dc0c6f8d707"
      },
      "source": [
        "y2 = [0.9697, 0.9699, 0.9794, 1.0003, 1.0319, 1.0703, 1.1076, 1.1352, 1.1485,\n",
        "     1.1482, 1.1383, 1.1234, 1.1072, 1.0928, 1.0820, 1.0756, 1.0739, 1.0759]\n",
        "x2=y2\n",
        "r = np.corrcoef(x2, y2)\n",
        "\n",
        "print(r)"
      ],
      "execution_count": null,
      "outputs": [
        {
          "output_type": "stream",
          "text": [
            "[[1. 1.]\n",
            " [1. 1.]]\n"
          ],
          "name": "stdout"
        }
      ]
    },
    {
      "cell_type": "code",
      "metadata": {
        "colab": {
          "base_uri": "https://localhost:8080/"
        },
        "id": "CzvZOqNhi48T",
        "outputId": "009950e0-9674-4e84-ed43-4684ef4618e9"
      },
      "source": [
        "import sklearn\n",
        "import numpy as np\n",
        "from sklearn.neighbors import NearestNeighbors\n",
        "samples = [[0, 1, 0], [1, 0, 0], [0, 0, 1]]\n",
        "neigh = NearestNeighbors(n_neighbors=2, radius=0.4)\n",
        "neigh.fit(samples)"
      ],
      "execution_count": null,
      "outputs": [
        {
          "output_type": "execute_result",
          "data": {
            "text/plain": [
              "NearestNeighbors(algorithm='auto', leaf_size=30, metric='minkowski',\n",
              "                 metric_params=None, n_jobs=None, n_neighbors=2, p=2,\n",
              "                 radius=0.4)"
            ]
          },
          "metadata": {
            "tags": []
          },
          "execution_count": 2
        }
      ]
    },
    {
      "cell_type": "code",
      "metadata": {
        "colab": {
          "base_uri": "https://localhost:8080/"
        },
        "id": "Tkd-n8uMjCIL",
        "outputId": "98741e24-2355-42a8-99f3-933f3b25f8c0"
      },
      "source": [
        "neigh.kneighbors([[0, 1, 3]], 3, return_distance=True)"
      ],
      "execution_count": null,
      "outputs": [
        {
          "output_type": "execute_result",
          "data": {
            "text/plain": [
              "(array([[2.23606798, 3.        , 3.31662479]]), array([[2, 0, 1]]))"
            ]
          },
          "metadata": {
            "tags": []
          },
          "execution_count": 15
        }
      ]
    },
    {
      "cell_type": "code",
      "metadata": {
        "colab": {
          "base_uri": "https://localhost:8080/"
        },
        "id": "KfPCdOwEjceS",
        "outputId": "1100db5f-c3d1-4cfa-f9fa-6dd7d9a1b96d"
      },
      "source": [
        "nbrs = neigh.radius_neighbors([[0, 0, 1.3]], 0.4, return_distance=False )\n",
        "print(nbrs)"
      ],
      "execution_count": null,
      "outputs": [
        {
          "output_type": "stream",
          "text": [
            "[array([2])]\n"
          ],
          "name": "stdout"
        }
      ]
    },
    {
      "cell_type": "code",
      "metadata": {
        "id": "7e7eAY4fj1_Z"
      },
      "source": [
        ""
      ],
      "execution_count": null,
      "outputs": []
    }
  ]
}